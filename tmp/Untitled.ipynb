{
 "cells": [
  {
   "cell_type": "code",
   "execution_count": 1,
   "id": "9d5fda64-eb71-4a28-8f99-1339e265f30b",
   "metadata": {},
   "outputs": [],
   "source": [
    "import rasterio\n"
   ]
  },
  {
   "cell_type": "code",
   "execution_count": 6,
   "id": "c81d573b-583c-4089-bdf8-8f3b5f198005",
   "metadata": {},
   "outputs": [],
   "source": [
    "infile = \"/home/jovyan/work/satellite_data/ask_new/all_cog_web.tif\"\n",
    "\n",
    "lon = 7507340.492885281\n",
    "lat = 1012738.2193315055\n",
    "\n",
    "# Open the raster\n",
    "with rasterio.open(infile) as dataset:\n",
    "    py, px = dataset.index(lon, lat)"
   ]
  },
  {
   "cell_type": "code",
   "execution_count": 7,
   "id": "f04b1ff1-1df8-44a2-bc4a-4d0fc78dc638",
   "metadata": {},
   "outputs": [
    {
     "data": {
      "text/plain": [
       "33185199"
      ]
     },
     "execution_count": 7,
     "metadata": {},
     "output_type": "execute_result"
    }
   ],
   "source": [
    "py"
   ]
  },
  {
   "cell_type": "code",
   "execution_count": 8,
   "id": "6db612fe-3b71-4042-a718-48a1140295f2",
   "metadata": {},
   "outputs": [
    {
     "data": {
      "text/plain": [
       "31769406"
      ]
     },
     "execution_count": 8,
     "metadata": {},
     "output_type": "execute_result"
    }
   ],
   "source": [
    "px"
   ]
  },
  {
   "cell_type": "code",
   "execution_count": 17,
   "id": "f147041a-f9e4-49b0-9b0c-1a1d5b8d4484",
   "metadata": {},
   "outputs": [],
   "source": [
    "from fiona.transform import transform\n",
    "dst_crs = \"EPSG:4326\"\n",
    "src_crs = \"EPSG:3857\"\n",
    "lon = 7507340.492885281\n",
    "lat = 1012738.2193315055\n",
    "longitude,latitude = transform(src_crs, dst_crs, [lon], [lat])"
   ]
  },
  {
   "cell_type": "code",
   "execution_count": 18,
   "id": "cc1aac41-02cc-42bd-9387-c356052cab3b",
   "metadata": {},
   "outputs": [
    {
     "data": {
      "text/plain": [
       "[67.4395870784823]"
      ]
     },
     "execution_count": 18,
     "metadata": {},
     "output_type": "execute_result"
    }
   ],
   "source": [
    "longitude"
   ]
  },
  {
   "cell_type": "code",
   "execution_count": 19,
   "id": "2f50c4f8-e21e-4332-82f6-1275cb6a3ee3",
   "metadata": {},
   "outputs": [
    {
     "data": {
      "text/plain": [
       "[9.059593423463442]"
      ]
     },
     "execution_count": 19,
     "metadata": {},
     "output_type": "execute_result"
    }
   ],
   "source": [
    "latitude"
   ]
  },
  {
   "cell_type": "code",
   "execution_count": 20,
   "id": "84a1109b-5f4b-4dd6-b31c-9e3082fb0758",
   "metadata": {},
   "outputs": [
    {
     "data": {
      "text/plain": [
       "{'driver': 'GTiff',\n",
       " 'dtype': 'uint8',\n",
       " 'nodata': 0.0,\n",
       " 'width': 3825911,\n",
       " 'height': 3092556,\n",
       " 'count': 3,\n",
       " 'crs': CRS.from_epsg(3857),\n",
       " 'transform': Affine(0.20805092429419356, 0.0, 897686.0842238902,\n",
       "        0.0, -0.20805092429419356, 7916949.670825127)}"
      ]
     },
     "execution_count": 20,
     "metadata": {},
     "output_type": "execute_result"
    }
   ],
   "source": [
    "dataset.meta"
   ]
  },
  {
   "cell_type": "code",
   "execution_count": 21,
   "id": "fa0a69c9-8ce0-42fd-8b9b-72973bc2962a",
   "metadata": {},
   "outputs": [
    {
     "data": {
      "text/plain": [
       "[(1, 5), (2, 6), (3, 7), (4, 8)]"
      ]
     },
     "execution_count": 21,
     "metadata": {},
     "output_type": "execute_result"
    }
   ],
   "source": [
    "a = [1,2,3,4]\n",
    "b = [5,6,7,8]\n",
    "list(zip(a,b))"
   ]
  },
  {
   "cell_type": "code",
   "execution_count": 22,
   "id": "4ae24d74-0f21-4848-9e6d-07484040dee7",
   "metadata": {},
   "outputs": [
    {
     "data": {
      "text/plain": [
       "295787518"
      ]
     },
     "execution_count": 22,
     "metadata": {},
     "output_type": "execute_result"
    }
   ],
   "source": [
    "3825911 // 200 * 3092556 // 200"
   ]
  }
 ],
 "metadata": {
  "kernelspec": {
   "display_name": "Python 3 (ipykernel)",
   "language": "python",
   "name": "python3"
  },
  "language_info": {
   "codemirror_mode": {
    "name": "ipython",
    "version": 3
   },
   "file_extension": ".py",
   "mimetype": "text/x-python",
   "name": "python",
   "nbconvert_exporter": "python",
   "pygments_lexer": "ipython3",
   "version": "3.8.10"
  }
 },
 "nbformat": 4,
 "nbformat_minor": 5
}
