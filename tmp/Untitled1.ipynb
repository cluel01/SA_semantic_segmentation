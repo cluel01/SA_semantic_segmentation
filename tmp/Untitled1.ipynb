{
 "cells": [
  {
   "cell_type": "code",
   "execution_count": 32,
   "id": "dbca7161-a9e9-4c4b-99a1-c5fb0b3201bf",
   "metadata": {},
   "outputs": [],
   "source": [
    "from argparse import ArgumentParser\n",
    "import shutil\n",
    "import os\n",
    "from tensorboard.backend.event_processing.event_file_inspector import get_inspection_units, print_dict, get_dict_to_print"
   ]
  },
  {
   "cell_type": "code",
   "execution_count": 4,
   "id": "1cdc9318-9b6b-4e81-8cfa-ff1c7a68ed7d",
   "metadata": {
    "scrolled": true,
    "tags": []
   },
   "outputs": [
    {
     "name": "stdout",
     "output_type": "stream",
     "text": [
      "Found event files in:\n",
      "/home/jovyan/work/notebooks/runs/unet_27_05_2022_171329\n",
      "/home/jovyan/work/notebooks/runs/unet_01_03_2023_102208\n",
      "/home/jovyan/work/notebooks/runs/unet_16_11_2022_150534\n",
      "/home/jovyan/work/notebooks/runs/unet_14_06_2022_092353\n",
      "/home/jovyan/work/notebooks/runs/unet_06_07_2022_094605\n",
      "/home/jovyan/work/notebooks/runs/unet_28_02_2023_112147\n",
      "/home/jovyan/work/notebooks/runs/unet_30_05_2022_085040\n",
      "/home/jovyan/work/notebooks/runs/unet_08_06_2022_062915\n",
      "/home/jovyan/work/notebooks/runs/smp_unet_07_03_2023_144840\n",
      "/home/jovyan/work/notebooks/runs/unet_pretrained_04_07_2022_141315\n",
      "/home/jovyan/work/notebooks/runs/unet_15_12_2022_111005\n",
      "/home/jovyan/work/notebooks/runs/unet_17_05_2022_085640\n",
      "/home/jovyan/work/notebooks/runs/unet_17_05_2022_090358\n",
      "/home/jovyan/work/notebooks/runs/unet_23_01_2023_143459\n",
      "/home/jovyan/work/notebooks/runs/unet_09_12_2022_140432\n",
      "/home/jovyan/work/notebooks/runs/deeplabv3_16_06_2022_090705\n",
      "/home/jovyan/work/notebooks/runs/unet_02_06_2022_122641\n",
      "/home/jovyan/work/notebooks/runs/unet_28_02_2023_112525\n",
      "/home/jovyan/work/notebooks/runs/resnet10131_10_2022_084554\n",
      "/home/jovyan/work/notebooks/runs/unet_24_08_2022_191158\n",
      "/home/jovyan/work/notebooks/runs/unet_16_05_2022_074952\n",
      "/home/jovyan/work/notebooks/runs/unet_26_06_2022_080736\n",
      "/home/jovyan/work/notebooks/runs/unet_22_06_2022_132657\n",
      "/home/jovyan/work/notebooks/runs/unet_06_06_2022_131709\n",
      "/home/jovyan/work/notebooks/runs/smp_unet_07_03_2023_143529\n",
      "/home/jovyan/work/notebooks/runs/unet_16_11_2022_095123\n",
      "/home/jovyan/work/notebooks/runs/unet_17_06_2022_070415\n",
      "/home/jovyan/work/notebooks/runs/smp_unet_mitb407_03_2023_153127\n",
      "/home/jovyan/work/notebooks/runs/unet_08_07_2022_120733\n",
      "/home/jovyan/work/notebooks/runs/resnet10130_10_2022_133350\n",
      "/home/jovyan/work/notebooks/runs/unet_27_06_2022_091925\n",
      "/home/jovyan/work/notebooks/runs/resnet10129_10_2022_145934\n",
      "/home/jovyan/work/notebooks/runs/unet_26_06_2022_075933\n",
      "/home/jovyan/work/notebooks/runs/unet_10_11_2022_113216\n",
      "/home/jovyan/work/notebooks/runs/unet_31_10_2022_112254\n",
      "/home/jovyan/work/notebooks/runs/unet_23_06_2022_104204\n",
      "/home/jovyan/work/notebooks/runs/unet_16_05_2022_075002\n",
      "/home/jovyan/work/notebooks/runs/smp_unet_mitb3_08_03_2023_082213\n",
      "/home/jovyan/work/notebooks/runs/unet_24_08_2022_192147\n",
      "/home/jovyan/work/notebooks/runs/unet_21_06_2022_145817\n",
      "/home/jovyan/work/notebooks/runs/unet_14_06_2022_092147\n",
      "/home/jovyan/work/notebooks/runs/unet_09_07_2022_091213\n",
      "/home/jovyan/work/notebooks/runs/unet_25_01_2023_082056\n",
      "/home/jovyan/work/notebooks/runs/resnet10131_10_2022_111611\n",
      "/home/jovyan/work/notebooks/runs/unet_30_10_2022_134322\n",
      "/home/jovyan/work/notebooks/runs/unet_14_06_2022_143718\n",
      "/home/jovyan/work/notebooks/runs/unet_23_01_2023_145628\n",
      "/home/jovyan/work/notebooks/runs/unet_16_11_2022_102748\n",
      "/home/jovyan/work/notebooks/runs/smp_unet_07_03_2023_145330\n",
      "/home/jovyan/work/notebooks/runs/smp_unet_mitb3_08_03_2023_141120\n",
      "/home/jovyan/work/notebooks/runs/unet_07_12_2022_102532\n",
      "/home/jovyan/work/notebooks/runs/unet_31_10_2022_105401\n",
      "/home/jovyan/work/notebooks/runs/unet_08_12_2022_152019\n",
      "/home/jovyan/work/notebooks/runs/unet_18_11_2022_103158\n",
      "/home/jovyan/work/notebooks/runs/unet_15_06_2022_144715\n",
      "/home/jovyan/work/notebooks/runs/unet_06_12_2022_194224\n",
      "/home/jovyan/work/notebooks/runs/unet_06_07_2022_135357\n",
      "/home/jovyan/work/notebooks/runs/unet_01_03_2023_102014\n",
      "/home/jovyan/work/notebooks/runs/unet_09_11_2022_161121\n",
      "/home/jovyan/work/notebooks/runs/unet_31_10_2022_105436\n",
      "/home/jovyan/work/notebooks/runs/unet_01_03_2023_132256\n",
      "/home/jovyan/work/notebooks/runs/unet_09_12_2022_135927\n",
      "/home/jovyan/work/notebooks/runs/unet_01_11_2022_094428\n",
      "/home/jovyan/work/notebooks/runs/smp_unet_mitb207_03_2023_151528\n",
      "/home/jovyan/work/notebooks/runs/unet_07_12_2022_095943\n",
      "/home/jovyan/work/notebooks/runs/unet_06_12_2022_163908\n",
      "/home/jovyan/work/notebooks/runs/unet_07_11_2022_114037\n",
      "/home/jovyan/work/notebooks/runs/unet_dropout_24_06_2022_112646\n",
      "/home/jovyan/work/notebooks/runs/resnet10129_10_2022_151452\n",
      "/home/jovyan/work/notebooks/runs/unet_27_02_2023_141419\n",
      "/home/jovyan/work/notebooks/runs/smp_unet_mitb3_09_03_2023_094714\n",
      "/home/jovyan/work/notebooks/runs/mlrsnet_resnet50_1_50feat\n",
      "/home/jovyan/work/notebooks/runs/unet_10_06_2022_110633\n",
      "/home/jovyan/work/notebooks/runs/unet_12_12_2022_094645\n",
      "/home/jovyan/work/notebooks/runs/unet_13_06_2022_055401\n",
      "/home/jovyan/work/notebooks/runs/unet_21_06_2022_150842\n",
      "/home/jovyan/work/notebooks/runs/resnet10129_10_2022_152845\n",
      "/home/jovyan/work/notebooks/runs/unet_26_06_2022_080335\n",
      "/home/jovyan/work/notebooks/runs/unet_30_10_2022_112628\n",
      "/home/jovyan/work/notebooks/runs/unet_07_12_2022_084744\n",
      "/home/jovyan/work/notebooks/runs/unet_01_03_2023_100829\n",
      "/home/jovyan/work/notebooks/runs/unet_18_11_2022_100344\n",
      "/home/jovyan/work/notebooks/runs/unet_06_07_2022_191410\n",
      "/home/jovyan/work/notebooks/runs/unet_02_12_2022_100123\n",
      "/home/jovyan/work/notebooks/runs/unet_14_06_2022_092904\n",
      "/home/jovyan/work/notebooks/runs/unet_10_06_2022_153443\n",
      "/home/jovyan/work/notebooks/runs/unet_18_11_2022_100859\n",
      "/home/jovyan/work/notebooks/runs/unet_pretrained_04_07_2022_124446\n",
      "/home/jovyan/work/notebooks/runs/unet_21_06_2022_084016\n",
      "/home/jovyan/work/notebooks/runs/unet_24_08_2022_192637\n",
      "/home/jovyan/work/notebooks/runs/unet_31_10_2022_105751\n",
      "/home/jovyan/work/notebooks/runs/unet_28_02_2023_111104\n",
      "/home/jovyan/work/notebooks/runs/smp_unet_07_03_2023_144759\n",
      "/home/jovyan/work/notebooks/runs/unet_23_06_2022_103803\n",
      "/home/jovyan/work/notebooks/runs/smp_unet_07_03_2023_142332\n",
      "/home/jovyan/work/notebooks/runs/unet_21_06_2022_151940\n",
      "/home/jovyan/work/notebooks/runs/unet_27_10_2022_143157\n",
      "/home/jovyan/work/notebooks/runs/resnet10129_10_2022_145325\n",
      "/home/jovyan/work/notebooks/runs/unet_pretrained_06_07_2022_070607\n",
      "/home/jovyan/work/notebooks/runs/unet_17_06_2022_205231\n",
      "/home/jovyan/work/notebooks/runs/unet_01_03_2023_140410\n",
      "/home/jovyan/work/notebooks/runs/smp_unet_mitb408_03_2023_080326\n",
      "/home/jovyan/work/notebooks/runs/unet_25_06_2022_155710\n",
      "/home/jovyan/work/notebooks/runs/unet_21_06_2022_091437\n",
      "/home/jovyan/work/notebooks/runs/unet_21_06_2022_075734\n",
      "/home/jovyan/work/notebooks/runs/unet_01_11_2022_093344\n",
      "/home/jovyan/work/notebooks/runs/unet_09_12_2022_100603\n",
      "/home/jovyan/work/notebooks/runs/mlrsnet_resnet50_1\n",
      "/home/jovyan/work/notebooks/runs/unet_08_12_2022_103025\n",
      "/home/jovyan/work/notebooks/runs/unet_14_06_2022_142707\n",
      "/home/jovyan/work/notebooks/runs/unet_pretrained_12_07_2022_094814\n",
      "/home/jovyan/work/notebooks/runs/resnet10131_10_2022_112246\n",
      "/home/jovyan/work/notebooks/runs/unet_07_07_2022_093434\n",
      "/home/jovyan/work/notebooks/runs/unet_12_11_2022_145313\n",
      "/home/jovyan/work/notebooks/runs/smp_unet_07_03_2023_150447\n",
      "/home/jovyan/work/notebooks/runs/smp_unet_07_03_2023_150229\n",
      "/home/jovyan/work/notebooks/runs/unet_25_08_2022_081902\n",
      "/home/jovyan/work/notebooks/runs/unet_28_06_2022_060037\n",
      "/home/jovyan/work/notebooks/runs/unet_14_06_2022_084141\n",
      "/home/jovyan/work/notebooks/runs/unet_24_08_2022_193706\n",
      "/home/jovyan/work/notebooks/runs/unet_30_05_2022_084726\n",
      "/home/jovyan/work/notebooks/runs/unet_20_06_2022_124129\n",
      "/home/jovyan/work/notebooks/runs/unet_25_06_2022_155958\n",
      "/home/jovyan/work/notebooks/runs/smp_unet_mitb408_03_2023_080742\n",
      "/home/jovyan/work/notebooks/runs/unet_31_10_2022_111517\n",
      "/home/jovyan/work/notebooks/runs/unet_09_06_2022_091550\n",
      "/home/jovyan/work/notebooks/runs/unet_10_11_2022_113229\n",
      "/home/jovyan/work/notebooks/runs/unet_31_10_2022_110938\n",
      "/home/jovyan/work/notebooks/runs/unet_01_12_2022_085945\n",
      "/home/jovyan/work/notebooks/runs/unet_13_12_2022_152648\n",
      "/home/jovyan/work/notebooks/runs/unet_14_06_2022_143135\n",
      "/home/jovyan/work/notebooks/runs/smp_unet_07_03_2023_145707\n",
      "/home/jovyan/work/notebooks/runs/unet_27_05_2022_110640\n",
      "/home/jovyan/work/notebooks/runs/smp_unet_07_03_2023_144931\n",
      "/home/jovyan/work/notebooks/runs/unet_10_11_2022_101548\n",
      "/home/jovyan/work/notebooks/runs/unet_14_06_2022_091725\n",
      "/home/jovyan/work/notebooks/runs/unet_30_05_2022_090559\n",
      "/home/jovyan/work/notebooks/runs/unet_09_12_2022_135130\n",
      "/home/jovyan/work/notebooks/runs/unet_28_10_2022_161546\n",
      "/home/jovyan/work/notebooks/runs/smp_unet_07_03_2023_145019\n",
      "/home/jovyan/work/notebooks/runs/unet_16_11_2022_102024\n",
      "/home/jovyan/work/notebooks/runs/unet_pretrained_06_07_2022_070303\n",
      "/home/jovyan/work/notebooks/runs/smp_unet_mitb3_08_03_2023_081335\n",
      "/home/jovyan/work/notebooks/runs/unet_13_12_2022_085632\n",
      "/home/jovyan/work/notebooks/runs/unet_11_07_2022_140947\n",
      "/home/jovyan/work/notebooks/runs/unet_23_06_2022_155611\n",
      "/home/jovyan/work/notebooks/runs/unet_14_06_2022_102313\n",
      "/home/jovyan/work/notebooks/runs/unet_23_06_2022_085329\n",
      "/home/jovyan/work/notebooks/runs/smp_unet_07_03_2023_150350\n",
      "/home/jovyan/work/notebooks/runs/unet_17_06_2022_070656\n",
      "/home/jovyan/work/notebooks/runs/unet_14_11_2022_123359\n",
      "/home/jovyan/work/notebooks/runs/unet_24_08_2022_193252\n",
      "/home/jovyan/work/notebooks/runs/unet_01_12_2022_132239\n",
      "/home/jovyan/work/notebooks/runs/unet_23_06_2022_111406\n",
      "/home/jovyan/work/notebooks/runs/unet_01_03_2023_102113\n",
      "/home/jovyan/work/notebooks/runs/unet_13_07_2022_171256\n",
      "/home/jovyan/work/notebooks/runs/unet_24_05_2022_141615\n",
      "/home/jovyan/work/notebooks/runs/unet_23_06_2022_111647\n",
      "/home/jovyan/work/notebooks/runs/deeplabv3_16_05_2022_080104\n",
      "/home/jovyan/work/notebooks/runs/mlrsnet_densenet169_multi_pretrained_2\n",
      "/home/jovyan/work/notebooks/runs/unet_17_05_2022_085507\n",
      "/home/jovyan/work/notebooks/runs/unet_25_05_2022_092546\n",
      "/home/jovyan/work/notebooks/runs/smp_unet_07_03_2023_145114\n",
      "/home/jovyan/work/notebooks/runs/unet_27_02_2023_150349\n",
      "/home/jovyan/work/notebooks/runs/unet_12_12_2022_090953\n",
      "/home/jovyan/work/notebooks/runs/unet_21_06_2022_145110\n",
      "/home/jovyan/work/notebooks/runs/unet_23_01_2023_152758\n",
      "/home/jovyan/work/notebooks/runs/unet_18_11_2022_100257\n",
      "/home/jovyan/work/notebooks/runs/unet_14_06_2022_150753\n",
      "/home/jovyan/work/notebooks/runs/resnet10129_10_2022_152808\n",
      "/home/jovyan/work/notebooks/runs/unet_pretrained_04_07_2022_124147\n",
      "/home/jovyan/work/notebooks/runs/unet_01_03_2023_141625\n",
      "/home/jovyan/work/notebooks/runs/unet_27_10_2022_173555\n",
      "/home/jovyan/work/notebooks/runs/unet_27_05_2022_112856\n",
      "/home/jovyan/work/notebooks/runs/unet_27_02_2023_152528\n",
      "/home/jovyan/work/notebooks/runs/smp_unet_07_03_2023_150730\n",
      "/home/jovyan/work/notebooks/runs/unet_25_11_2022_144326\n",
      "/home/jovyan/work/notebooks/runs/unet_25_08_2022_091937\n",
      "/home/jovyan/work/notebooks/runs/smp_unet_07_03_2023_144108\n",
      "/home/jovyan/work/notebooks/runs/unet_17_05_2022_090648\n",
      "/home/jovyan/work/notebooks/runs/unet_08_06_2022_082602\n",
      "/home/jovyan/work/notebooks/runs/unet_20_06_2022_072449\n",
      "/home/jovyan/work/notebooks/runs/unet_18_11_2022_103108\n",
      "/home/jovyan/work/notebooks/runs/unet_15_12_2022_111006\n",
      "/home/jovyan/work/notebooks/runs/unet_30_10_2022_112251\n",
      "/home/jovyan/work/notebooks/runs/unet_02_06_2022_123338\n",
      "/home/jovyan/work/notebooks/runs/unet_05_07_2022_073441\n",
      "/home/jovyan/work/notebooks/runs/smp_unet_mitb3_09_03_2023_080900\n",
      "/home/jovyan/work/notebooks/runs/smp_unet_07_03_2023_142504\n",
      "/home/jovyan/work/notebooks/runs/resnet10129_10_2022_145556\n",
      "/home/jovyan/work/notebooks/runs/unet_22_06_2022_091925\n",
      "/home/jovyan/work/notebooks/runs/deeplabv3_16_06_2022_084357\n",
      "/home/jovyan/work/notebooks/runs/unet_05_12_2022_152328\n",
      "/home/jovyan/work/notebooks/runs/unet_11_06_2022_082445\n",
      "/home/jovyan/work/notebooks/runs/unet_11_06_2022_081230\n",
      "/home/jovyan/work/notebooks/runs/unet_07_07_2022_143311\n",
      "/home/jovyan/work/notebooks/runs/unet_15_11_2022_132219\n",
      "/home/jovyan/work/notebooks/runs/smp_unet_mitb3_09_03_2023_092859\n",
      "/home/jovyan/work/notebooks/runs/unet_31_10_2022_111534\n",
      "/home/jovyan/work/notebooks/runs/unet_04_07_2022_094003\n",
      "/home/jovyan/work/notebooks/runs/unet_07_07_2022_090049\n",
      "/home/jovyan/work/notebooks/runs/unet_19_06_2022_174825\n",
      "/home/jovyan/work/notebooks/runs/unet_10_11_2022_114042\n",
      "/home/jovyan/work/notebooks/runs/unet_02_12_2022_100128\n",
      "/home/jovyan/work/notebooks/runs/unet_14_11_2022_121040\n",
      "/home/jovyan/work/notebooks/runs/unet_17_06_2022_082105\n",
      "/home/jovyan/work/notebooks/runs/unet_25_05_2022_160952\n",
      "/home/jovyan/work/notebooks/runs/smp_unet_mitb3_08_03_2023_170715\n",
      "/home/jovyan/work/notebooks/runs/unet_31_10_2022_112300\n",
      "/home/jovyan/work/notebooks/runs/unet_21_06_2022_145516\n",
      "/home/jovyan/work/notebooks/runs/unet_18_11_2022_100557\n",
      "/home/jovyan/work/notebooks/runs/unet_14_06_2022_143520\n",
      "/home/jovyan/work/notebooks/runs/unet_05_07_2022_123354\n",
      "/home/jovyan/work/notebooks/runs/smp_unet_mitb407_03_2023_160548\n",
      "/home/jovyan/work/notebooks/runs/smp_unet_mitb407_03_2023_152032\n",
      "/home/jovyan/work/notebooks/runs/unet_17_06_2022_124956\n",
      "/home/jovyan/work/notebooks/runs/smp_unet_07_03_2023_145436\n",
      "/home/jovyan/work/notebooks/runs/unet_25_01_2023_101808\n",
      "/home/jovyan/work/notebooks/runs/resnet10129_10_2022_153224\n",
      "/home/jovyan/work/notebooks/runs/unet_24_01_2023_090037\n",
      "/home/jovyan/work/notebooks/runs/unet_23_01_2023_095824\n",
      "/home/jovyan/work/notebooks/runs/unet_24_08_2022_121412\n",
      "/home/jovyan/work/notebooks/runs/unet_13_12_2022_085241\n",
      "/home/jovyan/work/notebooks/runs/unet_20_06_2022_072949\n",
      "/home/jovyan/work/notebooks/runs/unet_16_11_2022_095614\n",
      "/home/jovyan/work/notebooks/runs/unet_27_02_2023_150619\n",
      "/home/jovyan/work/notebooks/runs/unet_14_12_2022_112058\n",
      "/home/jovyan/work/notebooks/runs/mlrsnet_densenet169_multi_pretrained_1\n",
      "/home/jovyan/work/notebooks/runs/unet_14_06_2022_103508\n",
      "/home/jovyan/work/notebooks/runs/unet_16_11_2022_101524\n",
      "/home/jovyan/work/notebooks/runs/unet_30_05_2022_090038\n",
      "/home/jovyan/work/notebooks/runs/resnet10130_10_2022_115551\n",
      "/home/jovyan/work/notebooks/runs/resnet10129_10_2022_152744\n",
      "/home/jovyan/work/notebooks/runs/deeplabv3_16_06_2022_090437\n",
      "/home/jovyan/work/notebooks/runs/unet_01_07_2022_133518\n",
      "/home/jovyan/work/notebooks/runs/unet_19_06_2022_095748\n",
      "/home/jovyan/work/notebooks/runs/unet_16_11_2022_094650\n",
      "/home/jovyan/work/notebooks/runs/smp_unet_mitb409_03_2023_092333\n",
      "/home/jovyan/work/notebooks/runs/unet_25_01_2023_113846\n",
      "/home/jovyan/work/notebooks/runs/unet_02_06_2022_121517\n",
      "/home/jovyan/work/notebooks/runs/unet_21_06_2022_145629\n",
      "/home/jovyan/work/notebooks/runs/smp_unet_07_03_2023_143239\n",
      "/home/jovyan/work/notebooks/runs/unet_05_07_2022_060856\n",
      "/home/jovyan/work/notebooks/runs/unet_27_05_2022_155420\n",
      "/home/jovyan/work/notebooks/runs/unet_04_12_2022_133434\n",
      "/home/jovyan/work/notebooks/runs/unet_02_06_2022_123005\n",
      "/home/jovyan/work/notebooks/runs/unet_11_07_2022_070457\n",
      "/home/jovyan/work/notebooks/runs/unet_21_06_2022_145237\n",
      "/home/jovyan/work/notebooks/runs/unet_01_03_2023_101253\n",
      "/home/jovyan/work/notebooks/runs/resnet10129_10_2022_145751\n",
      "/home/jovyan/work/notebooks/runs/smp_unet_mitb408_03_2023_080827\n",
      "/home/jovyan/work/notebooks/runs/unet_02_12_2022_193015\n",
      "/home/jovyan/work/notebooks/runs/unet_09_12_2022_100036\n",
      "/home/jovyan/work/notebooks/runs/unet_01_12_2022_144353\n",
      "/home/jovyan/work/notebooks/runs/unet_24_01_2023_074014\n",
      "/home/jovyan/work/notebooks/runs/unet_17_06_2022_082054\n",
      "/home/jovyan/work/notebooks/runs/unet_14_11_2022_101100\n",
      "/home/jovyan/work/notebooks/runs/unet_09_11_2022_161703\n",
      "/home/jovyan/work/notebooks/runs/smp_unet_07_03_2023_145809\n",
      "/home/jovyan/work/notebooks/runs/unet_12_11_2022_100644\n",
      "/home/jovyan/work/notebooks/runs/unet_24_08_2022_115656\n",
      "/home/jovyan/work/notebooks/runs/unet_14_11_2022_123122\n",
      "/home/jovyan/work/notebooks/runs/unet_24_06_2022_111750\n",
      "/home/jovyan/work/notebooks/runs/unet_12_11_2022_100238\n",
      "/home/jovyan/work/notebooks/runs/smp_unet_07_03_2023_143945\n",
      "/home/jovyan/work/notebooks/runs/unet_02_06_2022_123814\n",
      "/home/jovyan/work/notebooks/runs/unet_27_06_2022_200529\n",
      "/home/jovyan/work/notebooks/runs/unet_19_07_2022_115722\n",
      "/home/jovyan/work/notebooks/runs/unet_01_03_2023_172238\n",
      "/home/jovyan/work/notebooks/runs/unet_18_07_2022_150108\n",
      "/home/jovyan/work/notebooks/runs/unet_08_06_2022_123439\n",
      "/home/jovyan/work/notebooks/runs/resnet10129_10_2022_150956\n",
      "/home/jovyan/work/notebooks/runs/smp_unet_mitb207_03_2023_151630\n",
      "/home/jovyan/work/notebooks/runs/unet_29_05_2022_084627\n",
      "/home/jovyan/work/notebooks/runs/smp_unet_mitb407_03_2023_152116\n",
      "/home/jovyan/work/notebooks/runs/unet_21_06_2022_083546\n",
      "/home/jovyan/work/notebooks/runs/smp_unet_07_03_2023_145557\n",
      "/home/jovyan/work/notebooks/runs/unet_25_05_2022_161257\n",
      "/home/jovyan/work/notebooks/runs/unet_dropout_24_06_2022_112935\n",
      "/home/jovyan/work/notebooks/runs/resnet10130_10_2022_131249\n",
      "/home/jovyan/work/notebooks/runs/mlrsnet_resnet101_multi_pretrained_14\n",
      "/home/jovyan/work/notebooks/runs/unet_14_12_2022_112035\n",
      "/home/jovyan/work/notebooks/runs/smp_unet_mitb207_03_2023_151755\n",
      "/home/jovyan/work/notebooks/runs/unet_02_11_2022_084603\n",
      "/home/jovyan/work/notebooks/runs/smp_unet_mitb507_03_2023_151920\n",
      "/home/jovyan/work/notebooks/runs/resnet10129_10_2022_152257\n",
      "/home/jovyan/work/notebooks/runs/unet_25_05_2022_174303\n",
      "/home/jovyan/work/notebooks/runs/unet_pretrained_12_07_2022_094524\n",
      "/home/jovyan/work/notebooks/runs/resnet10131_10_2022_105215\n",
      "/home/jovyan/work/notebooks/runs/unet_28_02_2023_112918\n",
      "/home/jovyan/work/notebooks/runs/unet_27_10_2022_143249\n",
      "/home/jovyan/work/notebooks/runs/unet_29_07_2022_120212\n",
      "/home/jovyan/work/notebooks/runs/unet_07_12_2022_074805\n",
      "/home/jovyan/work/notebooks/runs/unet_12_12_2022_094644\n",
      "/home/jovyan/work/notebooks/runs/deeplabv3_16_06_2022_090927\n",
      "/home/jovyan/work/notebooks/runs/unet_16_05_2022_080327\n",
      "/home/jovyan/work/notebooks/runs/mlrsnet_resnet50_multi_1\n",
      "/home/jovyan/work/notebooks/runs/unet_pretrained_12_07_2022_094242\n",
      "/home/jovyan/work/notebooks/runs/unet_23_06_2022_102619\n",
      "/home/jovyan/work/notebooks/runs/unet_25_05_2022_085948\n",
      "/home/jovyan/work/notebooks/runs/unet_dropout_24_06_2022_112301\n",
      "/home/jovyan/work/notebooks/runs/unet_14_11_2022_170422\n",
      "/home/jovyan/work/notebooks/runs/unet_16_11_2022_150616\n",
      "/home/jovyan/work/notebooks/runs/unet_10_11_2022_102136\n",
      "/home/jovyan/work/notebooks/runs/unet_14_06_2022_085438\n",
      "/home/jovyan/work/notebooks/runs/unet_08_11_2022_082000\n",
      "/home/jovyan/work/notebooks/runs/unet_02_03_2023_093133\n",
      "/home/jovyan/work/notebooks/runs/unet_06_07_2022_093340\n",
      "/home/jovyan/work/notebooks/runs/unet_19_06_2022_101139\n",
      "/home/jovyan/work/notebooks/runs/smp_unet_mitb3_09_03_2023_080509\n",
      "/home/jovyan/work/notebooks/runs/unet_08_12_2022_153943\n",
      "/home/jovyan/work/notebooks/runs/unet_14_06_2022_090613\n",
      "/home/jovyan/work/notebooks/runs/unet_07_03_2023_160645\n",
      "/home/jovyan/work/notebooks/runs/unet_20_06_2022_191546\n",
      "/home/jovyan/work/notebooks/runs/unet_27_02_2023_152547\n",
      "/home/jovyan/work/notebooks/runs/unet_09_12_2022_141530\n",
      "/home/jovyan/work/notebooks/runs/unet_02_12_2022_194151\n",
      "/home/jovyan/work/notebooks/runs/unet_08_12_2022_105552\n",
      "/home/jovyan/work/notebooks/runs/unet_24_06_2022_082330\n",
      "/home/jovyan/work/notebooks/runs/unet_06_12_2022_153307\n",
      "/home/jovyan/work/notebooks/runs/unet_05_07_2022_092338\n",
      "/home/jovyan/work/notebooks/runs/unet_02_12_2022_095501\n",
      "/home/jovyan/work/notebooks/runs/unet_02_06_2022_123543\n",
      "/home/jovyan/work/notebooks/runs/unet_20_06_2022_124519\n",
      "/home/jovyan/work/notebooks/runs/unet_01_12_2022_085438\n",
      "/home/jovyan/work/notebooks/runs/unet_30_05_2022_085458\n",
      "/home/jovyan/work/notebooks/runs/unet_10_06_2022_135157\n",
      "/home/jovyan/work/notebooks/runs/mlrsnet_resnet101_1\n",
      "/home/jovyan/work/notebooks/runs/unet_08_03_2023_082125\n",
      "/home/jovyan/work/notebooks/runs/unet_27_05_2022_110358\n",
      "/home/jovyan/work/notebooks/runs/unet_27_05_2022_065123\n",
      "/home/jovyan/work/notebooks/runs/resnet10131_10_2022_084528\n",
      "/home/jovyan/work/notebooks/runs/resnet10130_10_2022_120036\n",
      "/home/jovyan/work/notebooks/runs/unet_14_06_2022_142945\n",
      "/home/jovyan/work/notebooks/runs/unet_24_05_2022_141620\n",
      "/home/jovyan/work/notebooks/runs/unet_15_11_2022_121257\n",
      "/home/jovyan/work/notebooks/runs/unet_16_06_2022_083705\n",
      "/home/jovyan/work/notebooks/runs/unet_22_06_2022_092555\n",
      "/home/jovyan/work/notebooks/runs/unet_05_12_2022_150850\n",
      "/home/jovyan/work/notebooks/runs/resnet10131_10_2022_084620\n",
      "/home/jovyan/work/notebooks/runs/unet_02_03_2023_111113\n",
      "/home/jovyan/work/notebooks/runs/smp_unet_07_03_2023_150559\n",
      "/home/jovyan/work/notebooks/runs/resnet10130_10_2022_112239\n",
      "/home/jovyan/work/notebooks/runs/unet_29_06_2022_063800\n",
      "/home/jovyan/work/notebooks/runs/unet_19_06_2022_100109\n",
      "/home/jovyan/work/notebooks/runs/unet_01_03_2023_102847\n",
      "/home/jovyan/work/notebooks/runs/resnet10131_10_2022_084208\n",
      "/home/jovyan/work/notebooks/runs/deeplabv3_16_05_2022_075832\n",
      "/home/jovyan/work/notebooks/runs/deeplabv3_16_06_2022_083738\n",
      "/home/jovyan/work/notebooks/runs/mlrsnet_resnet50_1_50feat_pretrained\n",
      "/home/jovyan/work/notebooks/runs/unet_27_02_2023_141811\n",
      "/home/jovyan/work/notebooks/runs/unet_21_06_2022_150350\n",
      "/home/jovyan/work/notebooks/runs/unet_21_06_2022_145211\n",
      "/home/jovyan/work/notebooks/runs/unet_31_10_2022_111554\n",
      "/home/jovyan/work/notebooks/runs/unet_25_05_2022_092342\n",
      "/home/jovyan/work/notebooks/runs/unet_01_12_2022_085728\n",
      "/home/jovyan/work/notebooks/runs/unet_05_03_2023_085814\n",
      "/home/jovyan/work/notebooks/runs/unet_27_05_2022_104725\n",
      "/home/jovyan/work/notebooks/runs/unet_02_12_2022_192640\n",
      "/home/jovyan/work/notebooks/runs/unet_20_06_2022_072958\n",
      "/home/jovyan/work/notebooks/runs/unet_07_12_2022_141933\n",
      "/home/jovyan/work/notebooks/runs/unet_12_06_2022_171159\n",
      "/home/jovyan/work/notebooks/runs/unet_15_06_2022_175944\n",
      "/home/jovyan/work/notebooks/runs/unet_08_12_2022_120852\n",
      "/home/jovyan/work/notebooks/runs/unet_02_06_2022_125601\n",
      "/home/jovyan/work/notebooks/runs/unet_07_03_2023_151342\n",
      "/home/jovyan/work/notebooks/runs/resnet10129_10_2022_150332\n",
      "/home/jovyan/work/notebooks/runs/unet_14_06_2022_084958\n",
      "/home/jovyan/work/notebooks/runs/unet_07_06_2022_140803\n",
      "/home/jovyan/work/notebooks/runs/unet_15_06_2022_145223\n",
      "/home/jovyan/work/notebooks/runs/unet_16_06_2022_190207\n",
      "/home/jovyan/work/notebooks/runs/unet_07_12_2022_090018\n",
      "/home/jovyan/work/notebooks/runs/unet_21_06_2022_085328\n",
      "/home/jovyan/work/notebooks/runs/unet_27_10_2022_143116\n",
      "/home/jovyan/work/notebooks/runs/smp_unet_mitb3_09_03_2023_094140\n",
      "/home/jovyan/work/notebooks/runs/unet_12_06_2022_170319\n",
      "/home/jovyan/work/notebooks/runs/unet_27_02_2023_142627\n",
      "/home/jovyan/work/notebooks/runs/unet_01_03_2023_101604\n",
      "/home/jovyan/work/notebooks/runs/unet_12_11_2022_100351\n",
      "\n"
     ]
    }
   ],
   "source": [
    "inspect_units = get_inspection_units(logdir=\"/home/jovyan/work/notebooks/runs\")"
   ]
  },
  {
   "cell_type": "code",
   "execution_count": 6,
   "id": "e87f3144-4daa-4305-8f6f-f4fcde9db1da",
   "metadata": {},
   "outputs": [
    {
     "data": {
      "text/plain": [
       "379"
      ]
     },
     "execution_count": 6,
     "metadata": {},
     "output_type": "execute_result"
    }
   ],
   "source": [
    "len(inspect_units)"
   ]
  },
  {
   "cell_type": "code",
   "execution_count": null,
   "id": "b57b5878-91ea-4fb9-893a-0193be8236f3",
   "metadata": {},
   "outputs": [],
   "source": [
    "list(inspect_units[0])[2][\"scalars\"]"
   ]
  },
  {
   "cell_type": "code",
   "execution_count": 29,
   "id": "3229a798-d3c9-4f9d-a28a-a17151f81e7e",
   "metadata": {},
   "outputs": [
    {
     "data": {
      "text/plain": [
       "'/home/jovyan/work/notebooks/runs/unet_12_11_2022_100351'"
      ]
     },
     "execution_count": 29,
     "metadata": {},
     "output_type": "execute_result"
    }
   ],
   "source": [
    "list(run)[0]"
   ]
  },
  {
   "cell_type": "code",
   "execution_count": 37,
   "id": "cc59961a-7791-403c-ae63-11ec9da28e6b",
   "metadata": {},
   "outputs": [],
   "source": [
    "# inspect_units = get_inspection_units(logdir=\"/home/jovyan/work/notebooks/runs\")\n",
    "\n",
    "\n",
    "for run in inspect_units:\n",
    "    r = list(run)\n",
    "    filepath = r[0]\n",
    "    if len(list(r)[2][\"scalars\"]) == 0:\n",
    "        if os.path.isdir(filepath):\n",
    "            shutil.rmtree(filepath)"
   ]
  },
  {
   "cell_type": "code",
   "execution_count": 36,
   "id": "7b703028-4797-4248-83e8-1245a49034a8",
   "metadata": {},
   "outputs": [
    {
     "data": {
      "text/plain": [
       "'/home/jovyan/work/notebooks/runs/unet_12_11_2022_100351'"
      ]
     },
     "execution_count": 36,
     "metadata": {},
     "output_type": "execute_result"
    }
   ],
   "source": [
    "filepath"
   ]
  },
  {
   "cell_type": "code",
   "execution_count": 46,
   "id": "4bbd0869-af2c-41dc-a46f-fe38e7ee49a7",
   "metadata": {},
   "outputs": [],
   "source": [
    "import torch\n",
    "\n",
    "a  = torch.randn(100,12)"
   ]
  },
  {
   "cell_type": "code",
   "execution_count": 47,
   "id": "7d4d33c9-1f49-4049-916f-919a15d829b8",
   "metadata": {},
   "outputs": [
    {
     "data": {
      "text/plain": [
       "torch.Size([100])"
      ]
     },
     "execution_count": 47,
     "metadata": {},
     "output_type": "execute_result"
    }
   ],
   "source": [
    "a.sum(1).shape"
   ]
  },
  {
   "cell_type": "code",
   "execution_count": 45,
   "id": "f0ebaa4a-c0e0-424d-a739-36185e6f6bf7",
   "metadata": {},
   "outputs": [
    {
     "data": {
      "text/plain": [
       "60"
      ]
     },
     "execution_count": 45,
     "metadata": {},
     "output_type": "execute_result"
    }
   ],
   "source": [
    "a.shape[-2:].numel()"
   ]
  },
  {
   "cell_type": "code",
   "execution_count": null,
   "id": "603ad8c6-0adb-4a9d-b22a-1c3f79a69f75",
   "metadata": {},
   "outputs": [],
   "source": [
    "torch"
   ]
  },
  {
   "cell_type": "code",
   "execution_count": null,
   "id": "ac8a1840-c1c8-4728-9132-b60ff8978321",
   "metadata": {},
   "outputs": [],
   "source": [
    "torch.tensor([[[1,2,]]])"
   ]
  },
  {
   "cell_type": "raw",
   "id": "a155a3d8-5a3f-43f1-86dd-0eeb0e4b4318",
   "metadata": {},
   "source": [
    "a.shape.numel()"
   ]
  },
  {
   "cell_type": "code",
   "execution_count": 39,
   "id": "eab0fbf4-9ef2-4e5e-b6af-2c2bdb2fd968",
   "metadata": {},
   "outputs": [
    {
     "data": {
      "text/plain": [
       "torch.Size([100, 12])"
      ]
     },
     "execution_count": 39,
     "metadata": {},
     "output_type": "execute_result"
    }
   ],
   "source": [
    "a.shape"
   ]
  },
  {
   "cell_type": "code",
   "execution_count": null,
   "id": "4fcadefd-da73-4800-9e41-0fbaac4bef3d",
   "metadata": {},
   "outputs": [],
   "source": []
  },
  {
   "cell_type": "code",
   "execution_count": null,
   "id": "b563ebe8-8baf-4741-9a52-ea3c679d9f31",
   "metadata": {},
   "outputs": [],
   "source": []
  },
  {
   "cell_type": "code",
   "execution_count": null,
   "id": "c0750643-6356-4937-a1b5-1b246f4fd6d3",
   "metadata": {},
   "outputs": [],
   "source": []
  },
  {
   "cell_type": "code",
   "execution_count": 24,
   "id": "acf2a56a-9121-4f39-9bbe-ef9f7bac75e7",
   "metadata": {},
   "outputs": [],
   "source": [
    "import geopandas as gpd\n",
    "import numpy as np\n",
    "df = gpd.read_file(\"ne_10m_admin_0_countries.shp\")"
   ]
  },
  {
   "cell_type": "code",
   "execution_count": 32,
   "id": "3d61b88f-a729-499f-833c-e7cb3813d9cf",
   "metadata": {},
   "outputs": [
    {
     "data": {
      "text/plain": [
       "0      False\n",
       "1      False\n",
       "2      False\n",
       "3      False\n",
       "4      False\n",
       "       ...  \n",
       "253    False\n",
       "254    False\n",
       "255    False\n",
       "256    False\n",
       "257    False\n",
       "Name: SOVEREIGNT, Length: 258, dtype: bool"
      ]
     },
     "execution_count": 32,
     "metadata": {},
     "output_type": "execute_result"
    }
   ],
   "source": []
  },
  {
   "cell_type": "code",
   "execution_count": 33,
   "id": "70429d64-4f7e-4d6e-9602-53338b46400f",
   "metadata": {},
   "outputs": [
    {
     "data": {
      "text/html": [
       "<div>\n",
       "<style scoped>\n",
       "    .dataframe tbody tr th:only-of-type {\n",
       "        vertical-align: middle;\n",
       "    }\n",
       "\n",
       "    .dataframe tbody tr th {\n",
       "        vertical-align: top;\n",
       "    }\n",
       "\n",
       "    .dataframe thead th {\n",
       "        text-align: right;\n",
       "    }\n",
       "</style>\n",
       "<table border=\"1\" class=\"dataframe\">\n",
       "  <thead>\n",
       "    <tr style=\"text-align: right;\">\n",
       "      <th></th>\n",
       "      <th>SOVEREIGNT</th>\n",
       "      <th>geometry</th>\n",
       "    </tr>\n",
       "  </thead>\n",
       "  <tbody>\n",
       "    <tr>\n",
       "      <th>36</th>\n",
       "      <td>South Africa</td>\n",
       "      <td>MULTIPOLYGON (((19.98145 -24.75249, 19.98641 -...</td>\n",
       "    </tr>\n",
       "    <tr>\n",
       "      <th>145</th>\n",
       "      <td>Lesotho</td>\n",
       "      <td>POLYGON ((28.98085 -28.90904, 28.99542 -28.908...</td>\n",
       "    </tr>\n",
       "  </tbody>\n",
       "</table>\n",
       "</div>"
      ],
      "text/plain": [
       "       SOVEREIGNT                                           geometry\n",
       "36   South Africa  MULTIPOLYGON (((19.98145 -24.75249, 19.98641 -...\n",
       "145       Lesotho  POLYGON ((28.98085 -28.90904, 28.99542 -28.908..."
      ]
     },
     "execution_count": 33,
     "metadata": {},
     "output_type": "execute_result"
    }
   ],
   "source": []
  },
  {
   "cell_type": "code",
   "execution_count": 35,
   "id": "d7f2ff49-dbbc-4892-bc37-f790c1c228b9",
   "metadata": {},
   "outputs": [],
   "source": [
    "gdf = df[[\"SOVEREIGNT\",\"geometry\"]]\n",
    "gdf = gdf[(gdf[\"SOVEREIGNT\"] == \"South Africa\") ]\n",
    "gdf.to_file(\"borders_sa.geojson\")"
   ]
  },
  {
   "cell_type": "code",
   "execution_count": 44,
   "id": "35e1fd85-0b01-4b8c-a761-0b3aadd8b29d",
   "metadata": {},
   "outputs": [],
   "source": [
    "import rasterio\n",
    "p = \"/home/jovyan/work/satellite_data/tmp/inference/smp_unet_mitb3_08_03_2023_170715.pth/2019/canopy_cover_rasters/canopy_cover_100m_test.tif\"\n",
    "\n",
    "src = rasterio.open(p)\n",
    "a = src.read(1)"
   ]
  },
  {
   "cell_type": "code",
   "execution_count": 45,
   "id": "c1c41900-9b8b-4f6a-82ce-e695d639e911",
   "metadata": {},
   "outputs": [
    {
     "data": {
      "text/plain": [
       "array([  0, 100], dtype=uint8)"
      ]
     },
     "execution_count": 45,
     "metadata": {},
     "output_type": "execute_result"
    }
   ],
   "source": [
    "np.unique(a)"
   ]
  },
  {
   "cell_type": "code",
   "execution_count": 74,
   "id": "7f796709-5491-4b4e-82a1-ee4cdc216cb8",
   "metadata": {},
   "outputs": [
    {
     "ename": "NameError",
     "evalue": "name 'tensor' is not defined",
     "output_type": "error",
     "traceback": [
      "\u001b[0;31m---------------------------------------------------------------------------\u001b[0m",
      "\u001b[0;31mNameError\u001b[0m                                 Traceback (most recent call last)",
      "Input \u001b[0;32mIn [74]\u001b[0m, in \u001b[0;36m<cell line: 14>\u001b[0;34m()\u001b[0m\n\u001b[1;32m     11\u001b[0m \u001b[38;5;28;01mif\u001b[39;00m arr\u001b[38;5;241m.\u001b[39mndim \u001b[38;5;241m==\u001b[39m \u001b[38;5;241m1\u001b[39m:\n\u001b[1;32m     12\u001b[0m     arr \u001b[38;5;241m=\u001b[39m arr\u001b[38;5;241m.\u001b[39munsqueeze(\u001b[38;5;241m0\u001b[39m)\n\u001b[0;32m---> 14\u001b[0m padded_tensor \u001b[38;5;241m=\u001b[39m torch\u001b[38;5;241m.\u001b[39mzeros(desired_shape, dtype\u001b[38;5;241m=\u001b[39m\u001b[43mtensor\u001b[49m\u001b[38;5;241m.\u001b[39mdtype)\n\u001b[1;32m     15\u001b[0m padded_tensor[:tensor\u001b[38;5;241m.\u001b[39msize(\u001b[38;5;241m0\u001b[39m), :tensor\u001b[38;5;241m.\u001b[39msize(\u001b[38;5;241m1\u001b[39m)] \u001b[38;5;241m=\u001b[39m tensor\n",
      "\u001b[0;31mNameError\u001b[0m: name 'tensor' is not defined"
     ]
    }
   ],
   "source": [
    "import torch\n",
    "\n",
    "# Define the desired shape of the array\n",
    "desired_shape = torch.tensor((4, 4))\n",
    "\n",
    "# Create an example array\n",
    "arr = torch.tensor([3, 4])\n",
    "\n",
    "arr.shape == desired_shape\n",
    "\n",
    "if arr.ndim == 1:\n",
    "    arr = arr.unsqueeze(0)\n",
    "\n",
    "padded_tensor = torch.zeros(desired_shape, dtype=tensor.dtype)\n",
    "padded_tensor[:tensor.size(0), :tensor.size(1)] = tensor"
   ]
  },
  {
   "cell_type": "code",
   "execution_count": 82,
   "id": "32826d8e-e0e6-47b1-85d5-09604c0592cf",
   "metadata": {},
   "outputs": [
    {
     "name": "stdout",
     "output_type": "stream",
     "text": [
      "The tensor has been padded with zeros to the desired shape.\n",
      "tensor([[3, 4, 0, 0],\n",
      "        [0, 0, 0, 0],\n",
      "        [0, 0, 0, 0]])\n"
     ]
    }
   ],
   "source": [
    "# create a sample tensor\n",
    "tensor = torch.tensor( [3, 4])\n",
    "\n",
    "# define the desired shape\n",
    "desired_shape = np.array([3, 4])\n",
    "\n",
    "# check if the tensor has two dimensions and the desired shape\n",
    "if tensor.size() == torch.Size(desired_shape):\n",
    "    print(\"The tensor has the desired shape.\")\n",
    "else:\n",
    "    tensor = tensor.unsqueeze(0)\n",
    "    # pad the missing parts with zeros\n",
    "    padded_tensor = torch.zeros(desired_shape.tolist(), dtype=tensor.dtype)\n",
    "    padded_tensor[:tensor.size(0), :tensor.size(1)] = tensor\n",
    "    print(\"The tensor has been padded with zeros to the desired shape.\")\n",
    "    print(padded_tensor)"
   ]
  },
  {
   "cell_type": "code",
   "execution_count": 80,
   "id": "3933e0ed-0fba-4f55-9353-06b374084d48",
   "metadata": {},
   "outputs": [
    {
     "data": {
      "text/plain": [
       "torch.Size([3, 4])"
      ]
     },
     "execution_count": 80,
     "metadata": {},
     "output_type": "execute_result"
    }
   ],
   "source": [
    "padded_tensor.shape"
   ]
  },
  {
   "cell_type": "code",
   "execution_count": 73,
   "id": "85b053df-624d-4a67-aea9-badbb4f89106",
   "metadata": {},
   "outputs": [
    {
     "data": {
      "text/plain": [
       "torch.Size([1, 7])"
      ]
     },
     "execution_count": 73,
     "metadata": {},
     "output_type": "execute_result"
    }
   ],
   "source": [
    "arr_padded.shape"
   ]
  },
  {
   "cell_type": "code",
   "execution_count": 49,
   "id": "fcbda540-0879-4494-8fcb-4d47058d33cd",
   "metadata": {},
   "outputs": [
    {
     "data": {
      "text/plain": [
       "(2, 2)"
      ]
     },
     "execution_count": 49,
     "metadata": {},
     "output_type": "execute_result"
    }
   ],
   "source": [
    "arr.shape"
   ]
  },
  {
   "cell_type": "code",
   "execution_count": null,
   "id": "d7caf874-a251-4e3d-827c-3933a7c9fe41",
   "metadata": {},
   "outputs": [],
   "source": []
  },
  {
   "cell_type": "code",
   "execution_count": null,
   "id": "f39b391e-9d90-4b60-8f32-6b608ba30961",
   "metadata": {},
   "outputs": [],
   "source": []
  },
  {
   "cell_type": "code",
   "execution_count": 102,
   "id": "cdbd1954-ca80-4338-b1e8-56555165664e",
   "metadata": {},
   "outputs": [],
   "source": [
    "driver = gdal.GetDriverByName('COG')"
   ]
  },
  {
   "cell_type": "code",
   "execution_count": 104,
   "id": "e8615903-f18d-490a-ad15-87900e5efd61",
   "metadata": {},
   "outputs": [
    {
     "ename": "TypeError",
     "evalue": "Driver_Create() missing required argument 'utf8_path' (pos 2)",
     "output_type": "error",
     "traceback": [
      "\u001b[0;31m---------------------------------------------------------------------------\u001b[0m",
      "\u001b[0;31mTypeError\u001b[0m                                 Traceback (most recent call last)",
      "Input \u001b[0;32mIn [104]\u001b[0m, in \u001b[0;36m<cell line: 1>\u001b[0;34m()\u001b[0m\n\u001b[0;32m----> 1\u001b[0m \u001b[43mdriver\u001b[49m\u001b[38;5;241;43m.\u001b[39;49m\u001b[43mCreate\u001b[49m\u001b[43m(\u001b[49m\u001b[43m)\u001b[49m\n",
      "File \u001b[0;32m/usr/lib/python3/dist-packages/osgeo/gdal.py:1912\u001b[0m, in \u001b[0;36mDriver.Create\u001b[0;34m(self, *args, **kwargs)\u001b[0m\n\u001b[1;32m   1910\u001b[0m \u001b[38;5;28;01mdef\u001b[39;00m \u001b[38;5;21mCreate\u001b[39m(\u001b[38;5;28mself\u001b[39m, \u001b[38;5;241m*\u001b[39margs, \u001b[38;5;241m*\u001b[39m\u001b[38;5;241m*\u001b[39mkwargs):\n\u001b[1;32m   1911\u001b[0m     \u001b[38;5;124mr\u001b[39m\u001b[38;5;124;03m\"\"\"Create(Driver self, char const * utf8_path, int xsize, int ysize, int bands=1, GDALDataType eType=GDT_Byte, char ** options=None) -> Dataset\"\"\"\u001b[39;00m\n\u001b[0;32m-> 1912\u001b[0m     \u001b[38;5;28;01mreturn\u001b[39;00m \u001b[43m_gdal\u001b[49m\u001b[38;5;241;43m.\u001b[39;49m\u001b[43mDriver_Create\u001b[49m\u001b[43m(\u001b[49m\u001b[38;5;28;43mself\u001b[39;49m\u001b[43m,\u001b[49m\u001b[43m \u001b[49m\u001b[38;5;241;43m*\u001b[39;49m\u001b[43margs\u001b[49m\u001b[43m,\u001b[49m\u001b[43m \u001b[49m\u001b[38;5;241;43m*\u001b[39;49m\u001b[38;5;241;43m*\u001b[39;49m\u001b[43mkwargs\u001b[49m\u001b[43m)\u001b[49m\n",
      "\u001b[0;31mTypeError\u001b[0m: Driver_Create() missing required argument 'utf8_path' (pos 2)"
     ]
    }
   ],
   "source": [
    "driver.Create()"
   ]
  },
  {
   "cell_type": "code",
   "execution_count": 110,
   "id": "c0bfbcb4-632b-4506-99d4-a0dd96ccb328",
   "metadata": {},
   "outputs": [],
   "source": [
    "import numpy as np\n",
    "from osgeo import gdal, gdal_array\n",
    "import matplotlib.pyplot as plt\n",
    "\n",
    "# Open the input raster file\n",
    "input_file = '/home/jovyan/work/satellite_data/tmp/inference/smp_unet_mitb3_08_03_2023_170715.pth/SA_cover_map.tif'\n",
    "ds = gdal.Open(input_file)\n",
    "\n",
    "# Read the input raster data into a numpy array\n",
    "band = ds.GetRasterBand(1)\n",
    "data = band.ReadAsArray()\n",
    "\n",
    "# Apply the viridis colormap to the input data\n",
    "colormap = gdal.ColorTable()\n",
    "for i in range(256):\n",
    "    color = plt.cm.viridis(i/255.0)[:3]\n",
    "    colormap.SetColorEntry(i, (int(color[0]*255), int(color[1]*255), int(color[2]*255), 255))\n",
    "\n",
    "# Create a new raster file with the viridis colormap\n",
    "output_file = 'output.tif'\n",
    "\n",
    "driver = gdal.GetDriverByName('Gtiff')\n",
    "out_ds = driver.Create(output_file, ds.RasterXSize, ds.RasterYSize, 1, gdal.GDT_Byte,options=[\"COMPRESS=LZW\",\"PREDICTOR=2\"])\n",
    "out_ds.SetProjection(ds.GetProjection())\n",
    "out_ds.SetGeoTransform(ds.GetGeoTransform())\n",
    "#out_ds.SetCompression(gdal.COMPRESSION_LZW)\n",
    "out_band = out_ds.GetRasterBand(1)\n",
    "out_band.SetRasterColorTable(colormap)\n",
    "out_band.SetNoDataValue(255)\n",
    "out_band.WriteArray(data)\n",
    "\n",
    "# Clean up\n",
    "del ds, band, out_band, out_ds"
   ]
  },
  {
   "cell_type": "code",
   "execution_count": 106,
   "id": "655b8bb5-7cb7-4ced-8766-f43041fff421",
   "metadata": {},
   "outputs": [
    {
     "ename": "AttributeError",
     "evalue": "'Dataset' object has no attribute 'SetNoDataValue'",
     "output_type": "error",
     "traceback": [
      "\u001b[0;31m---------------------------------------------------------------------------\u001b[0m",
      "\u001b[0;31mAttributeError\u001b[0m                            Traceback (most recent call last)",
      "Input \u001b[0;32mIn [106]\u001b[0m, in \u001b[0;36m<cell line: 1>\u001b[0;34m()\u001b[0m\n\u001b[0;32m----> 1\u001b[0m \u001b[43mout_ds\u001b[49m\u001b[38;5;241;43m.\u001b[39;49m\u001b[43mSetNoDataValue\u001b[49m()\n",
      "\u001b[0;31mAttributeError\u001b[0m: 'Dataset' object has no attribute 'SetNoDataValue'"
     ]
    }
   ],
   "source": [
    "out_ds.SetNoDataValue()"
   ]
  },
  {
   "cell_type": "code",
   "execution_count": 91,
   "id": "80dc9a2e-b773-44ab-ac50-9ddcda7b424a",
   "metadata": {},
   "outputs": [
    {
     "ename": "TypeError",
     "evalue": "Driver_Create() missing required argument 'utf8_path' (pos 2)",
     "output_type": "error",
     "traceback": [
      "\u001b[0;31m---------------------------------------------------------------------------\u001b[0m",
      "\u001b[0;31mTypeError\u001b[0m                                 Traceback (most recent call last)",
      "Input \u001b[0;32mIn [91]\u001b[0m, in \u001b[0;36m<cell line: 1>\u001b[0;34m()\u001b[0m\n\u001b[0;32m----> 1\u001b[0m \u001b[43mdriver\u001b[49m\u001b[38;5;241;43m.\u001b[39;49m\u001b[43mCreate\u001b[49m\u001b[43m(\u001b[49m\u001b[43m)\u001b[49m\n",
      "File \u001b[0;32m/usr/lib/python3/dist-packages/osgeo/gdal.py:1912\u001b[0m, in \u001b[0;36mDriver.Create\u001b[0;34m(self, *args, **kwargs)\u001b[0m\n\u001b[1;32m   1910\u001b[0m \u001b[38;5;28;01mdef\u001b[39;00m \u001b[38;5;21mCreate\u001b[39m(\u001b[38;5;28mself\u001b[39m, \u001b[38;5;241m*\u001b[39margs, \u001b[38;5;241m*\u001b[39m\u001b[38;5;241m*\u001b[39mkwargs):\n\u001b[1;32m   1911\u001b[0m     \u001b[38;5;124mr\u001b[39m\u001b[38;5;124;03m\"\"\"Create(Driver self, char const * utf8_path, int xsize, int ysize, int bands=1, GDALDataType eType=GDT_Byte, char ** options=None) -> Dataset\"\"\"\u001b[39;00m\n\u001b[0;32m-> 1912\u001b[0m     \u001b[38;5;28;01mreturn\u001b[39;00m \u001b[43m_gdal\u001b[49m\u001b[38;5;241;43m.\u001b[39;49m\u001b[43mDriver_Create\u001b[49m\u001b[43m(\u001b[49m\u001b[38;5;28;43mself\u001b[39;49m\u001b[43m,\u001b[49m\u001b[43m \u001b[49m\u001b[38;5;241;43m*\u001b[39;49m\u001b[43margs\u001b[49m\u001b[43m,\u001b[49m\u001b[43m \u001b[49m\u001b[38;5;241;43m*\u001b[39;49m\u001b[38;5;241;43m*\u001b[39;49m\u001b[43mkwargs\u001b[49m\u001b[43m)\u001b[49m\n",
      "\u001b[0;31mTypeError\u001b[0m: Driver_Create() missing required argument 'utf8_path' (pos 2)"
     ]
    }
   ],
   "source": [
    "driver.Create()"
   ]
  },
  {
   "cell_type": "code",
   "execution_count": 90,
   "id": "a853faf4-4d79-474c-97cb-fcea7b2be28b",
   "metadata": {},
   "outputs": [
    {
     "data": {
      "text/plain": [
       "(14109, 15985)"
      ]
     },
     "execution_count": 90,
     "metadata": {},
     "output_type": "execute_result"
    }
   ],
   "source": [
    "data.shape"
   ]
  },
  {
   "cell_type": "code",
   "execution_count": 86,
   "id": "636fcc2a-457f-4d4b-9538-c939e28cdf53",
   "metadata": {},
   "outputs": [
    {
     "data": {
      "text/plain": [
       "array([[255, 255, 255, ..., 255, 255, 255],\n",
       "       [255, 255, 255, ..., 255, 255, 255],\n",
       "       [255, 255, 255, ..., 255, 255, 255],\n",
       "       ...,\n",
       "       [255, 255, 255, ..., 255, 255, 255],\n",
       "       [255, 255, 255, ..., 255, 255, 255],\n",
       "       [255, 255, 255, ..., 255, 255, 255]], dtype=uint8)"
      ]
     },
     "execution_count": 86,
     "metadata": {},
     "output_type": "execute_result"
    }
   ],
   "source": [
    "data"
   ]
  }
 ],
 "metadata": {
  "kernelspec": {
   "display_name": "Python 3 (ipykernel)",
   "language": "python",
   "name": "python3"
  },
  "language_info": {
   "codemirror_mode": {
    "name": "ipython",
    "version": 3
   },
   "file_extension": ".py",
   "mimetype": "text/x-python",
   "name": "python",
   "nbconvert_exporter": "python",
   "pygments_lexer": "ipython3",
   "version": "3.8.10"
  }
 },
 "nbformat": 4,
 "nbformat_minor": 5
}
