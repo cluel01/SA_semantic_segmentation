{
 "cells": [
  {
   "cell_type": "code",
   "execution_count": 1,
   "id": "d44ecf10",
   "metadata": {},
   "outputs": [],
   "source": [
    "import glob, cv2, random, string, os, random\n",
    "import numpy as np\n",
    "from matplotlib import pyplot as plt"
   ]
  },
  {
   "cell_type": "code",
   "execution_count": 3,
   "id": "f7c69b8a",
   "metadata": {},
   "outputs": [
    {
     "data": {
      "text/plain": [
       "['02_validation_data/2019_1km_6147_481.tif',\n",
       " '02_validation_data/2019_1km_6147_482.tif',\n",
       " '03_test_data/2019_1km_6230_605.tif',\n",
       " '03_test_data/2019_1km_6234_553.tif',\n",
       " '03_test_data/2019_1km_6227_533.tif',\n",
       " '03_test_data/2019_1km_6230_604.tif',\n",
       " '03_test_data/2019_1km_6227_534.tif',\n",
       " '03_test_data/2019_1km_6234_554.tif',\n",
       " '03_test_data/2019_1km_6286_569.tif',\n",
       " '03_test_data/2019_1km_6051_690.tif',\n",
       " '03_test_data/2019_1km_6286_568.tif',\n",
       " '03_test_data/2019_1km_6368_590.tif',\n",
       " '03_test_data/2019_1km_6084_553.tif',\n",
       " '03_test_data/2019_1km_6269_501.tif',\n",
       " '03_test_data/2019_1km_6226_570.tif',\n",
       " '03_test_data/2019_1km_6269_502.tif']"
      ]
     },
     "execution_count": 3,
     "metadata": {},
     "output_type": "execute_result"
    }
   ],
   "source": [
    "paths = glob.glob('02_validation_data/*.tif')\n",
    "paths.extend(glob.glob('03_test_data/*.tif'))\n",
    "paths"
   ]
  },
  {
   "cell_type": "code",
   "execution_count": 4,
   "id": "9f07be26",
   "metadata": {},
   "outputs": [
    {
     "name": "stdout",
     "output_type": "stream",
     "text": [
      "02_validation_data/2019_1km_6147_481.tif\n",
      "02_validation_data/2019_1km_6147_482.tif\n",
      "03_test_data/2019_1km_6230_605.tif\n",
      "03_test_data/2019_1km_6234_553.tif\n",
      "03_test_data/2019_1km_6227_533.tif\n",
      "03_test_data/2019_1km_6230_604.tif\n",
      "03_test_data/2019_1km_6227_534.tif\n",
      "03_test_data/2019_1km_6234_554.tif\n",
      "03_test_data/2019_1km_6286_569.tif\n",
      "03_test_data/2019_1km_6051_690.tif\n",
      "03_test_data/2019_1km_6286_568.tif\n",
      "03_test_data/2019_1km_6368_590.tif\n",
      "03_test_data/2019_1km_6084_553.tif\n",
      "03_test_data/2019_1km_6269_501.tif\n",
      "03_test_data/2019_1km_6226_570.tif\n",
      "03_test_data/2019_1km_6269_502.tif\n"
     ]
    }
   ],
   "source": [
    "for path in paths:\n",
    "    print(path)\n",
    "    array = cv2.imread(path, cv2.IMREAD_UNCHANGED)\n",
    "    if array.shape[2] >= 4:\n",
    "        array = array[...,:3]\n",
    "        name = ''.join(random.choices(string.ascii_uppercase + string.digits, k=6))\n",
    "        name += '.png'\n",
    "        root = '/'.join(path.split('/')[:-1])\n",
    "        cv2.imwrite(f'{root}/{name}', array)\n",
    "    #os.remove(path)"
   ]
  },
  {
   "cell_type": "code",
   "execution_count": null,
   "id": "d59aff12",
   "metadata": {},
   "outputs": [],
   "source": []
  },
  {
   "cell_type": "code",
   "execution_count": null,
   "id": "28d93e3a",
   "metadata": {},
   "outputs": [],
   "source": []
  },
  {
   "cell_type": "code",
   "execution_count": null,
   "id": "60f32230",
   "metadata": {},
   "outputs": [],
   "source": []
  },
  {
   "cell_type": "code",
   "execution_count": null,
   "id": "f983f423",
   "metadata": {},
   "outputs": [],
   "source": []
  }
 ],
 "metadata": {
  "kernelspec": {
   "display_name": "Python 3 (ipykernel)",
   "language": "python",
   "name": "python3"
  },
  "language_info": {
   "codemirror_mode": {
    "name": "ipython",
    "version": 3
   },
   "file_extension": ".py",
   "mimetype": "text/x-python",
   "name": "python",
   "nbconvert_exporter": "python",
   "pygments_lexer": "ipython3",
   "version": "3.8.10"
  }
 },
 "nbformat": 4,
 "nbformat_minor": 5
}
