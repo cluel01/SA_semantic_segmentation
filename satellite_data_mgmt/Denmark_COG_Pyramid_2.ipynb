{
 "cells": [
  {
   "cell_type": "code",
   "execution_count": 1,
   "id": "2bf2de74-9d03-4d31-8fc2-d4ba835ce098",
   "metadata": {},
   "outputs": [],
   "source": [
    "import shutil\n",
    "import os\n",
    "import sys\n",
    "from pathlib import Path\n",
    "import multiprocessing\n",
    "import subprocess\n",
    "from osgeo import gdal\n",
    "import numpy as np"
   ]
  },
  {
   "cell_type": "code",
   "execution_count": 2,
   "id": "c1dad753-254f-4ada-bf90-d170c13214bb",
   "metadata": {},
   "outputs": [],
   "source": [
    "def progress_callback(complete, message, unknown):\n",
    "    print('progress: {}, message: \"{}\", unknown {}'.format(complete, message, unknown))\n",
    "    return 1"
   ]
  },
  {
   "cell_type": "code",
   "execution_count": 3,
   "id": "70bc933f-8944-497f-9e41-fcd7785ad7ca",
   "metadata": {},
   "outputs": [],
   "source": [
    "path = \"/home/jovyan/work/satellite_data/ask_new/\""
   ]
  },
  {
   "cell_type": "code",
   "execution_count": 4,
   "id": "5de8be09-0463-434d-8504-66e956abb226",
   "metadata": {},
   "outputs": [],
   "source": [
    "n_jobs = 5\n",
    "njobs_cog = int(np.floor(os.cpu_count()/n_jobs))\n",
    "\n",
    "warp_options = \"-overwrite -multi -wm 20% -t_srs WGS84 -srcnodata 0 -dstnodata 0 -co TILED=YES \\\n",
    "                -co COMPRESS=DEFLATE -co BIGTIFF=YES -wo NUM_THREADS=\"+str(njobs_cog)+\" -co NUM_THREADS=\"+str(njobs_cog) #-co BLOCKSIZE=256\"\n",
    "#vrt_options = gdal.BuildVRTOptions(resampleAlg='average', addAlpha=True)\n",
    "#translate_options = \"-b 1 -b 2 -b 3 -mask 4 -co BIGTIFF=YES -co TILED=YES --config GDAL_TIFF_INTERNAL_MASK YES -co ALPHA=YES --config GDAL_CACHEMAX 8096 -co NUM_THREADS=ALL_CPUS -co COMPRESS=DEFLATE -co PREDICTOR=2\"\n",
    "\n",
    "cog_options = \"-co BIGTIFF=YES -co NUM_THREADS=\"+str(njobs_cog)+\" -co COMPRESS=DEFLATE --config GDAL_CACHEMAX 8096 -co PREDICTOR=2\" \n",
    "gdal.SetConfigOption('GDAL_CACHEMAX', '8096')"
   ]
  },
  {
   "cell_type": "code",
   "execution_count": 5,
   "id": "0ba3d6bb-e1d3-44d6-95f6-b9b9ec2918ab",
   "metadata": {},
   "outputs": [],
   "source": [
    "parts = {i: os.path.join(path,i) for i in os.listdir(path) if os.path.isdir(os.path.join(path,i))}"
   ]
  },
  {
   "cell_type": "code",
   "execution_count": 6,
   "id": "13dd8e61-b51e-4b7a-9926-8923a5dfc62d",
   "metadata": {},
   "outputs": [],
   "source": [
    "fmapping = {}\n",
    "for part,path_part in parts.items():\n",
    "    flist = []\n",
    "    f = os.listdir(path_part)\n",
    "    for i in f:  \n",
    "        if \".tif\" in i:\n",
    "            #print(f\"COG {part} exists! Skip\")\n",
    "            continue\n",
    "    \n",
    "    for p, d, files in os.walk(path_part):\n",
    "        for i in files:\n",
    "            if i.endswith(\".tif\"):\n",
    "                  flist.append(os.path.join(p,i))\n",
    "        fmapping[part] = flist"
   ]
  },
  {
   "cell_type": "code",
   "execution_count": 7,
   "id": "e5e721a0-200e-4b3e-9bfb-e01aacbf81ca",
   "metadata": {},
   "outputs": [],
   "source": [
    "params = []\n",
    "for k,v in fmapping.items():\n",
    "    params.append([k,v])"
   ]
  },
  {
   "cell_type": "code",
   "execution_count": 10,
   "id": "a428f97c-989c-496e-8bac-a911101e76d9",
   "metadata": {},
   "outputs": [],
   "source": [
    "params = params[::-1]"
   ]
  },
  {
   "cell_type": "code",
   "execution_count": 9,
   "id": "fd0bea89-e1e2-4aaa-ab1e-dcb61672b52f",
   "metadata": {},
   "outputs": [],
   "source": [
    "def worker(args):\n",
    "    part,file_list = args\n",
    "    subpath = os.path.join(path,part)\n",
    "    tmp_file = os.path.join(subpath,\"tmp_\"+str(part)+\".tif\")\n",
    "    out_file = os.path.join(subpath,\"cog_\"+str(part)+\".tif\")\n",
    "    \n",
    "    if (os.path.isfile(tmp_file)) or os.path.isfile(out_file):\n",
    "        print(f\"{str(part)} exists!\")\n",
    "        return\n",
    "    \n",
    "    #### Transform in lossless format + WGS84 format\n",
    "    ds = gdal.Warp(tmp_file, file_list, format=\"GTiff\",options=warp_options,callback = progress_callback)\n",
    "    ds = None\n",
    "    del ds\n",
    "\n",
    "    cmd = ['gdal_translate', '-of','COG'] + cog_options.split(\" \") + [tmp_file,out_file]\n",
    "    process = subprocess.Popen(cmd)\n",
    "    try:\n",
    "        process.wait(timeout=86400) #one day\n",
    "    except subprocess.TimeoutExpired:\n",
    "        print('Timed out - killing', process.pid)\n",
    "        process.kill()\n",
    "    \n",
    "    try:\n",
    "        os.kill(process.pid, 0)\n",
    "    except OSError:\n",
    "        pass\n",
    "    finally:\n",
    "        os.remove(tmp_file)"
   ]
  },
  {
   "cell_type": "code",
   "execution_count": null,
   "id": "f9a9b034-0728-413c-bea9-4fb132556827",
   "metadata": {
    "scrolled": true,
    "tags": []
   },
   "outputs": [
    {
     "name": "stdout",
     "output_type": "stream",
     "text": [
      "6384 exists!\n",
      "6275 exists!6322 exists!\n",
      "\n",
      "6306 exists!\n",
      "6135 exists!6327 exists!\n",
      "\n"
     ]
    },
    {
     "name": "stderr",
     "output_type": "stream",
     "text": [
      "ERROR 4: Attempt to create new tiff file `/home/jovyan/work/satellite_data/ask_new/6397/tmp_6397.tif' failed: Read-only file system\n",
      "ERROR 4: /home/jovyan/work/satellite_data/ask_new/6397/tmp_6397.tif: No such file or directory\n",
      "ERROR 4: Attempt to create new tiff file `/home/jovyan/work/satellite_data/ask_new/6366/tmp_6366.tif' failed: Read-only file system\n",
      "ERROR 4: /home/jovyan/work/satellite_data/ask_new/6366/tmp_6366.tif: No such file or directory\n"
     ]
    }
   ],
   "source": [
    "pool = multiprocessing.Pool(n_jobs)\n",
    "try:\n",
    "    _ = pool.map(worker,params)\n",
    "except Exception as e:\n",
    "    print(e)\n",
    "    pool.close()\n",
    "    pool.join()\n",
    "pool.close()\n",
    "pool.join()"
   ]
  }
 ],
 "metadata": {
  "kernelspec": {
   "display_name": "Python 3 (ipykernel)",
   "language": "python",
   "name": "python3"
  },
  "language_info": {
   "codemirror_mode": {
    "name": "ipython",
    "version": 3
   },
   "file_extension": ".py",
   "mimetype": "text/x-python",
   "name": "python",
   "nbconvert_exporter": "python",
   "pygments_lexer": "ipython3",
   "version": "3.8.10"
  }
 },
 "nbformat": 4,
 "nbformat_minor": 5
}
