{
 "cells": [
  {
   "cell_type": "code",
   "execution_count": 1,
   "id": "17c0f499-4cb8-4f4c-9db5-199f9d571edc",
   "metadata": {},
   "outputs": [],
   "source": [
    "import rasterio\n",
    "from rasterio.plot import show\n",
    "from rasterio.mask import mask\n",
    "from rasterio.windows import from_bounds\n",
    "import numpy as np\n",
    "import matplotlib\n",
    "import matplotlib.pyplot as plt\n",
    "import os\n",
    "import numpy as np\n",
    "from patchify import patchify\n",
    "\n",
    "import torch\n",
    "from torch.functional import F\n",
    "from torch import nn\n",
    "from torch.utils.data import DataLoader,TensorDataset\n",
    "import fiona\n",
    "from shapely.geometry import shape\n",
    "import cv2\n",
    "from pytorch_segmentation.inference import mosaic_to_raster\n",
    "from pytorch_segmentation.data.inference_dataset import SatInferenceDataset\n",
    "from pytorch_segmentation.utils.helper import shapes_intersecting_with_raster, raster_bounds_to_shape\n",
    "#from pytorch_segmentation.utils.preprocessing import unpatchify,pad_image_topleft\n",
    "\n",
    "\n",
    "seed = 42\n",
    "\n",
    "device = torch.device('cpu')\n",
    "#device = torch.device('cuda:2' if torch.cuda.is_available() else 'cpu')\n",
    "\n",
    "\n",
    "patch_size = [256,256,3] # [x,y,bands]\n",
    "overlap = 128\n",
    "padding = 64\n",
    "\n",
    "bval = (255,255,255)\n",
    "nworkers = 4\n",
    "bs = 16\n",
    "\n",
    "\n",
    "save_dir = \"saved_models\"\n",
    "\n",
    "\n",
    "model_name = \"unet_23_06_2022_155611\"\n",
    "data_parallel = True\n",
    "model_path = save_dir + \"/\" + model_name +  \".pth\" #unet_15_03_2022_071331.pth\" #unet_24_03_2022_064749.pth\n",
    "out_path = \"data/out/\"+model_name"
   ]
  },
  {
   "cell_type": "markdown",
   "id": "d1da31df-086c-4985-bad7-a685ddb480e7",
   "metadata": {},
   "source": [
    "# SA"
   ]
  },
  {
   "cell_type": "code",
   "execution_count": 2,
   "id": "b9ed059b-8c02-4dcb-ae63-b6ec36b52ff8",
   "metadata": {},
   "outputs": [],
   "source": [
    "dataset_path = \"data/datasets/inference_data.pkl\"\n",
    "data_path = \"/home/jovyan/work/satellite_data/tmp/2018.vrt\"\n",
    "\n",
    "shape_path = \"data/label_masks/dataset/test_sa.shp\"\n",
    "#shape_path = \"/home/jovyan/work/satellite_data/tmp/shapes/26/2018.shp\"\n",
    "#mask_path = \"data/datasets/V3/test/SA/\"\n",
    "mask_path = \"/home/jovyan/work/satellite_data/tmp/25/2018_cog.tif\"\n"
   ]
  },
  {
   "cell_type": "code",
   "execution_count": 3,
   "id": "edf95086-98e3-4925-87a9-dc93d6fa9418",
   "metadata": {},
   "outputs": [
    {
     "name": "stderr",
     "output_type": "stream",
     "text": [
      "/usr/local/lib/python3.8/dist-packages/geopandas/io/file.py:362: FutureWarning: pandas.Int64Index is deprecated and will be removed from pandas in a future version. Use pandas.Index with the appropriate dtype instead.\n",
      "  pd.Int64Index,\n"
     ]
    }
   ],
   "source": [
    "raster_bounds_to_shape(mask_path,shape_path)"
   ]
  },
  {
   "cell_type": "markdown",
   "id": "a50f7ee9-7b46-49ce-ac85-30e274141b02",
   "metadata": {},
   "source": [
    "# 1. Data Loading and Preprocessing"
   ]
  },
  {
   "cell_type": "code",
   "execution_count": 4,
   "id": "780876f7-f9ec-4fb7-aeec-86d9e345fb31",
   "metadata": {},
   "outputs": [],
   "source": [
    "shape_idxs = shapes_intersecting_with_raster(shape_path,data_path)\n",
    "#shape_idxs = None"
   ]
  },
  {
   "cell_type": "code",
   "execution_count": 9,
   "id": "ebc1e4e3-ef9b-47b1-83ef-a21f8d878731",
   "metadata": {},
   "outputs": [],
   "source": [
    "\n",
    "dataset = SatInferenceDataset(data_file_path=data_path,shape_file=shape_path,shape_idx=shape_idxs,overlap=128,padding=64,nodata=0,pad_mode=\"reflect\")\n",
    "shapes = dataset.shapes.copy()\n",
    "dataset.save(dataset_path)\n",
    "\n",
    "#del dataset\n"
   ]
  },
  {
   "cell_type": "markdown",
   "id": "d4e990a8-6226-41bc-8c52-e1c2a41243e2",
   "metadata": {},
   "source": [
    "# 2. UNet \n"
   ]
  },
  {
   "cell_type": "markdown",
   "id": "93016182-695a-48a9-adf8-9768aada3eef",
   "metadata": {},
   "source": [
    "# 2.2 Unet"
   ]
  },
  {
   "cell_type": "code",
   "execution_count": 6,
   "id": "c0432cd3-5b55-4791-9707-b75dd568d925",
   "metadata": {},
   "outputs": [],
   "source": [
    "model_path = \"saved_models/\" + model_name +  \".pth\"\n",
    "state_dict = torch.load(model_path,map_location=\"cpu\")\n",
    "\n",
    "if data_parallel:\n",
    "    # create new OrderedDict that does not contain `module.`\n",
    "    from collections import OrderedDict\n",
    "    new_state_dict = OrderedDict()\n",
    "    for k, v in state_dict.items():\n",
    "        name = k[7:] # remove `module.`\n",
    "        new_state_dict[name] = v\n",
    "    model_path = save_dir + \"/\" + model_name +  \"_new.pth\"\n",
    "    torch.save(new_state_dict,model_path)"
   ]
  },
  {
   "cell_type": "code",
   "execution_count": 7,
   "id": "1032c328-b044-4171-9d18-835eba13a9dd",
   "metadata": {},
   "outputs": [],
   "source": [
    "from pytorch_segmentation.models import UNet\n",
    "net = UNet(n_channels=patch_size[2], n_classes=2, bilinear=False)\n",
    "\n",
    "if data_parallel:\n",
    "    net.load_state_dict(new_state_dict)\n",
    "else:\n",
    "    net.load_state_dict(state_dict)\n",
    "\n",
    "net.eval();\n",
    "\n"
   ]
  },
  {
   "cell_type": "markdown",
   "id": "ea67e82d-acdd-4550-a525-61a39b4a4f24",
   "metadata": {},
   "source": [
    "# Multi Process Queue In-Memory"
   ]
  },
  {
   "cell_type": "code",
   "execution_count": 8,
   "id": "44d7a651-01a9-4d94-9b77-44ff6c4373a3",
   "metadata": {
    "scrolled": true,
    "tags": []
   },
   "outputs": [
    {
     "name": "stdout",
     "output_type": "stream",
     "text": [
      "Total number of shapes:  5\n",
      "Shape:  0\n",
      "Queue PID:  17623\n"
     ]
    },
    {
     "name": "stderr",
     "output_type": "stream",
     "text": [
      "  0%|          | 0/112 [00:00<?, ?it/s]"
     ]
    },
    {
     "name": "stdout",
     "output_type": "stream",
     "text": [
      "Start GPU: 0\n",
      "Start GPU: 1\n"
     ]
    },
    {
     "name": "stderr",
     "output_type": "stream",
     "text": [
      "100%|██████████| 112/112 [00:06<00:00, 17.30it/s]\n"
     ]
    },
    {
     "name": "stdout",
     "output_type": "stream",
     "text": [
      "DONE  0\n",
      "DONE  1\n",
      "INFO: Written data/out/unet_23_06_2022_155611/test_sa_1.tif in 0.033 seconds\n",
      "Shape:  1\n",
      "Queue PID:  17623\n"
     ]
    },
    {
     "name": "stderr",
     "output_type": "stream",
     "text": [
      "  0%|          | 0/48 [00:00<?, ?it/s]"
     ]
    },
    {
     "name": "stdout",
     "output_type": "stream",
     "text": [
      "Start GPU: 1\n",
      "Start GPU: 0\n"
     ]
    },
    {
     "name": "stderr",
     "output_type": "stream",
     "text": [
      "100%|██████████| 48/48 [00:05<00:00,  8.15it/s]\n"
     ]
    },
    {
     "name": "stdout",
     "output_type": "stream",
     "text": [
      "DONE  1\n",
      "DONE  0\n",
      "INFO: Written data/out/unet_23_06_2022_155611/test_sa_2.tif in 0.021 seconds\n",
      "Shape:  2\n",
      "Queue PID:  17623\n"
     ]
    },
    {
     "name": "stderr",
     "output_type": "stream",
     "text": [
      "  0%|          | 0/391 [00:00<?, ?it/s]"
     ]
    },
    {
     "name": "stdout",
     "output_type": "stream",
     "text": [
      "Start GPU: 1\n",
      "Start GPU: 0\n"
     ]
    },
    {
     "name": "stderr",
     "output_type": "stream",
     "text": [
      "100%|██████████| 391/391 [00:09<00:00, 42.43it/s]"
     ]
    },
    {
     "name": "stdout",
     "output_type": "stream",
     "text": [
      "DONE  1\n",
      "DONE  0\n"
     ]
    },
    {
     "name": "stderr",
     "output_type": "stream",
     "text": [
      "\n"
     ]
    },
    {
     "name": "stdout",
     "output_type": "stream",
     "text": [
      "INFO: Written data/out/unet_23_06_2022_155611/test_sa_3.tif in 0.071 seconds\n",
      "Shape:  3\n",
      "Queue PID:  17623\n"
     ]
    },
    {
     "name": "stderr",
     "output_type": "stream",
     "text": [
      "  0%|          | 0/48 [00:00<?, ?it/s]"
     ]
    },
    {
     "name": "stdout",
     "output_type": "stream",
     "text": [
      "Start GPU: 1\n",
      "Start GPU: 0\n"
     ]
    },
    {
     "name": "stderr",
     "output_type": "stream",
     "text": [
      "100%|██████████| 48/48 [00:05<00:00,  8.18it/s]\n"
     ]
    },
    {
     "name": "stdout",
     "output_type": "stream",
     "text": [
      "DONE  1\n",
      "DONE  0\n",
      "INFO: Written data/out/unet_23_06_2022_155611/test_sa_4.tif in 0.021 seconds\n",
      "Shape:  4\n",
      "Queue PID:  17623\n"
     ]
    },
    {
     "name": "stderr",
     "output_type": "stream",
     "text": [
      "  0%|          | 0/616 [00:00<?, ?it/s]"
     ]
    },
    {
     "name": "stdout",
     "output_type": "stream",
     "text": [
      "Start GPU: 0\n",
      "Start GPU: 1\n"
     ]
    },
    {
     "name": "stderr",
     "output_type": "stream",
     "text": [
      "100%|██████████| 616/616 [00:09<00:00, 62.65it/s]"
     ]
    },
    {
     "name": "stdout",
     "output_type": "stream",
     "text": [
      "DONE  0\n",
      "DONE  1\n"
     ]
    },
    {
     "name": "stderr",
     "output_type": "stream",
     "text": [
      "\n"
     ]
    },
    {
     "name": "stdout",
     "output_type": "stream",
     "text": [
      "INFO: Written data/out/unet_23_06_2022_155611/test_sa_5.tif in 0.137 seconds\n",
      "Created Tif file in 1.5200469493865967 seconds: data/out/unet_23_06_2022_155611/mask_24_06_2022_060153.tif\n"
     ]
    }
   ],
   "source": [
    "from pytorch_segmentation.inference import mosaic_to_raster\n",
    "mosaic_to_raster(dataset_path,shapes,net,out_path,device_ids=[0,1],\n",
    "                bs=150,pin_memory=True,num_workers=5)"
   ]
  },
  {
   "cell_type": "markdown",
   "id": "aa21b79d-f11c-433f-8de8-96dd073f3a77",
   "metadata": {},
   "source": [
    "# Rwanda"
   ]
  },
  {
   "cell_type": "code",
   "execution_count": 3,
   "id": "d2bd4ee3-cff9-4ae7-bdc1-0ca623dd2c8c",
   "metadata": {},
   "outputs": [],
   "source": [
    "mask_path = \"data/datasets/V3/test/rwanda/\"\n",
    "shape_path = \"data/label_masks/dataset/test_rwanda.shp\"\n",
    "data_path = \"data/datasets/V3/data_pool/rwanda.vrt\""
   ]
  },
  {
   "cell_type": "code",
   "execution_count": 4,
   "id": "ae07c559-172e-444a-aab1-b049376c7d17",
   "metadata": {},
   "outputs": [
    {
     "name": "stderr",
     "output_type": "stream",
     "text": [
      "/usr/local/lib/python3.8/dist-packages/geopandas/io/file.py:362: FutureWarning: pandas.Int64Index is deprecated and will be removed from pandas in a future version. Use pandas.Index with the appropriate dtype instead.\n",
      "  pd.Int64Index,\n"
     ]
    }
   ],
   "source": [
    "raster_bounds_to_shape(mask_path,shape_path)"
   ]
  },
  {
   "cell_type": "markdown",
   "id": "d7223112-966a-49c6-a355-3d7caf4c2160",
   "metadata": {},
   "source": [
    "# 1. Data Loading and Preprocessing"
   ]
  },
  {
   "cell_type": "code",
   "execution_count": 5,
   "id": "3eb2db27-4b08-4229-9b7a-9072140451a6",
   "metadata": {},
   "outputs": [],
   "source": [
    "shape_idxs = shapes_intersecting_with_raster(shape_path,data_path)\n",
    "#shape_idxs = None"
   ]
  },
  {
   "cell_type": "code",
   "execution_count": 6,
   "id": "2fdc7cb3-9314-4bb2-b6f2-a525e8fb0bc1",
   "metadata": {},
   "outputs": [],
   "source": [
    "\n",
    "dataset = SatInferenceDataset(data_file_path=data_path,shape_file=shape_path,shape_idx=shape_idxs,overlap=128,padding=64,nodata=0,pad_mode=\"reflect\")\n",
    "shapes = dataset.shapes.copy()\n",
    "dataset.save(dataset_path)\n",
    "\n",
    "#del dataset\n",
    "\n"
   ]
  },
  {
   "cell_type": "markdown",
   "id": "25f8db77-f360-4646-9717-279a752301a4",
   "metadata": {},
   "source": [
    "# 2. UNet \n"
   ]
  },
  {
   "cell_type": "markdown",
   "id": "59b4849b-0fbf-4eb6-8ee6-71c66e2bb0f4",
   "metadata": {},
   "source": [
    "# 2.2 Unet"
   ]
  },
  {
   "cell_type": "code",
   "execution_count": 16,
   "id": "9c8e8095-b7c4-4e55-9f61-cf5f3d97acfe",
   "metadata": {},
   "outputs": [],
   "source": [
    "model_path = \"saved_models/\" + model_name +  \".pth\"\n",
    "state_dict = torch.load(model_path,map_location=\"cpu\")\n",
    "\n",
    "if data_parallel:\n",
    "    # create new OrderedDict that does not contain `module.`\n",
    "    from collections import OrderedDict\n",
    "    new_state_dict = OrderedDict()\n",
    "    for k, v in state_dict.items():\n",
    "        name = k[7:] # remove `module.`\n",
    "        new_state_dict[name] = v\n",
    "    model_path = save_dir + \"/\" + model_name +  \"_new.pth\"\n",
    "    torch.save(new_state_dict,model_path)"
   ]
  },
  {
   "cell_type": "code",
   "execution_count": 17,
   "id": "2ef0085c-4bc0-4023-942e-b858ee932158",
   "metadata": {},
   "outputs": [],
   "source": [
    "from pytorch_segmentation.models import UNet\n",
    "net = UNet(n_channels=patch_size[2], n_classes=2, bilinear=False)\n",
    "\n",
    "if data_parallel:\n",
    "    net.load_state_dict(new_state_dict)\n",
    "else:\n",
    "    net.load_state_dict(state_dict)\n",
    "\n",
    "net.eval();\n",
    "\n"
   ]
  },
  {
   "cell_type": "markdown",
   "id": "c12ea3b0-8b0a-4004-8b34-ba4d66f653ef",
   "metadata": {},
   "source": [
    "# Multi Process Queue In-Memory"
   ]
  },
  {
   "cell_type": "code",
   "execution_count": 18,
   "id": "d8a5c4d5-377a-4ef5-9f09-b534b5047e1d",
   "metadata": {
    "scrolled": true,
    "tags": []
   },
   "outputs": [
    {
     "name": "stdout",
     "output_type": "stream",
     "text": [
      "Total number of shapes:  28\n",
      "Shape:  0\n",
      "Queue PID:  17623\n"
     ]
    },
    {
     "name": "stderr",
     "output_type": "stream",
     "text": [
      "  0%|          | 0/260 [00:00<?, ?it/s]"
     ]
    },
    {
     "name": "stdout",
     "output_type": "stream",
     "text": [
      "Start GPU: 0\n",
      "Start GPU: 1\n"
     ]
    },
    {
     "name": "stderr",
     "output_type": "stream",
     "text": [
      "100%|██████████| 260/260 [00:08<00:00, 31.68it/s]\n"
     ]
    },
    {
     "name": "stdout",
     "output_type": "stream",
     "text": [
      "DONE  0\n",
      "DONE  1\n",
      "INFO: Written data/out/unet_23_06_2022_155611/test_rwanda_1.tif in 0.047 seconds\n",
      "Shape:  1\n",
      "Queue PID:  17623\n"
     ]
    },
    {
     "name": "stderr",
     "output_type": "stream",
     "text": [
      "  0%|          | 0/128 [00:00<?, ?it/s]"
     ]
    },
    {
     "name": "stdout",
     "output_type": "stream",
     "text": [
      "Start GPU: 0\n",
      "Start GPU: 1\n"
     ]
    },
    {
     "name": "stderr",
     "output_type": "stream",
     "text": [
      "100%|██████████| 128/128 [00:06<00:00, 19.38it/s]\n"
     ]
    },
    {
     "name": "stdout",
     "output_type": "stream",
     "text": [
      "DONE  0\n",
      "DONE  1\n",
      "INFO: Written data/out/unet_23_06_2022_155611/test_rwanda_2.tif in 0.059 seconds\n",
      "Shape:  2\n",
      "Queue PID:  17623\n"
     ]
    },
    {
     "name": "stderr",
     "output_type": "stream",
     "text": [
      "  0%|          | 0/45 [00:00<?, ?it/s]"
     ]
    },
    {
     "name": "stdout",
     "output_type": "stream",
     "text": [
      "Start GPU: 1\n",
      "Start GPU: 0\n"
     ]
    },
    {
     "name": "stderr",
     "output_type": "stream",
     "text": [
      "100%|██████████| 45/45 [00:05<00:00,  7.92it/s]\n"
     ]
    },
    {
     "name": "stdout",
     "output_type": "stream",
     "text": [
      "DONE  1\n",
      "DONE  0\n",
      "INFO: Written data/out/unet_23_06_2022_155611/test_rwanda_3.tif in 0.033 seconds\n",
      "Shape:  3\n",
      "Queue PID:  17623\n"
     ]
    },
    {
     "name": "stderr",
     "output_type": "stream",
     "text": [
      "  0%|          | 0/54 [00:00<?, ?it/s]"
     ]
    },
    {
     "name": "stdout",
     "output_type": "stream",
     "text": [
      "Start GPU: 0\n",
      "Start GPU: 1\n"
     ]
    },
    {
     "name": "stderr",
     "output_type": "stream",
     "text": [
      "100%|██████████| 54/54 [00:05<00:00,  9.22it/s]"
     ]
    },
    {
     "name": "stdout",
     "output_type": "stream",
     "text": [
      "DONE  0\n",
      "DONE  1\n"
     ]
    },
    {
     "name": "stderr",
     "output_type": "stream",
     "text": [
      "\n"
     ]
    },
    {
     "name": "stdout",
     "output_type": "stream",
     "text": [
      "INFO: Written data/out/unet_23_06_2022_155611/test_rwanda_4.tif in 0.022 seconds\n",
      "Shape:  4\n",
      "Queue PID:  17623\n"
     ]
    },
    {
     "name": "stderr",
     "output_type": "stream",
     "text": [
      "  0%|          | 0/204 [00:00<?, ?it/s]"
     ]
    },
    {
     "name": "stdout",
     "output_type": "stream",
     "text": [
      "Start GPU: 1\n",
      "Start GPU: 0\n"
     ]
    },
    {
     "name": "stderr",
     "output_type": "stream",
     "text": [
      "100%|██████████| 204/204 [00:07<00:00, 27.40it/s]\n"
     ]
    },
    {
     "name": "stdout",
     "output_type": "stream",
     "text": [
      "DONE  1\n",
      "DONE  0\n",
      "INFO: Written data/out/unet_23_06_2022_155611/test_rwanda_5.tif in 0.358 seconds\n",
      "Shape:  5\n",
      "Queue PID:  17623\n"
     ]
    },
    {
     "name": "stderr",
     "output_type": "stream",
     "text": [
      "  0%|          | 0/56 [00:00<?, ?it/s]"
     ]
    },
    {
     "name": "stdout",
     "output_type": "stream",
     "text": [
      "Start GPU: 0\n",
      "Start GPU: 1\n"
     ]
    },
    {
     "name": "stderr",
     "output_type": "stream",
     "text": [
      "100%|██████████| 56/56 [00:06<00:00,  8.53it/s]\n"
     ]
    },
    {
     "name": "stdout",
     "output_type": "stream",
     "text": [
      "DONE  0\n",
      "DONE  1\n",
      "INFO: Written data/out/unet_23_06_2022_155611/test_rwanda_6.tif in 0.692 seconds\n",
      "Shape:  6\n",
      "Queue PID:  17623\n"
     ]
    },
    {
     "name": "stderr",
     "output_type": "stream",
     "text": [
      "  0%|          | 0/91 [00:00<?, ?it/s]"
     ]
    },
    {
     "name": "stdout",
     "output_type": "stream",
     "text": [
      "Start GPU: 1\n",
      "Start GPU: 0\n"
     ]
    },
    {
     "name": "stderr",
     "output_type": "stream",
     "text": [
      "100%|██████████| 91/91 [00:06<00:00, 14.49it/s]\n"
     ]
    },
    {
     "name": "stdout",
     "output_type": "stream",
     "text": [
      "DONE  1\n",
      "DONE  0\n",
      "INFO: Written data/out/unet_23_06_2022_155611/test_rwanda_7.tif in 0.586 seconds\n",
      "Shape:  7\n",
      "Queue PID:  17623\n"
     ]
    },
    {
     "name": "stderr",
     "output_type": "stream",
     "text": [
      "  0%|          | 0/24 [00:00<?, ?it/s]"
     ]
    },
    {
     "name": "stdout",
     "output_type": "stream",
     "text": [
      "Start GPU: 0\n",
      "Start GPU: 1\n"
     ]
    },
    {
     "name": "stderr",
     "output_type": "stream",
     "text": [
      "100%|██████████| 24/24 [00:05<00:00,  4.33it/s]\n"
     ]
    },
    {
     "name": "stdout",
     "output_type": "stream",
     "text": [
      "DONE  0\n",
      "DONE  1\n",
      "INFO: Written data/out/unet_23_06_2022_155611/test_rwanda_8.tif in 0.026 seconds\n",
      "Shape:  8\n",
      "Queue PID:  17623\n"
     ]
    },
    {
     "name": "stderr",
     "output_type": "stream",
     "text": [
      "  0%|          | 0/126 [00:00<?, ?it/s]"
     ]
    },
    {
     "name": "stdout",
     "output_type": "stream",
     "text": [
      "Start GPU: 0\n",
      "Start GPU: 1\n"
     ]
    },
    {
     "name": "stderr",
     "output_type": "stream",
     "text": [
      "100%|██████████| 126/126 [00:06<00:00, 19.18it/s]\n"
     ]
    },
    {
     "name": "stdout",
     "output_type": "stream",
     "text": [
      "DONE  0\n",
      "DONE  1\n",
      "INFO: Written data/out/unet_23_06_2022_155611/test_rwanda_9.tif in 0.040 seconds\n",
      "Shape:  9\n",
      "Queue PID:  17623\n"
     ]
    },
    {
     "name": "stderr",
     "output_type": "stream",
     "text": [
      "  0%|          | 0/45 [00:00<?, ?it/s]"
     ]
    },
    {
     "name": "stdout",
     "output_type": "stream",
     "text": [
      "Start GPU: 0\n",
      "Start GPU: 1\n"
     ]
    },
    {
     "name": "stderr",
     "output_type": "stream",
     "text": [
      "100%|██████████| 45/45 [00:05<00:00,  7.83it/s]\n"
     ]
    },
    {
     "name": "stdout",
     "output_type": "stream",
     "text": [
      "DONE  0\n",
      "DONE  1\n",
      "INFO: Written data/out/unet_23_06_2022_155611/test_rwanda_10.tif in 0.023 seconds\n",
      "Shape:  10\n",
      "Queue PID:  17623\n"
     ]
    },
    {
     "name": "stderr",
     "output_type": "stream",
     "text": [
      "  0%|          | 0/80 [00:00<?, ?it/s]"
     ]
    },
    {
     "name": "stdout",
     "output_type": "stream",
     "text": [
      "Start GPU: 0\n",
      "Start GPU: 1\n"
     ]
    },
    {
     "name": "stderr",
     "output_type": "stream",
     "text": [
      "100%|██████████| 80/80 [00:06<00:00, 13.14it/s]\n"
     ]
    },
    {
     "name": "stdout",
     "output_type": "stream",
     "text": [
      "DONE  0\n",
      "DONE  1\n",
      "INFO: Written data/out/unet_23_06_2022_155611/test_rwanda_11.tif in 0.024 seconds\n",
      "Shape:  11\n",
      "Queue PID:  17623\n"
     ]
    },
    {
     "name": "stderr",
     "output_type": "stream",
     "text": [
      "  0%|          | 0/16 [00:00<?, ?it/s]"
     ]
    },
    {
     "name": "stdout",
     "output_type": "stream",
     "text": [
      "Start GPU: 0\n",
      "Start GPU: 1\n"
     ]
    },
    {
     "name": "stderr",
     "output_type": "stream",
     "text": [
      "100%|██████████| 16/16 [00:05<00:00,  2.99it/s]\n"
     ]
    },
    {
     "name": "stdout",
     "output_type": "stream",
     "text": [
      "DONE  0\n",
      "DONE  1\n",
      "INFO: Written data/out/unet_23_06_2022_155611/test_rwanda_12.tif in 0.020 seconds\n",
      "Shape:  12\n",
      "Queue PID:  17623\n"
     ]
    },
    {
     "name": "stderr",
     "output_type": "stream",
     "text": [
      "  0%|          | 0/54 [00:00<?, ?it/s]"
     ]
    },
    {
     "name": "stdout",
     "output_type": "stream",
     "text": [
      "Start GPU: 0\n",
      "Start GPU: 1\n"
     ]
    },
    {
     "name": "stderr",
     "output_type": "stream",
     "text": [
      "100%|██████████| 54/54 [00:05<00:00,  9.36it/s]"
     ]
    },
    {
     "name": "stdout",
     "output_type": "stream",
     "text": [
      "DONE  0\n",
      "DONE  1\n"
     ]
    },
    {
     "name": "stderr",
     "output_type": "stream",
     "text": [
      "\n"
     ]
    },
    {
     "name": "stdout",
     "output_type": "stream",
     "text": [
      "INFO: Written data/out/unet_23_06_2022_155611/test_rwanda_13.tif in 0.024 seconds\n",
      "Shape:  13\n",
      "Queue PID:  17623\n"
     ]
    },
    {
     "name": "stderr",
     "output_type": "stream",
     "text": [
      "  0%|          | 0/112 [00:00<?, ?it/s]"
     ]
    },
    {
     "name": "stdout",
     "output_type": "stream",
     "text": [
      "Start GPU: 0\n",
      "Start GPU: 1\n"
     ]
    },
    {
     "name": "stderr",
     "output_type": "stream",
     "text": [
      "100%|██████████| 112/112 [00:06<00:00, 17.49it/s]\n"
     ]
    },
    {
     "name": "stdout",
     "output_type": "stream",
     "text": [
      "DONE  0\n",
      "DONE  1\n",
      "INFO: Written data/out/unet_23_06_2022_155611/test_rwanda_14.tif in 0.046 seconds\n",
      "Shape:  14\n",
      "Queue PID:  17623\n"
     ]
    },
    {
     "name": "stderr",
     "output_type": "stream",
     "text": [
      "  0%|          | 0/120 [00:00<?, ?it/s]"
     ]
    },
    {
     "name": "stdout",
     "output_type": "stream",
     "text": [
      "Start GPU: 0\n",
      "Start GPU: 1\n"
     ]
    },
    {
     "name": "stderr",
     "output_type": "stream",
     "text": [
      "100%|██████████| 120/120 [00:06<00:00, 17.83it/s]\n"
     ]
    },
    {
     "name": "stdout",
     "output_type": "stream",
     "text": [
      "DONE  0\n",
      "DONE  1\n",
      "INFO: Written data/out/unet_23_06_2022_155611/test_rwanda_15.tif in 0.033 seconds\n",
      "Shape:  15\n",
      "Queue PID:  17623\n"
     ]
    },
    {
     "name": "stderr",
     "output_type": "stream",
     "text": [
      "  0%|          | 0/208 [00:00<?, ?it/s]"
     ]
    },
    {
     "name": "stdout",
     "output_type": "stream",
     "text": [
      "Start GPU: 0\n",
      "Start GPU: 1\n"
     ]
    },
    {
     "name": "stderr",
     "output_type": "stream",
     "text": [
      "100%|██████████| 208/208 [00:07<00:00, 27.67it/s]\n"
     ]
    },
    {
     "name": "stdout",
     "output_type": "stream",
     "text": [
      "DONE  1\n",
      "DONE  0\n",
      "INFO: Written data/out/unet_23_06_2022_155611/test_rwanda_16.tif in 0.057 seconds\n",
      "Shape:  16\n",
      "Queue PID:  17623\n"
     ]
    },
    {
     "name": "stderr",
     "output_type": "stream",
     "text": [
      "  0%|          | 0/117 [00:00<?, ?it/s]"
     ]
    },
    {
     "name": "stdout",
     "output_type": "stream",
     "text": [
      "Start GPU: 0\n",
      "Start GPU: 1\n"
     ]
    },
    {
     "name": "stderr",
     "output_type": "stream",
     "text": [
      "100%|██████████| 117/117 [00:06<00:00, 18.16it/s]\n"
     ]
    },
    {
     "name": "stdout",
     "output_type": "stream",
     "text": [
      "DONE  0\n",
      "DONE  1\n",
      "INFO: Written data/out/unet_23_06_2022_155611/test_rwanda_17.tif in 0.040 seconds\n",
      "Shape:  17\n",
      "Queue PID:  17623\n"
     ]
    },
    {
     "name": "stderr",
     "output_type": "stream",
     "text": [
      "  0%|          | 0/104 [00:00<?, ?it/s]"
     ]
    },
    {
     "name": "stdout",
     "output_type": "stream",
     "text": [
      "Start GPU: 0\n",
      "Start GPU: 1\n"
     ]
    },
    {
     "name": "stderr",
     "output_type": "stream",
     "text": [
      "100%|██████████| 104/104 [00:06<00:00, 16.32it/s]\n"
     ]
    },
    {
     "name": "stdout",
     "output_type": "stream",
     "text": [
      "DONE  1\n",
      "DONE  0\n",
      "INFO: Written data/out/unet_23_06_2022_155611/test_rwanda_18.tif in 0.037 seconds\n",
      "Shape:  18\n",
      "Queue PID:  17623\n"
     ]
    },
    {
     "name": "stderr",
     "output_type": "stream",
     "text": [
      "  0%|          | 0/240 [00:00<?, ?it/s]"
     ]
    },
    {
     "name": "stdout",
     "output_type": "stream",
     "text": [
      "Start GPU: 0\n",
      "Start GPU: 1\n"
     ]
    },
    {
     "name": "stderr",
     "output_type": "stream",
     "text": [
      "100%|██████████| 240/240 [00:07<00:00, 30.56it/s]\n"
     ]
    },
    {
     "name": "stdout",
     "output_type": "stream",
     "text": [
      "DONE  0\n",
      "DONE  1\n",
      "INFO: Written data/out/unet_23_06_2022_155611/test_rwanda_19.tif in 0.049 seconds\n",
      "Shape:  19\n",
      "Queue PID:  17623\n"
     ]
    },
    {
     "name": "stderr",
     "output_type": "stream",
     "text": [
      "  0%|          | 0/104 [00:00<?, ?it/s]"
     ]
    },
    {
     "name": "stdout",
     "output_type": "stream",
     "text": [
      "Start GPU: 0\n",
      "Start GPU: 1\n"
     ]
    },
    {
     "name": "stderr",
     "output_type": "stream",
     "text": [
      "100%|██████████| 104/104 [00:06<00:00, 16.16it/s]\n"
     ]
    },
    {
     "name": "stdout",
     "output_type": "stream",
     "text": [
      "DONE  1\n",
      "DONE  0\n",
      "INFO: Written data/out/unet_23_06_2022_155611/test_rwanda_20.tif in 0.032 seconds\n",
      "Shape:  20\n",
      "Queue PID:  17623\n"
     ]
    },
    {
     "name": "stderr",
     "output_type": "stream",
     "text": [
      "  0%|          | 0/12 [00:00<?, ?it/s]"
     ]
    },
    {
     "name": "stdout",
     "output_type": "stream",
     "text": [
      "Start GPU: 0\n",
      "Start GPU: 1\n"
     ]
    },
    {
     "name": "stderr",
     "output_type": "stream",
     "text": [
      "100%|██████████| 12/12 [00:05<00:00,  2.26it/s]\n"
     ]
    },
    {
     "name": "stdout",
     "output_type": "stream",
     "text": [
      "DONE  1\n",
      "DONE  0\n",
      "INFO: Written data/out/unet_23_06_2022_155611/test_rwanda_21.tif in 0.052 seconds\n",
      "Shape:  21\n",
      "Queue PID:  17623\n"
     ]
    },
    {
     "name": "stderr",
     "output_type": "stream",
     "text": [
      "  0%|          | 0/8 [00:00<?, ?it/s]"
     ]
    },
    {
     "name": "stdout",
     "output_type": "stream",
     "text": [
      "Start GPU: 0\n",
      "Start GPU: 1\n"
     ]
    },
    {
     "name": "stderr",
     "output_type": "stream",
     "text": [
      "100%|██████████| 8/8 [00:05<00:00,  1.50it/s]"
     ]
    },
    {
     "name": "stdout",
     "output_type": "stream",
     "text": [
      "DONE  0\n",
      "DONE  1\n"
     ]
    },
    {
     "name": "stderr",
     "output_type": "stream",
     "text": [
      "\n"
     ]
    },
    {
     "name": "stdout",
     "output_type": "stream",
     "text": [
      "INFO: Written data/out/unet_23_06_2022_155611/test_rwanda_22.tif in 0.015 seconds\n",
      "Shape:  22\n",
      "Queue PID:  17623\n"
     ]
    },
    {
     "name": "stderr",
     "output_type": "stream",
     "text": [
      "  0%|          | 0/12 [00:00<?, ?it/s]"
     ]
    },
    {
     "name": "stdout",
     "output_type": "stream",
     "text": [
      "Start GPU: 1\n",
      "Start GPU: 0\n"
     ]
    },
    {
     "name": "stderr",
     "output_type": "stream",
     "text": [
      "100%|██████████| 12/12 [00:05<00:00,  2.24it/s]\n"
     ]
    },
    {
     "name": "stdout",
     "output_type": "stream",
     "text": [
      "DONE  1\n",
      "DONE  0\n",
      "INFO: Written data/out/unet_23_06_2022_155611/test_rwanda_23.tif in 0.012 seconds\n",
      "Shape:  23\n",
      "Queue PID:  17623\n"
     ]
    },
    {
     "name": "stderr",
     "output_type": "stream",
     "text": [
      "  0%|          | 0/104 [00:00<?, ?it/s]"
     ]
    },
    {
     "name": "stdout",
     "output_type": "stream",
     "text": [
      "Start GPU: 1\n",
      "Start GPU: 0\n"
     ]
    },
    {
     "name": "stderr",
     "output_type": "stream",
     "text": [
      "100%|██████████| 104/104 [00:06<00:00, 16.34it/s]\n"
     ]
    },
    {
     "name": "stdout",
     "output_type": "stream",
     "text": [
      "DONE  1\n",
      "DONE  0\n",
      "INFO: Written data/out/unet_23_06_2022_155611/test_rwanda_24.tif in 0.051 seconds\n",
      "Shape:  24\n",
      "Queue PID:  17623\n"
     ]
    },
    {
     "name": "stderr",
     "output_type": "stream",
     "text": [
      "  0%|          | 0/120 [00:00<?, ?it/s]"
     ]
    },
    {
     "name": "stdout",
     "output_type": "stream",
     "text": [
      "Start GPU: 0\n",
      "Start GPU: 1\n"
     ]
    },
    {
     "name": "stderr",
     "output_type": "stream",
     "text": [
      "100%|██████████| 120/120 [00:06<00:00, 18.11it/s]\n"
     ]
    },
    {
     "name": "stdout",
     "output_type": "stream",
     "text": [
      "DONE  0\n",
      "DONE  1\n",
      "INFO: Written data/out/unet_23_06_2022_155611/test_rwanda_25.tif in 0.031 seconds\n",
      "Shape:  25\n",
      "Queue PID:  17623\n"
     ]
    },
    {
     "name": "stderr",
     "output_type": "stream",
     "text": [
      "  0%|          | 0/154 [00:00<?, ?it/s]"
     ]
    },
    {
     "name": "stdout",
     "output_type": "stream",
     "text": [
      "Start GPU: 0\n",
      "Start GPU: 1\n"
     ]
    },
    {
     "name": "stderr",
     "output_type": "stream",
     "text": [
      "100%|██████████| 154/154 [00:06<00:00, 22.22it/s]"
     ]
    },
    {
     "name": "stdout",
     "output_type": "stream",
     "text": [
      "DONE  0\n",
      "DONE  1\n"
     ]
    },
    {
     "name": "stderr",
     "output_type": "stream",
     "text": [
      "\n"
     ]
    },
    {
     "name": "stdout",
     "output_type": "stream",
     "text": [
      "INFO: Written data/out/unet_23_06_2022_155611/test_rwanda_26.tif in 0.044 seconds\n",
      "Shape:  26\n",
      "Queue PID:  17623\n"
     ]
    },
    {
     "name": "stderr",
     "output_type": "stream",
     "text": [
      "  0%|          | 0/104 [00:00<?, ?it/s]"
     ]
    },
    {
     "name": "stdout",
     "output_type": "stream",
     "text": [
      "Start GPU: 0\n",
      "Start GPU: 1\n"
     ]
    },
    {
     "name": "stderr",
     "output_type": "stream",
     "text": [
      "100%|██████████| 104/104 [00:06<00:00, 16.23it/s]\n"
     ]
    },
    {
     "name": "stdout",
     "output_type": "stream",
     "text": [
      "DONE  0\n",
      "DONE  1\n",
      "INFO: Written data/out/unet_23_06_2022_155611/test_rwanda_27.tif in 0.057 seconds\n",
      "Shape:  27\n",
      "Queue PID:  17623\n"
     ]
    },
    {
     "name": "stderr",
     "output_type": "stream",
     "text": [
      "  0%|          | 0/70 [00:00<?, ?it/s]"
     ]
    },
    {
     "name": "stdout",
     "output_type": "stream",
     "text": [
      "Start GPU: 0\n",
      "Start GPU: 1\n"
     ]
    },
    {
     "name": "stderr",
     "output_type": "stream",
     "text": [
      "100%|██████████| 70/70 [00:05<00:00, 11.71it/s]\n"
     ]
    },
    {
     "name": "stdout",
     "output_type": "stream",
     "text": [
      "DONE  0\n",
      "DONE  1\n",
      "INFO: Written data/out/unet_23_06_2022_155611/test_rwanda_28.tif in 0.024 seconds\n",
      "Created Tif file in 14.844889163970947 seconds: data/out/unet_23_06_2022_155611/mask_24_06_2022_061357.tif\n"
     ]
    }
   ],
   "source": [
    "from pytorch_segmentation.inference import mosaic_to_raster\n",
    "mosaic_to_raster(dataset_path,shapes,net,out_path,device_ids=[0,1],\n",
    "                bs=150,pin_memory=True,num_workers=5)"
   ]
  }
 ],
 "metadata": {
  "kernelspec": {
   "display_name": "Python 3 (ipykernel)",
   "language": "python",
   "name": "python3"
  },
  "language_info": {
   "codemirror_mode": {
    "name": "ipython",
    "version": 3
   },
   "file_extension": ".py",
   "mimetype": "text/x-python",
   "name": "python",
   "nbconvert_exporter": "python",
   "pygments_lexer": "ipython3",
   "version": "3.8.10"
  }
 },
 "nbformat": 4,
 "nbformat_minor": 5
}
