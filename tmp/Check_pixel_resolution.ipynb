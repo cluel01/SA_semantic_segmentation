{
 "cells": [
  {
   "cell_type": "code",
   "execution_count": 1,
   "id": "df74a1bf-107d-408a-9cea-0362977ca502",
   "metadata": {},
   "outputs": [],
   "source": [
    "import rasterio\n",
    "import numpy as np\n",
    "import os"
   ]
  },
  {
   "cell_type": "markdown",
   "id": "145a14cd-bb72-4d0f-84cd-84a668144b33",
   "metadata": {},
   "source": [
    "# All data"
   ]
  },
  {
   "cell_type": "code",
   "execution_count": 12,
   "id": "10b71882-9c67-4162-b00a-f87247630c00",
   "metadata": {},
   "outputs": [],
   "source": [
    "test_path = \"/home/jovyan/work/satellite_data/ku_sync/South_Africa/all\"\n",
    "years = range(2008,2019)\n"
   ]
  },
  {
   "cell_type": "code",
   "execution_count": 14,
   "id": "0d5cf3ac-5e8c-4461-8e33-a25056b0918f",
   "metadata": {},
   "outputs": [
    {
     "name": "stdout",
     "output_type": "stream",
     "text": [
      "2008: {'mean': 4.786941834000544e-06, 'max': 5.251778258369255e-06, 'min': 4.544054589647355e-06}\n",
      "2009: {'mean': 4.7990358386298206e-06, 'max': 5.123981886153684e-06, 'min': 4.544758234037293e-06}\n",
      "2010: {'mean': 4.820891122438258e-06, 'max': 5.361868543684935e-06, 'min': 4.555389526000151e-06}\n",
      "2011: {'mean': 4.80483221470525e-06, 'max': 5.025370705295884e-06, 'min': 4.565820026567791e-06}\n",
      "2012: {'mean': 4.788277920517121e-06, 'max': 5.246470942372655e-06, 'min': 4.3338184002389215e-06}\n",
      "2013: {'mean': 4.802469526036936e-06, 'max': 5.361868543684935e-06, 'min': 4.544560512844584e-06}\n",
      "2014: {'mean': 4.828098124880712e-06, 'max': 5.332781520561307e-06, 'min': 4.565820026567791e-06}\n",
      "2015: {'mean': 4.805738434208045e-06, 'max': 5.350967197266997e-06, 'min': 4.55952478232207e-06}\n",
      "2016: {'mean': 4.795754403747073e-06, 'max': 5.361868543684935e-06, 'min': 4.534949561720734e-06}\n",
      "2017: {'mean': 2.395681731964928e-06, 'max': 2.5130892080830274e-06, 'min': 2.2829076255557445e-06}\n",
      "2018: {'mean': 2.354632323008427e-06, 'max': 2.4518059035517245e-06, 'min': 2.2797598474191957e-06}\n"
     ]
    }
   ],
   "source": [
    "res = {}\n",
    "for y in years:\n",
    "    files = [os.path.join(test_path,i) for i in os.listdir(test_path) if i.endswith(str(y)+\".tif\")]\n",
    "    acc_list = []\n",
    "    for i in files:\n",
    "        with rasterio.open(i) as src:\n",
    "            px_acc = src.meta[\"transform\"][0]\n",
    "            acc_list.append(px_acc)\n",
    "    r = {\"mean\":np.mean(acc_list),\"max\":np.max(acc_list),\"min\":np.min(acc_list)}\n",
    "    print(f\"{y}: {r}\")\n",
    "    res[y] = r"
   ]
  },
  {
   "cell_type": "markdown",
   "id": "7189999a-a5bc-4d28-890e-bff165ca041e",
   "metadata": {},
   "source": [
    "# Train data\n"
   ]
  },
  {
   "cell_type": "code",
   "execution_count": 15,
   "id": "b05ac6dc-b699-4987-a6b6-a616d53ce462",
   "metadata": {},
   "outputs": [],
   "source": [
    "test_path = \"../data/datasets/V12/data_pool\"\n",
    "folders = [\"SA\",\"rwanda_2008\",\"rwanda_2019\"]\n",
    "\n",
    "   \n"
   ]
  },
  {
   "cell_type": "code",
   "execution_count": 22,
   "id": "5d8323de-e723-472a-8940-83d223cd9944",
   "metadata": {},
   "outputs": [
    {
     "name": "stdout",
     "output_type": "stream",
     "text": [
      "SA: {'mean': 2.356693175751476e-06, 'max': 2.381203733265005e-06, 'min': 2.2797598474191957e-06} EPSG:4326\n",
      "rwanda_2008: {'mean': 2.2548358166366163e-06, 'max': 2.255894327776561e-06, 'min': 2.2539554543745257e-06} EPSG:4326\n",
      "rwanda_2019: {'mean': 2.261000572526681e-06, 'max': 2.2611024391174207e-06, 'min': 2.2606479657991047e-06} EPSG:4326\n"
     ]
    }
   ],
   "source": [
    "res = {}\n",
    "for f in folders:\n",
    "    files = [os.path.join(test_path,f,i) for i in os.listdir(os.path.join(test_path,f)) if i.endswith(\".tif\")]\n",
    "    acc_list = []\n",
    "    for i in files:\n",
    "        with rasterio.open(i) as src:\n",
    "            px_acc = src.meta[\"transform\"][0]\n",
    "            acc_list.append(px_acc)\n",
    "    r = {\"mean\":np.mean(acc_list),\"max\":np.max(acc_list),\"min\":np.min(acc_list)}\n",
    "    print(f\"{f}: {r} {src.crs}\")\n",
    "    res[y] = r"
   ]
  },
  {
   "cell_type": "markdown",
   "id": "017552e9-9c65-41ce-a749-a70ea321649b",
   "metadata": {},
   "source": [
    "#  Test data"
   ]
  },
  {
   "cell_type": "code",
   "execution_count": 2,
   "id": "49e5d51b-1d62-4052-860f-991901a0212b",
   "metadata": {},
   "outputs": [],
   "source": [
    "test_path = \"../data/test_dataset\"\n",
    "years = range(2008,2019)\n"
   ]
  },
  {
   "cell_type": "code",
   "execution_count": 10,
   "id": "b9342d7c-1703-4e50-b80e-6603b5c74184",
   "metadata": {},
   "outputs": [],
   "source": [
    "res = {}\n",
    "for y in years:\n",
    "    files = [os.path.join(test_path,str(y),i) for i in os.listdir(os.path.join(test_path,str(y))) if i.endswith(\".tif\")]\n",
    "    acc_list = []\n",
    "    for i in files:\n",
    "        with rasterio.open(i) as src:\n",
    "            px_acc = src.meta[\"transform\"][0]\n",
    "            acc_list.append(px_acc)\n",
    "    r = {\"mean\":np.mean(acc_list),\"max\":np.max(acc_list),\"min\":np.min(acc_list)}\n",
    "    print(f\"{y}: {r}\")\n",
    "    res[y] = r"
   ]
  },
  {
   "cell_type": "code",
   "execution_count": 11,
   "id": "d88e7c38-bd99-4777-8c44-186c3d3a0783",
   "metadata": {},
   "outputs": [
    {
     "data": {
      "text/plain": [
       "{2008: {'mean': 4.807447246969413e-06,\n",
       "  'max': 4.807447246969413e-06,\n",
       "  'min': 4.807447246969413e-06},\n",
       " 2009: {'mean': 4.785264765318409e-06,\n",
       "  'max': 4.862033987075899e-06,\n",
       "  'min': 4.7051600791444945e-06},\n",
       " 2010: {'mean': 4.784512259048071e-06,\n",
       "  'max': 4.871380521392532e-06,\n",
       "  'min': 4.723357627234384e-06},\n",
       " 2011: {'mean': 4.793129515205657e-06,\n",
       "  'max': 4.852662653841524e-06,\n",
       "  'min': 4.763461014129717e-06},\n",
       " 2012: {'mean': 4.8034464392014855e-06,\n",
       "  'max': 4.854590123568552e-06,\n",
       "  'min': 4.752302754834418e-06},\n",
       " 2013: {'mean': 4.75439989117871e-06,\n",
       "  'max': 4.8567331013674955e-06,\n",
       "  'min': 4.643209289829214e-06},\n",
       " 2014: {'mean': 4.841333997557325e-06,\n",
       "  'max': 5.0174117457280004e-06,\n",
       "  'min': 4.767320393461935e-06},\n",
       " 2015: {'mean': 4.783377001994597e-06,\n",
       "  'max': 4.915864295986842e-06,\n",
       "  'min': 4.6815556459569526e-06},\n",
       " 2016: {'mean': 4.7646457018726055e-06,\n",
       "  'max': 4.873450368346855e-06,\n",
       "  'min': 4.715922480951913e-06},\n",
       " 2017: {'mean': 2.3946456309430433e-06,\n",
       "  'max': 2.4807442286885346e-06,\n",
       "  'min': 2.3575723538031906e-06},\n",
       " 2018: {'mean': 2.3551265438023066e-06,\n",
       "  'max': 2.393020050193186e-06,\n",
       "  'min': 2.3073554227494234e-06}}"
      ]
     },
     "execution_count": 11,
     "metadata": {},
     "output_type": "execute_result"
    }
   ],
   "source": [
    "res"
   ]
  }
 ],
 "metadata": {
  "kernelspec": {
   "display_name": "Python 3 (ipykernel)",
   "language": "python",
   "name": "python3"
  },
  "language_info": {
   "codemirror_mode": {
    "name": "ipython",
    "version": 3
   },
   "file_extension": ".py",
   "mimetype": "text/x-python",
   "name": "python",
   "nbconvert_exporter": "python",
   "pygments_lexer": "ipython3",
   "version": "3.8.10"
  }
 },
 "nbformat": 4,
 "nbformat_minor": 5
}
