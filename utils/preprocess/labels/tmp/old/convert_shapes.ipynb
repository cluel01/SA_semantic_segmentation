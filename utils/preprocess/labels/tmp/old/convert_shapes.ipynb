{
 "cells": [
  {
   "cell_type": "code",
   "execution_count": 7,
   "id": "46bd648d-7d59-4dfe-b452-b06a660b3a14",
   "metadata": {},
   "outputs": [
    {
     "name": "stdout",
     "output_type": "stream",
     "text": [
      "test_area_13_labels.shp\n",
      "test_area_12_labels.shp\n",
      "test_area_8_labels.shp\n"
     ]
    }
   ],
   "source": [
    "import geopandas\n",
    "import os\n",
    "\n",
    "files = [i for i in os.listdir() if i.endswith(\".shp\")]\n",
    "\n",
    "for i in files:  \n",
    "    shp_file = geopandas.read_file(i)\n",
    "    if len(shp_file) == 0:\n",
    "        print(i)\n",
    "        continue\n",
    "        \n",
    "    new_name = \"../\" + i.split(\".\")[0]  + \".geojson\"\n",
    "    shp_file.to_file(new_name, driver='GeoJSON')"
   ]
  }
 ],
 "metadata": {
  "kernelspec": {
   "display_name": "Python 3 (ipykernel)",
   "language": "python",
   "name": "python3"
  },
  "language_info": {
   "codemirror_mode": {
    "name": "ipython",
    "version": 3
   },
   "file_extension": ".py",
   "mimetype": "text/x-python",
   "name": "python",
   "nbconvert_exporter": "python",
   "pygments_lexer": "ipython3",
   "version": "3.8.10"
  }
 },
 "nbformat": 4,
 "nbformat_minor": 5
}
