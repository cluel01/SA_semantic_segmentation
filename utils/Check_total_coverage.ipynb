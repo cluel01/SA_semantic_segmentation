{
 "cells": [
  {
   "cell_type": "code",
   "execution_count": 19,
   "id": "ab66c2fa-a330-405d-8306-b342aac2bbc8",
   "metadata": {},
   "outputs": [],
   "source": [
    "import os \n",
    "import rasterio\n",
    "import geopandas as gpd\n",
    "import numpy as np"
   ]
  },
  {
   "cell_type": "code",
   "execution_count": 2,
   "id": "d5cb4b20-c8ca-400f-bccb-cd09bcf9e862",
   "metadata": {},
   "outputs": [],
   "source": [
    "path =  \"/home/jovyan/work/satellite_data/tmp/inference/unet_18_11_2022_103158_new.pth\"\n",
    "year = 2017\n",
    "cutline_path = \"/home/jovyan/work/satellite_data/ku_sync/South_Africa/cutlines/SA_all.geojson\""
   ]
  },
  {
   "cell_type": "code",
   "execution_count": 3,
   "id": "face80d8-97e0-4f70-a9b3-e83f56cfe028",
   "metadata": {},
   "outputs": [],
   "source": [
    "df = gpd.read_file(cutline_path)"
   ]
  },
  {
   "cell_type": "code",
   "execution_count": 4,
   "id": "e1a62f43-53b4-43e4-b652-ebbf6f950d87",
   "metadata": {},
   "outputs": [],
   "source": [
    "df = df[df[\"year\"] == str(year)]"
   ]
  },
  {
   "cell_type": "code",
   "execution_count": 17,
   "id": "cc408dbd-af7b-4a7c-b5f4-497e111e7a0c",
   "metadata": {},
   "outputs": [],
   "source": [
    "idxs = [int(i.split(\"_\")[-1].split(\".\")[0]) for i in os.listdir(os.path.join(path,str(year))) if i.endswith(\".tif\")]\n",
    "idxs = sorted(idxs)"
   ]
  },
  {
   "cell_type": "code",
   "execution_count": 27,
   "id": "1a47e229-cf95-4249-950d-f58d4bf24e8d",
   "metadata": {},
   "outputs": [],
   "source": [
    "arr_all = df.y_idx.values.astype(\"int\")\n",
    "arr_avail = np.array(idxs)"
   ]
  },
  {
   "cell_type": "code",
   "execution_count": 30,
   "id": "33ebbba7-3863-44d6-b3ea-0959c0713b04",
   "metadata": {},
   "outputs": [
    {
     "data": {
      "text/plain": [
       "array([ 76, 108, 120, 151, 152, 153, 154, 155, 156, 157, 158, 159, 160,\n",
       "       161, 162, 163, 164, 165, 166, 167, 168, 169, 170, 171, 172, 173,\n",
       "       174, 175, 176, 177, 178, 179, 180, 181, 182, 183, 184, 185, 186,\n",
       "       187, 188, 189, 190, 191, 192, 193, 328, 329, 330, 331, 332, 333,\n",
       "       334, 335, 336, 337, 338, 339, 340, 341, 342, 343, 344, 345, 346,\n",
       "       347, 348, 349, 350, 351, 352, 353, 354, 355, 356, 357, 358, 359,\n",
       "       360, 361, 362, 363, 364, 365, 366, 367, 368, 369, 370, 371, 372,\n",
       "       373, 374, 375, 376, 377, 378, 379, 380, 381, 382, 383])"
      ]
     },
     "execution_count": 30,
     "metadata": {},
     "output_type": "execute_result"
    }
   ],
   "source": [
    "np.setdiff1d(arr_all,arr_avail)"
   ]
  }
 ],
 "metadata": {
  "kernelspec": {
   "display_name": "Python 3 (ipykernel)",
   "language": "python",
   "name": "python3"
  },
  "language_info": {
   "codemirror_mode": {
    "name": "ipython",
    "version": 3
   },
   "file_extension": ".py",
   "mimetype": "text/x-python",
   "name": "python",
   "nbconvert_exporter": "python",
   "pygments_lexer": "ipython3",
   "version": "3.8.10"
  }
 },
 "nbformat": 4,
 "nbformat_minor": 5
}
