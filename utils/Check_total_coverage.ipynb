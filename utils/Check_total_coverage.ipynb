{
 "cells": [
  {
   "cell_type": "code",
   "execution_count": 1,
   "id": "ab66c2fa-a330-405d-8306-b342aac2bbc8",
   "metadata": {},
   "outputs": [],
   "source": [
    "import os \n",
    "import rasterio\n",
    "import geopandas as gpd\n",
    "import numpy as np"
   ]
  },
  {
   "cell_type": "code",
   "execution_count": 2,
   "id": "d5cb4b20-c8ca-400f-bccb-cd09bcf9e862",
   "metadata": {},
   "outputs": [],
   "source": [
    "path =  \"/home/jovyan/work/satellite_data/tmp/inference/smp_unet_mitb3_08_03_2023_170715.pth\"\n",
    "years = list(range(2014,2021))\n",
    "cutline_path = \"/home/jovyan/work/satellite_data/ku_sync/South_Africa/cutlines/SA_all.geojson\""
   ]
  },
  {
   "cell_type": "code",
   "execution_count": 3,
   "id": "face80d8-97e0-4f70-a9b3-e83f56cfe028",
   "metadata": {},
   "outputs": [],
   "source": [
    "df = gpd.read_file(cutline_path)"
   ]
  },
  {
   "cell_type": "code",
   "execution_count": 14,
   "id": "f0eec62f-aa17-474d-b8bc-544e3f15f924",
   "metadata": {},
   "outputs": [
    {
     "name": "stdout",
     "output_type": "stream",
     "text": [
      "Year 2014: []\n",
      "Duplicate tiles: [101, 109, 201]  \n",
      " #############\n",
      "Year 2015: []\n",
      "Duplicate tiles: [9, 64, 83, 101, 201]  \n",
      " #############\n",
      "Year 2016: []\n",
      "Duplicate tiles: [1, 101, 104, 105, 106, 181, 201, 243, 244, 245, 246, 301, 433, 434, 435, 436, 437, 439, 440, 441, 442, 443, 444, 445, 501, 601]  \n",
      " #############\n",
      "Year 2017: []\n",
      "Duplicate tiles: [2, 3, 101, 167, 168, 169, 177, 201, 292, 302, 305, 306, 307, 350, 351, 352, 353, 354, 355, 356, 357]  \n",
      " #############\n",
      "Year 2018: []\n",
      "Duplicate tiles: [11, 12, 71, 99, 134, 135, 136, 138, 139, 140, 141, 142, 143, 144, 145, 146, 147, 148, 149, 161, 179, 180, 181, 182, 183, 201]  \n",
      " #############\n",
      "Year 2019: []\n",
      "Duplicate tiles: [6, 7, 8, 9, 10, 11, 12, 13, 14, 15, 16, 17, 18, 19, 20, 21, 22, 23, 24, 25, 26, 27, 28, 29, 30, 31, 32, 33, 34, 35, 36, 37, 38]  \n",
      " #############\n",
      "Year 2020: []\n",
      "Duplicate tiles: [1, 2, 3, 4, 5, 6, 7, 8, 9, 10, 11, 12, 13, 14, 15, 16, 17]  \n",
      " #############\n"
     ]
    }
   ],
   "source": [
    "for y in years:\n",
    "    df_year = df[df[\"year\"] == str(y)]\n",
    "    p = os.path.join(path,str(y))\n",
    "    arr_all = df_year.y_idx.values.astype(\"int\")\n",
    "    if os.path.isdir(p):\n",
    "        idxs = [int(i.split(\"_\")[-1].split(\".\")[0]) for i in os.listdir(p) if i.endswith(\".tif\")]\n",
    "        idxs = sorted(idxs)\n",
    "        arr_avail = np.array(idxs)\n",
    "    else:\n",
    "        arr_avail = np.array([])\n",
    "    missing_idxs = np.setdiff1d(arr_all,arr_avail)\n",
    "    unique_elements, counts = np.unique(arr_avail, return_counts=True)\n",
    "    duplicate_elements = unique_elements[counts > 1]\n",
    "    print(f\"Year {y}: {missing_idxs.tolist()}\")\n",
    "    print(f\"Duplicate tiles: {duplicate_elements.tolist()}  \\n #############\")"
   ]
  },
  {
   "cell_type": "markdown",
   "id": "d9f14508-0e11-462d-b7c2-af52a7a2abfd",
   "metadata": {},
   "source": [
    "# Check for corrupt tiles\n"
   ]
  },
  {
   "cell_type": "code",
   "execution_count": 25,
   "id": "d800bdbc-255c-4e32-97d8-0cca9777c84f",
   "metadata": {},
   "outputs": [],
   "source": [
    "for y in [2018]:#years:\n",
    "    p = os.path.join(path,str(y))\n",
    "    if os.path.isdir(p):\n",
    "        tiles = [os.path.join(p,i) for i in os.listdir(p) if i.endswith(\".tif\")]\n",
    "        \n",
    "        for i in tiles:\n",
    "            with rasterio.open(i) as src:\n",
    "                try:\n",
    "                    a = src.read(1, window=((0, 1), (0, 1)))\n",
    "                    correct = True\n",
    "                except:\n",
    "                    correct = False\n",
    "                    print(correct)\n",
    "                    print(f\"{os.path.basename(i)}\")\n",
    "                #print(a)"
   ]
  },
  {
   "cell_type": "markdown",
   "id": "5ae8a97a-1672-4515-8d35-c938ca0e7985",
   "metadata": {},
   "source": [
    "# Overlapping tiles"
   ]
  },
  {
   "cell_type": "code",
   "execution_count": 34,
   "id": "b25bfcef-50ee-4396-bf09-07657566bb9b",
   "metadata": {},
   "outputs": [
    {
     "name": "stdout",
     "output_type": "stream",
     "text": [
      "/home/jovyan/work/satellite_data/tmp/inference/smp_unet_mitb3_08_03_2023_170715.pth/2018/tmp_shape_15_03_2023_135759_284.tif\n",
      "/home/jovyan/work/satellite_data/tmp/inference/smp_unet_mitb3_08_03_2023_170715.pth/2018/tmp_shape_13_03_2023_153432_312.tif\n",
      "/home/jovyan/work/satellite_data/tmp/inference/smp_unet_mitb3_08_03_2023_170715.pth/2018/tmp_shape_13_03_2023_150953_229.tif\n",
      "/home/jovyan/work/satellite_data/tmp/inference/smp_unet_mitb3_08_03_2023_170715.pth/2018/tmp_shape_15_03_2023_001614_249.tif\n",
      "/home/jovyan/work/satellite_data/tmp/inference/smp_unet_mitb3_08_03_2023_170715.pth/2018/tmp_shape_15_03_2023_001614_255.tif\n",
      "/home/jovyan/work/satellite_data/tmp/inference/smp_unet_mitb3_08_03_2023_170715.pth/2018/2018_330.tif\n"
     ]
    }
   ],
   "source": [
    "import rasterio\n",
    "from shapely.geometry import box\n",
    "\n",
    "path = \"/home/jovyan/work/satellite_data/tmp/inference/smp_unet_mitb3_08_03_2023_170715.pth/2018\"\n",
    "f = \"tmp_shape_13_03_2023_153432_315.tif\"\n",
    "files = [os.path.join(path,i) for i in os.listdir(path) if i.endswith(\".tif\") and i != f]\n",
    "\n",
    "for i in files:\n",
    "    with rasterio.open(os.path.join(path,\"tmp_shape_13_03_2023_153432_315.tif\")) as src1, rasterio.open(i) as src2:\n",
    "        # Get the spatial extent of each file\n",
    "        extent1 = box(*src1.bounds)\n",
    "        extent2 = box(*src2.bounds)\n",
    "\n",
    "        # Check if the two extents overlap\n",
    "        if extent1.intersects(extent2):\n",
    "            print(i)"
   ]
  }
 ],
 "metadata": {
  "kernelspec": {
   "display_name": "Python 3 (ipykernel)",
   "language": "python",
   "name": "python3"
  },
  "language_info": {
   "codemirror_mode": {
    "name": "ipython",
    "version": 3
   },
   "file_extension": ".py",
   "mimetype": "text/x-python",
   "name": "python",
   "nbconvert_exporter": "python",
   "pygments_lexer": "ipython3",
   "version": "3.8.10"
  }
 },
 "nbformat": 4,
 "nbformat_minor": 5
}
