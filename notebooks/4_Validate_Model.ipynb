{
 "cells": [
  {
   "cell_type": "code",
   "execution_count": 1,
   "id": "abb3203b-c886-4240-a9c7-c6909bc13fc5",
   "metadata": {},
   "outputs": [],
   "source": [
    "import numpy as np\n",
    "import os\n",
    "import numpy as np\n",
    "from patchify import patchify\n",
    "import torch\n",
    "from torch.functional import F\n",
    "from torch import nn\n",
    "from torch.nn import DataParallel\n",
    "from torch.utils.data import DataLoader\n",
    "from torchvision import transforms\n",
    "import time\n",
    "import random\n",
    "\n",
    "from pytorch_segmentation.validate import validate\n",
    "from pytorch_segmentation.data.rwanda_dataset import RwandaDataset\n",
    "from pytorch_segmentation.data.inmemory_dataset import InMemorySatDataset\n",
    "from pytorch_segmentation.models import UNet\n",
    "\n",
    "seed = 42\n",
    "torch.manual_seed(seed)\n",
    "random.seed(seed)\n",
    "np.random.seed(seed)"
   ]
  },
  {
   "cell_type": "code",
   "execution_count": 7,
   "id": "017c552b-149e-4563-ac67-5c5194879131",
   "metadata": {},
   "outputs": [],
   "source": [
    "model_name = \"unet_11_07_2022_070457_new\"#\"unet_29_07_2022_120212\" #\"unet_18_07_2022_150108\"#\"unet_19_07_2022_115722\" #\"unet_18_07_2022_150108\"#\"unet_05_05_2022_113034\" #\"unet_11_07_2022_070457\"#\"unet_13_07_2022_171256\" \n",
    "data_parallel = False\n",
    "save_dir = \"saved_models\"\n",
    "\n",
    "#SA data\n",
    "data_path = \"/home/jovyan/work/satellite_data/tmp/2018.vrt\"\n",
    "label_path_sa_train = \"data/datasets/V6/train/SA\"\n",
    "label_path_sa_val = \"data/datasets/V6/val/SA\"\n",
    "\n",
    "#Rwanda data\n",
    "shape_path_rw = \"data/datasets/V1/rwanda_tree_shapes/training_data_polygons_model_29_v2.shp\"\n",
    "train_data_path_rw = \"data/datasets/V6/train/rwanda\"\n",
    "val_data_path_rw = \"data/datasets/V6/val/rwanda\"\n",
    "test_data_path_rw = \"data/datasets/V6/test/rwanda\"\n",
    "\n",
    "save_dir_sa = \"data/out/validate/\"+ model_name +\"/SA\"\n",
    "save_dir_rw = \"data/out/validate/\"+ model_name +\"/RW\"\n",
    "\n",
    "patch_size = [300,300]# [x,y,bands]\n",
    "overlap = 260\n",
    "\n",
    "val_patch_size = [256,256]# [x,y,bands]\n",
    "val_overlap = 200\n",
    "\n",
    "padding = False#True\n",
    "\n",
    "val_transform = None\n",
    "\n",
    "batch_size = 100\n",
    "nworkers = 4\n",
    "pin_memory = True\n",
    "\n",
    "n_images = 300\n",
    "archived = True"
   ]
  },
  {
   "cell_type": "code",
   "execution_count": 3,
   "id": "5b5ffa12-d4ec-4ba0-81b0-29272b0a3a4d",
   "metadata": {},
   "outputs": [],
   "source": [
    "device = torch.device('cuda:2' if torch.cuda.is_available() else 'cpu')\n",
    "#device = torch.device('cpu')\n",
    "if str(device) == \"cpu\":\n",
    "    pin_memory = False\n",
    "\n",
    "test_transform = None\n"
   ]
  },
  {
   "cell_type": "markdown",
   "id": "22e22e17-d326-4b18-8dc7-cde3779b140a",
   "metadata": {},
   "source": [
    "# 2 Model"
   ]
  },
  {
   "cell_type": "code",
   "execution_count": 4,
   "id": "f077c40d-85d3-4ab9-81d1-a34166489eeb",
   "metadata": {},
   "outputs": [],
   "source": [
    "model_path = save_dir + \"/\" + model_name +  \".pth\"\n",
    "state_dict = torch.load(model_path,map_location=\"cpu\")"
   ]
  },
  {
   "cell_type": "code",
   "execution_count": 5,
   "id": "1fc78247-adbf-4d74-aa30-1b6dbb7e6e4e",
   "metadata": {},
   "outputs": [],
   "source": [
    "\n",
    "\n",
    "if data_parallel:\n",
    "    # create new OrderedDict that does not contain `module.`\n",
    "    from collections import OrderedDict\n",
    "    new_state_dict = OrderedDict()\n",
    "    for k, v in state_dict.items():\n",
    "        name = k[7:] # remove `module.`\n",
    "        new_state_dict[name] = v\n",
    "    model_path = save_dir + \"/\" + model_name +  \"_new.pth\"\n",
    "    torch.save(new_state_dict,model_path)\n",
    "    "
   ]
  },
  {
   "cell_type": "markdown",
   "id": "b5168c3d-5a55-4bb8-b895-2854a3d445ec",
   "metadata": {},
   "source": [
    "## 2.1 Advanced Unet"
   ]
  },
  {
   "cell_type": "code",
   "execution_count": 8,
   "id": "5099cf09-e92b-42ec-b5a3-1b2db4965d0c",
   "metadata": {},
   "outputs": [],
   "source": [
    "# Change here to adapt to your data\n",
    "# n_channels=3 for RGB images \n",
    "# n_classes is the number of probabilities you want to get per pixel\n",
    "\n",
    "net = UNet(n_channels=3, n_classes=2, bilinear=False)\n",
    "#net= DataParallel(net)\n",
    "\n",
    "if data_parallel:\n",
    "    net.load_state_dict(new_state_dict)\n",
    "else:\n",
    "    net.load_state_dict(state_dict)\n",
    "#net.load_state_dict(torch.load(model_path,map_location=\"cpu\"))\n",
    "\n",
    "\n",
    "#net= DataParallel(net,device_ids=[0,1])\n",
    "net = net.to(device=device)\n",
    "\n"
   ]
  },
  {
   "cell_type": "markdown",
   "id": "f3c01180-c417-45a2-9c2a-cff0ebf272bc",
   "metadata": {},
   "source": [
    "# 3 Validate Model"
   ]
  },
  {
   "cell_type": "markdown",
   "id": "286a3abd-8356-4f95-97a3-0d90c11ec2c5",
   "metadata": {},
   "source": [
    "## Validation set"
   ]
  },
  {
   "cell_type": "code",
   "execution_count": 9,
   "id": "5dfee1e7-cf71-4252-9184-1203444ebe0f",
   "metadata": {},
   "outputs": [],
   "source": [
    "save_dir_sa_val = os.path.join(save_dir_sa,\"val\")\n",
    "save_dir_rw_val = os.path.join(save_dir_rw,\"val\")"
   ]
  },
  {
   "cell_type": "code",
   "execution_count": 10,
   "id": "21d9cead-fbf3-4e74-8cdb-5ee3d5dccc59",
   "metadata": {},
   "outputs": [],
   "source": [
    "val_dataset_sa = InMemorySatDataset(data_file_path=data_path,mask_path=label_path_sa_val,\n",
    "                             overlap=val_overlap,patch_size=val_patch_size,padding=padding,transform=val_transform)\n",
    "dl_sa = DataLoader(val_dataset_sa,batch_size=batch_size,num_workers=nworkers,\n",
    "                         shuffle=True,pin_memory=pin_memory,drop_last=False)"
   ]
  },
  {
   "cell_type": "code",
   "execution_count": 11,
   "id": "2e977a9d-f113-4d4b-9b14-c71eabbecf22",
   "metadata": {},
   "outputs": [
    {
     "name": "stdout",
     "output_type": "stream",
     "text": [
      "Scores: acc     0.961577\n",
      "iou     0.289808\n",
      "dice    0.383985\n"
     ]
    },
    {
     "data": {
      "text/plain": [
       "acc     0.961577\n",
       "iou     0.289808\n",
       "dice    0.383985\n",
       "Name: 0, dtype: float64"
      ]
     },
     "execution_count": 11,
     "metadata": {},
     "output_type": "execute_result"
    }
   ],
   "source": [
    "validate(net,dl_sa,save_dir_sa_val,n_images=n_images,device=device,mode=\"best\")"
   ]
  },
  {
   "cell_type": "code",
   "execution_count": null,
   "id": "f89a4cd1-12ac-4b7a-833a-52f86c87986d",
   "metadata": {},
   "outputs": [],
   "source": [
    "val_dataset_sa.export_patches(\"data/out/val_data/\"+model_name+\"/SA/val\",archived=archived,max_n=300)"
   ]
  },
  {
   "cell_type": "code",
   "execution_count": 12,
   "id": "b03a47a5-d154-43e3-aefc-c960b6d1dde9",
   "metadata": {},
   "outputs": [
    {
     "name": "stderr",
     "output_type": "stream",
     "text": [
      "100%|██████████| 18/18 [00:25<00:00,  1.40s/it]\n"
     ]
    }
   ],
   "source": [
    "val_dataset_rw = RwandaDataset(dataset_path=None,data_file_path=val_data_path_rw,\n",
    "                   shape_path=shape_path_rw,\n",
    "                             overlap=val_overlap,patch_size=val_patch_size,padding=padding,transform=val_transform)\n",
    "\n",
    "dl_rw = DataLoader(val_dataset_rw,batch_size=batch_size,num_workers=nworkers,\n",
    "                         shuffle=True,pin_memory=pin_memory,drop_last=False)"
   ]
  },
  {
   "cell_type": "code",
   "execution_count": 13,
   "id": "f3fbbfb7-d746-4bff-95b2-260edce6c987",
   "metadata": {},
   "outputs": [
    {
     "name": "stdout",
     "output_type": "stream",
     "text": [
      "Scores: acc     0.912840\n",
      "iou     0.573817\n",
      "dice    0.703045\n"
     ]
    },
    {
     "data": {
      "text/plain": [
       "acc     0.912840\n",
       "iou     0.573817\n",
       "dice    0.703045\n",
       "Name: 0, dtype: float64"
      ]
     },
     "execution_count": 13,
     "metadata": {},
     "output_type": "execute_result"
    }
   ],
   "source": [
    "validate(net,dl_rw,save_dir_rw_val,n_images=n_images,device=device,mode=\"best\")"
   ]
  },
  {
   "cell_type": "code",
   "execution_count": null,
   "id": "7492f7f8-558f-4d40-9e88-207e05b53691",
   "metadata": {},
   "outputs": [],
   "source": [
    "val_dataset_rw.export_patches(\"data/out/val_data/RW/val\",archived=archived,max_n=300)"
   ]
  },
  {
   "cell_type": "markdown",
   "id": "774da7c2-4497-4b82-9737-4719a745c1f3",
   "metadata": {},
   "source": [
    "## Training set"
   ]
  },
  {
   "cell_type": "code",
   "execution_count": null,
   "id": "bc6a0fa4-2afa-4d26-817f-5eb21f3e019f",
   "metadata": {},
   "outputs": [],
   "source": [
    "save_dir_sa_train = os.path.join(save_dir_sa,\"train\")\n",
    "save_dir_rw_train = os.path.join(save_dir_rw,\"train\")"
   ]
  },
  {
   "cell_type": "code",
   "execution_count": null,
   "id": "32afc877-baa4-441d-89b6-fb82a7d8b002",
   "metadata": {},
   "outputs": [],
   "source": [
    "train_dataset_sa = InMemorySatDataset(data_file_path=data_path,mask_path=label_path_sa_train,\n",
    "                             overlap=overlap,patch_size=patch_size,padding=padding,transform=None)\n",
    "dl_sa = DataLoader(train_dataset_sa,batch_size=batch_size,num_workers=nworkers,\n",
    "                         shuffle=True,pin_memory=pin_memory,drop_last=False)"
   ]
  },
  {
   "cell_type": "code",
   "execution_count": null,
   "id": "eda4b039-dcf8-4729-9ef7-f1ae7a595a5b",
   "metadata": {},
   "outputs": [],
   "source": [
    "validate(net,dl_sa,save_dir_sa_train,n_images=n_images,device=device,mode=\"worst\",patch_size=[3,300,300])"
   ]
  },
  {
   "cell_type": "code",
   "execution_count": null,
   "id": "c96abef8-1410-4d32-9260-299718e6b75b",
   "metadata": {},
   "outputs": [],
   "source": [
    "train_dataset_sa.export_patches(\"data/out/val_data/SA/train\",archived=archived,max_n=500)"
   ]
  },
  {
   "cell_type": "code",
   "execution_count": null,
   "id": "76a63183-cd76-4e6e-98d0-f863db83b309",
   "metadata": {},
   "outputs": [],
   "source": [
    "train_dataset_rw = RwandaDataset(dataset_path=None,data_file_path=train_data_path_rw,\n",
    "                   shape_path=shape_path_rw,\n",
    "                             overlap=overlap,patch_size=patch_size,padding=padding,transform=None)\n",
    "\n",
    "dl_rw = DataLoader(train_dataset_rw,batch_size=batch_size,num_workers=nworkers,\n",
    "                         shuffle=True,pin_memory=pin_memory,drop_last=False)"
   ]
  },
  {
   "cell_type": "code",
   "execution_count": null,
   "id": "2cc13cfa-5341-47f2-b8e4-e7fc99114720",
   "metadata": {},
   "outputs": [],
   "source": [
    "validate(net,dl_rw,save_dir_rw_train,n_images=n_images,device=device,mode=\"worst\",patch_size=[3,300,300])"
   ]
  },
  {
   "cell_type": "code",
   "execution_count": null,
   "id": "5649acde-e5b0-4842-9d4b-60bad849dc39",
   "metadata": {},
   "outputs": [],
   "source": [
    "train_dataset_rw.export_patches(\"data/out/val_data/RW/train\",archived=archived,max_n=500)"
   ]
  }
 ],
 "metadata": {
  "kernelspec": {
   "display_name": "Python 3 (ipykernel)",
   "language": "python",
   "name": "python3"
  },
  "language_info": {
   "codemirror_mode": {
    "name": "ipython",
    "version": 3
   },
   "file_extension": ".py",
   "mimetype": "text/x-python",
   "name": "python",
   "nbconvert_exporter": "python",
   "pygments_lexer": "ipython3",
   "version": "3.8.10"
  }
 },
 "nbformat": 4,
 "nbformat_minor": 5
}
