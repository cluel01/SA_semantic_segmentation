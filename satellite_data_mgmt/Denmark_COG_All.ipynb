{
 "cells": [
  {
   "cell_type": "code",
   "execution_count": 1,
   "id": "906a601a-0bb1-4119-a7d0-82208ab6df5e",
   "metadata": {},
   "outputs": [],
   "source": [
    "import shutil\n",
    "import os\n",
    "import sys\n",
    "from pathlib import Path\n",
    "import multiprocessing\n",
    "import subprocess\n",
    "from osgeo import gdal\n",
    "import numpy as np"
   ]
  },
  {
   "cell_type": "code",
   "execution_count": 2,
   "id": "c4434a57-8f77-454d-af01-3ac608655f41",
   "metadata": {},
   "outputs": [],
   "source": [
    "def progress_callback(complete, message, unknown):\n",
    "    print('progress: {}, message: \"{}\", unknown {}'.format(complete, message, unknown))\n",
    "    return 1"
   ]
  },
  {
   "cell_type": "code",
   "execution_count": 3,
   "id": "e0815770-4254-4123-bbd7-06809ef69899",
   "metadata": {},
   "outputs": [],
   "source": [
    "path = \"/home/jovyan/work/satellite_data/ask_new/\""
   ]
  },
  {
   "cell_type": "code",
   "execution_count": 4,
   "id": "b8809677-6f8b-4551-a1cf-5b83d8c4c6f9",
   "metadata": {},
   "outputs": [],
   "source": [
    "parts = {i: os.path.join(path,i) for i in os.listdir(path) if os.path.isdir(os.path.join(path,i))}"
   ]
  },
  {
   "cell_type": "code",
   "execution_count": 5,
   "id": "41ad3c9a-5db6-481c-9ad6-071b0d13643f",
   "metadata": {},
   "outputs": [],
   "source": [
    "file_list = []\n",
    "for part,path_part in parts.items():\n",
    "    f = os.listdir(path_part)\n",
    "    \n",
    "    subpath = os.path.join(path,part)\n",
    "    out_file = os.path.join(subpath,\"cog_\"+str(part)+\".tif\")\n",
    "    \n",
    "    if os.path.basename(out_file) in f:\n",
    "        file_list.append(out_file)"
   ]
  },
  {
   "cell_type": "markdown",
   "id": "014cdde4-3a1d-4336-acf7-3f4ff8f83f33",
   "metadata": {},
   "source": [
    "# Variant 1"
   ]
  },
  {
   "cell_type": "code",
   "execution_count": null,
   "id": "0ab55a7e-f1bc-4287-89ee-1b28b6c0eb5d",
   "metadata": {},
   "outputs": [
    {
     "name": "stdout",
     "output_type": "stream",
     "text": [
      "progress: 0.0, message: \"Processing /home/jovyan/work/satellite_data/ask_new/6179/cog_6179.tif [1/355]\", unknown None\n"
     ]
    }
   ],
   "source": [
    "tmp_file = os.path.join(path,\"tmp_all.tif\")\n",
    "out_file = os.path.join(path,\"all_cog.tif\")\n",
    "warp_options = \"-overwrite -multi -wm 80% -t_srs WGS84 -srcnodata 0 -dstnodata 0 -co TILED=YES \\\n",
    "                -co COMPRESS=DEFLATE -co BIGTIFF=YES -wo NUM_THREADS=ALL_CPUS -co NUM_THREADS=ALL_CPUS\" #-co BLOCKSIZE=256\"\n",
    "cog_options = \"-co BIGTIFF=YES -co NUM_THREADS=ALL_CPUS -co COMPRESS=DEFLATE --config GDAL_CACHEMAX 20096 -co PREDICTOR=2\" \n",
    "gdal.SetConfigOption('GDAL_CACHEMAX', '20096')\n",
    "#### Transform in lossless format + WGS84 format\n",
    "ds = gdal.Warp(tmp_file, file_list, format=\"GTiff\",options=warp_options,callback = progress_callback)\n",
    "ds = None\n",
    "del ds\n",
    "\n",
    "cmd = ['gdal_translate', '-of','COG'] + cog_options.split(\" \") + [tmp_file,out_file]\n",
    "process = subprocess.Popen(cmd)\n",
    "try:\n",
    "    process.wait(timeout=None) #one day\n",
    "except subprocess.TimeoutExpired:\n",
    "    print('Timed out - killing', process.pid)\n",
    "    process.kill()\n",
    "\n",
    "os.remove(tmp_file)"
   ]
  },
  {
   "cell_type": "markdown",
   "id": "54ab5470-4fe8-4b55-a604-07fcb7eb7c1c",
   "metadata": {},
   "source": [
    "# Variant 2"
   ]
  },
  {
   "cell_type": "code",
   "execution_count": 6,
   "id": "d5ba9de5-c96e-4c8d-a101-aac23072306e",
   "metadata": {},
   "outputs": [],
   "source": [
    "vrt_name = os.path.join(path,\"all.vrt\")\n",
    "\n",
    "ds = gdal.BuildVRT(vrt_name,file_list)\n",
    "ds = None"
   ]
  },
  {
   "cell_type": "code",
   "execution_count": 7,
   "id": "c326f50f-2613-4e1e-8941-f90954954998",
   "metadata": {},
   "outputs": [],
   "source": [
    "cog_options = \"-co BIGTIFF=YES -co NUM_THREADS=ALL_CPUS -co COMPRESS=DEFLATE --config GDAL_CACHEMAX 8096 -co PREDICTOR=2\" \n",
    "gdal.SetConfigOption('GDAL_CACHEMAX', '8096')"
   ]
  },
  {
   "cell_type": "code",
   "execution_count": null,
   "id": "0def8e79-9ee4-4a8b-965c-c1017701f609",
   "metadata": {},
   "outputs": [
    {
     "name": "stdout",
     "output_type": "stream",
     "text": [
      "Input file size is 4486338, 2018483\n",
      "0"
     ]
    }
   ],
   "source": [
    "out_file = os.path.join(path,\"all_cog.tif\")\n",
    "cmd = ['gdal_translate', '-of','COG'] + cog_options.split(\" \") + [vrt_name,out_file]\n",
    "process = subprocess.Popen(cmd)\n",
    "try:\n",
    "    process.wait(timeout=None) #one day\n",
    "except subprocess.TimeoutExpired:\n",
    "    print('Timed out - killing', process.pid)\n",
    "    process.kill()"
   ]
  }
 ],
 "metadata": {
  "kernelspec": {
   "display_name": "Python 3 (ipykernel)",
   "language": "python",
   "name": "python3"
  },
  "language_info": {
   "codemirror_mode": {
    "name": "ipython",
    "version": 3
   },
   "file_extension": ".py",
   "mimetype": "text/x-python",
   "name": "python",
   "nbconvert_exporter": "python",
   "pygments_lexer": "ipython3",
   "version": "3.8.10"
  }
 },
 "nbformat": 4,
 "nbformat_minor": 5
}
