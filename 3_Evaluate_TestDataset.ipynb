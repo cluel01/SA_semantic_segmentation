{
 "cells": [
  {
   "cell_type": "code",
   "execution_count": 1,
   "id": "fe54e605-9597-4b43-9aa9-5fc9e7a3c450",
   "metadata": {},
   "outputs": [],
   "source": [
    "import rasterio\n",
    "from rasterio.plot import show\n",
    "from rasterio.mask import mask\n",
    "from rasterio.windows import from_bounds\n",
    "import numpy as np\n",
    "import matplotlib\n",
    "import matplotlib.pyplot as plt\n",
    "import os\n",
    "import numpy as np\n",
    "from patchify import patchify\n",
    "import torch\n",
    "from torch.functional import F\n",
    "from torch import nn\n",
    "from torch.utils.data import DataLoader\n",
    "from shapely.geometry import box\n",
    "from torchvision import transforms\n",
    "import time\n",
    "import random\n",
    "\n",
    "from pytorch_segmentation.data.test_dataset import TestSatDataset\n",
    "from pytorch_segmentation.models import UNet\n",
    "import pytorch_segmentation.augmentation.transforms as seg_transforms\n",
    "\n",
    "seed = 42\n",
    "torch.manual_seed(seed)\n",
    "random.seed(seed)\n",
    "np.random.seed(seed)"
   ]
  },
  {
   "cell_type": "code",
   "execution_count": 2,
   "id": "90579e0a-fcdf-444b-ace1-cb21f74bc753",
   "metadata": {},
   "outputs": [],
   "source": [
    "model_name = \"unet_11_07_2022_070457\"#\"unet_05_05_2022_113034\" #\"unet_11_07_2022_070457\"#\"unet_13_07_2022_171256\" \n",
    "data_parallel = True\n",
    "\n",
    "save_dir = \"saved_models\"\n",
    "\n",
    "\n",
    "data_file_path =\"/home/jovyan/work/satellite_data/tmp/\"\n",
    "shape_path=\"/home/jovyan/work/notebooks/satellite_data/utils/shapes\"\n",
    "mask_path=\"/home/jovyan/work/notebooks/satellite_data/data/test_dataset\"\n",
    "\n",
    "test_patch_size = [256,256,3]\n",
    "overlap_test = 128\n",
    "\n",
    "batch_size = 50\n",
    "nworkers = 10\n",
    "pin_memory = True\n",
    "\n",
    "padding = False#True"
   ]
  },
  {
   "cell_type": "code",
   "execution_count": 3,
   "id": "3f5b9408-bbd0-4efc-9ff6-342cc04dfa67",
   "metadata": {},
   "outputs": [],
   "source": [
    "device = torch.device('cuda:1' if torch.cuda.is_available() else 'cpu')\n",
    "#device = torch.device('cpu')\n",
    "if str(device) == \"cpu\":\n",
    "    pin_memory = False\n",
    "\n",
    "test_transform = None\n",
    "\n",
    "test_transform = seg_transforms.Compose([\n",
    "    #seg_transforms.UnmaskEdges([225,225]),\n",
    "     #seg_transforms.CLAHE_Norm(),\n",
    "    #seg_transforms.Add_VDVI()\n",
    "    ])"
   ]
  },
  {
   "cell_type": "markdown",
   "id": "8b1ed039-1908-4655-a3b9-cf729abd4f5e",
   "metadata": {},
   "source": [
    "# 1.1 Data Collection"
   ]
  },
  {
   "cell_type": "code",
   "execution_count": 4,
   "id": "4e0a5579-5906-4b7c-9e71-f3839f42bddb",
   "metadata": {},
   "outputs": [
    {
     "name": "stdout",
     "output_type": "stream",
     "text": [
      "Skipped shape due to nodata!\n",
      "Size:  17046\n"
     ]
    }
   ],
   "source": [
    "dataset = TestSatDataset(data_file_path =data_file_path,shape_path=shape_path,mask_path=mask_path,patch_size=test_patch_size,overlap=overlap_test,transform=test_transform,\n",
    "                         resampling={2008:True,2009:True,2010:False,2011:True,2012:True,2013:False,2014:True},resampling_factor=6 )"
   ]
  },
  {
   "cell_type": "code",
   "execution_count": 5,
   "id": "31fdca36-ca16-40a0-a5a0-c6ccce74fe41",
   "metadata": {},
   "outputs": [],
   "source": [
    "test_dl = DataLoader(dataset,batch_size=batch_size,num_workers=nworkers,\n",
    "                     shuffle=False,pin_memory=pin_memory,drop_last=False)"
   ]
  },
  {
   "cell_type": "code",
   "execution_count": 6,
   "id": "82ba91fe-eefa-4ab5-aac4-4b93f99d5d52",
   "metadata": {},
   "outputs": [
    {
     "data": {
      "image/png": "[encoded data removed]",
      "text/plain": [
       "<Figure size 432x288 with 2 Axes>"
      ]
     },
     "metadata": {
      "needs_background": "light"
     },
     "output_type": "display_data"
    }
   ],
   "source": [
    "dataset.show_tuple(0)"
   ]
  },
  {
   "cell_type": "markdown",
   "id": "04946360-de70-48df-ab48-0afc50345eec",
   "metadata": {},
   "source": [
    "# 2 Model"
   ]
  },
  {
   "cell_type": "code",
   "execution_count": 7,
   "id": "9ce8f69f-e0ca-4b48-9e63-b3eb97edf285",
   "metadata": {},
   "outputs": [],
   "source": [
    "model_path = save_dir + \"/\" + model_name +  \".pth\"\n",
    "state_dict = torch.load(model_path,map_location=\"cpu\")"
   ]
  },
  {
   "cell_type": "code",
   "execution_count": 8,
   "id": "21f0114c-184d-4185-b923-94030342f9a1",
   "metadata": {},
   "outputs": [],
   "source": [
    "\n",
    "\n",
    "if data_parallel:\n",
    "    # create new OrderedDict that does not contain `module.`\n",
    "    from collections import OrderedDict\n",
    "    new_state_dict = OrderedDict()\n",
    "    for k, v in state_dict.items():\n",
    "        name = k[7:] # remove `module.`\n",
    "        new_state_dict[name] = v\n",
    "    model_path = save_dir + \"/\" + model_name +  \"_new.pth\"\n",
    "    torch.save(new_state_dict,model_path)\n",
    "    "
   ]
  },
  {
   "cell_type": "markdown",
   "id": "abcf870c-8387-4e3f-b1e5-560250e92a88",
   "metadata": {},
   "source": [
    "## 2.1 Advanced Unet"
   ]
  },
  {
   "cell_type": "code",
   "execution_count": 9,
   "id": "cbfbbeb1-264c-455d-99f4-a315b27655f5",
   "metadata": {},
   "outputs": [],
   "source": [
    "# Change here to adapt to your data\n",
    "# n_channels=3 for RGB images \n",
    "# n_classes is the number of probabilities you want to get per pixel\n",
    "\n",
    "net = UNet(n_channels=3, n_classes=2, bilinear=False)\n",
    "#net= DataParallel(net)\n",
    "\n",
    "if data_parallel:\n",
    "    net.load_state_dict(new_state_dict)\n",
    "else:\n",
    "    net.load_state_dict(state_dict)\n",
    "#net.load_state_dict(torch.load(model_path,map_location=\"cpu\"))\n",
    "\n",
    "net = net.to(device=device)\n",
    "\n"
   ]
  },
  {
   "cell_type": "markdown",
   "id": "ed024eaa-85f1-4dff-a6c4-552f1e0cfe98",
   "metadata": {},
   "source": [
    "## 3 Validation"
   ]
  },
  {
   "cell_type": "code",
   "execution_count": 10,
   "id": "ef163d4a-e02c-4130-b86d-ef09b43f7e28",
   "metadata": {},
   "outputs": [],
   "source": [
    "net.eval()\n",
    "output = []\n",
    "y_test = []\n",
    "\n",
    "with torch.no_grad(): \n",
    "    for i,batch in enumerate(test_dl):\n",
    "        x = batch[\"x\"].to(device)\n",
    "        out = net(x)#[\"out\"]\n",
    "        out = torch.argmax(out,dim=1)\n",
    "        out = out.cpu().numpy()\n",
    "        output.extend(out)\n",
    "y_pred = torch.from_numpy(np.stack(output))"
   ]
  },
  {
   "cell_type": "code",
   "execution_count": 11,
   "id": "5c36d33b-7ec7-4c4d-945f-3946f605ef1e",
   "metadata": {},
   "outputs": [
    {
     "name": "stdout",
     "output_type": "stream",
     "text": [
      "Year 2008:          acc       iou      dice\n",
      "0  0.938541  0.189366  0.290464\n",
      "Year 2009:          acc       iou      dice\n",
      "0  0.947391  0.255369  0.266488\n",
      "Year 2010:          acc       iou      dice\n",
      "0  0.968569  0.372067  0.438372\n",
      "Year 2011:          acc       iou      dice\n",
      "0  0.994101  0.768538  0.772354\n",
      "Year 2012:         acc       iou     dice\n",
      "0  0.98936  0.819027  0.82018\n",
      "Year 2013:          acc       iou      dice\n",
      "0  0.844659  0.280268  0.301455\n",
      "Year 2014:          acc     iou      dice\n",
      "0  0.965321  0.5552  0.560713\n",
      "Total score:          acc       iou      dice\n",
      "0  0.897134  0.448082  0.459208\n"
     ]
    },
    {
     "data": {
      "text/html": [
       "<div>\n",
       "<style scoped>\n",
       "    .dataframe tbody tr th:only-of-type {\n",
       "        vertical-align: middle;\n",
       "    }\n",
       "\n",
       "    .dataframe tbody tr th {\n",
       "        vertical-align: top;\n",
       "    }\n",
       "\n",
       "    .dataframe thead th {\n",
       "        text-align: right;\n",
       "    }\n",
       "</style>\n",
       "<table border=\"1\" class=\"dataframe\">\n",
       "  <thead>\n",
       "    <tr style=\"text-align: right;\">\n",
       "      <th></th>\n",
       "      <th>acc</th>\n",
       "      <th>iou</th>\n",
       "      <th>dice</th>\n",
       "    </tr>\n",
       "  </thead>\n",
       "  <tbody>\n",
       "    <tr>\n",
       "      <th>0</th>\n",
       "      <td>0.897134</td>\n",
       "      <td>0.448082</td>\n",
       "      <td>0.459208</td>\n",
       "    </tr>\n",
       "  </tbody>\n",
       "</table>\n",
       "</div>"
      ],
      "text/plain": [
       "        acc       iou      dice\n",
       "0  0.897134  0.448082  0.459208"
      ]
     },
     "execution_count": 11,
     "metadata": {},
     "output_type": "execute_result"
    }
   ],
   "source": [
    "dataset.evaluate(y_pred)"
   ]
  },
  {
   "cell_type": "code",
   "execution_count": null,
   "id": "5ebd0036-11fd-41b4-981f-08585c602c8d",
   "metadata": {},
   "outputs": [],
   "source": []
  },
  {
   "cell_type": "code",
   "execution_count": null,
   "id": "0c1420af-5514-4003-a14e-aa3955816fca",
   "metadata": {},
   "outputs": [],
   "source": []
  },
  {
   "cell_type": "code",
   "execution_count": 11,
   "id": "d50ab690-4ae7-4020-9f81-9fd61ece81fc",
   "metadata": {},
   "outputs": [
    {
     "name": "stdout",
     "output_type": "stream",
     "text": [
      "Year 2008:          acc       iou      dice\n",
      "0  0.956558  0.021805  0.041488\n",
      "Year 2009:          acc       iou      dice\n",
      "0  0.935311  0.166948  0.219038\n",
      "Year 2010:          acc       iou      dice\n",
      "0  0.968569  0.372067  0.438372\n",
      "Year 2011:         acc      iou      dice\n",
      "0  0.99407  0.60761  0.618099\n",
      "Year 2012:          acc       iou      dice\n",
      "0  0.985641  0.699419  0.704255\n",
      "Year 2013:          acc       iou      dice\n",
      "0  0.901952  0.304418  0.398757\n",
      "Year 2014:          acc       iou      dice\n",
      "0  0.995274  0.403363  0.406369\n",
      "Total score:          acc       iou      dice\n",
      "0  0.912109  0.395754  0.428722\n"
     ]
    },
    {
     "data": {
      "text/html": [
       "<div>\n",
       "<style scoped>\n",
       "    .dataframe tbody tr th:only-of-type {\n",
       "        vertical-align: middle;\n",
       "    }\n",
       "\n",
       "    .dataframe tbody tr th {\n",
       "        vertical-align: top;\n",
       "    }\n",
       "\n",
       "    .dataframe thead th {\n",
       "        text-align: right;\n",
       "    }\n",
       "</style>\n",
       "<table border=\"1\" class=\"dataframe\">\n",
       "  <thead>\n",
       "    <tr style=\"text-align: right;\">\n",
       "      <th></th>\n",
       "      <th>acc</th>\n",
       "      <th>iou</th>\n",
       "      <th>dice</th>\n",
       "    </tr>\n",
       "  </thead>\n",
       "  <tbody>\n",
       "    <tr>\n",
       "      <th>0</th>\n",
       "      <td>0.912109</td>\n",
       "      <td>0.395754</td>\n",
       "      <td>0.428722</td>\n",
       "    </tr>\n",
       "  </tbody>\n",
       "</table>\n",
       "</div>"
      ],
      "text/plain": [
       "        acc       iou      dice\n",
       "0  0.912109  0.395754  0.428722"
      ]
     },
     "execution_count": 11,
     "metadata": {},
     "output_type": "execute_result"
    }
   ],
   "source": [
    "dataset.evaluate(y_pred)"
   ]
  },
  {
   "cell_type": "code",
   "execution_count": 11,
   "id": "02bd9ae9-1fc8-4c2d-8d8e-4e502bd98672",
   "metadata": {},
   "outputs": [
    {
     "name": "stdout",
     "output_type": "stream",
     "text": [
      "Year 2008:          acc       iou      dice\n",
      "0  0.956326  0.014227  0.026918\n",
      "Year 2009:          acc       iou      dice\n",
      "0  0.935684  0.163766  0.245337\n",
      "Year 2010:          acc       iou      dice\n",
      "0  0.966556  0.335502  0.388489\n",
      "Year 2011:          acc       iou      dice\n",
      "0  0.983479  0.547251  0.555629\n",
      "Year 2012:          acc       iou     dice\n",
      "0  0.993608  0.674545  0.67551\n",
      "Year 2013:         acc       iou     dice\n",
      "0  0.90293  0.324345  0.42211\n",
      "Year 2014:          acc       iou      dice\n",
      "0  0.993666  0.403197  0.406086\n",
      "Total score:          acc       iou      dice\n",
      "0  0.909535  0.372093  0.412595\n"
     ]
    },
    {
     "data": {
      "text/html": [
       "<div>\n",
       "<style scoped>\n",
       "    .dataframe tbody tr th:only-of-type {\n",
       "        vertical-align: middle;\n",
       "    }\n",
       "\n",
       "    .dataframe tbody tr th {\n",
       "        vertical-align: top;\n",
       "    }\n",
       "\n",
       "    .dataframe thead th {\n",
       "        text-align: right;\n",
       "    }\n",
       "</style>\n",
       "<table border=\"1\" class=\"dataframe\">\n",
       "  <thead>\n",
       "    <tr style=\"text-align: right;\">\n",
       "      <th></th>\n",
       "      <th>acc</th>\n",
       "      <th>iou</th>\n",
       "      <th>dice</th>\n",
       "    </tr>\n",
       "  </thead>\n",
       "  <tbody>\n",
       "    <tr>\n",
       "      <th>0</th>\n",
       "      <td>0.909535</td>\n",
       "      <td>0.372093</td>\n",
       "      <td>0.412595</td>\n",
       "    </tr>\n",
       "  </tbody>\n",
       "</table>\n",
       "</div>"
      ],
      "text/plain": [
       "        acc       iou      dice\n",
       "0  0.909535  0.372093  0.412595"
      ]
     },
     "execution_count": 11,
     "metadata": {},
     "output_type": "execute_result"
    }
   ],
   "source": [
    "dataset.evaluate(y_pred)"
   ]
  }
 ],
 "metadata": {
  "kernelspec": {
   "display_name": "Python 3 (ipykernel)",
   "language": "python",
   "name": "python3"
  },
  "language_info": {
   "codemirror_mode": {
    "name": "ipython",
    "version": 3
   },
   "file_extension": ".py",
   "mimetype": "text/x-python",
   "name": "python",
   "nbconvert_exporter": "python",
   "pygments_lexer": "ipython3",
   "version": "3.8.10"
  }
 },
 "nbformat": 4,
 "nbformat_minor": 5
}
