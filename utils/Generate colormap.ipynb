{
 "cells": [
  {
   "cell_type": "code",
   "execution_count": 1,
   "id": "e1c1cf79-33c1-4470-9fc0-a695087be13c",
   "metadata": {},
   "outputs": [],
   "source": [
    "import matplotlib.cm as cm\n",
    "import numpy as np\n",
    "\n",
    "# Get the Viridis colormap from matplotlib\n",
    "viridis_cmap = cm.get_cmap('viridis')\n",
    "\n",
    "# Get the RGB values for the Viridis colormap\n",
    "viridis_rgb = []\n",
    "for i in range(viridis_cmap.N):\n",
    "    rgb = viridis_cmap(i)[:3] # Keep only the RGB values, not the alpha value\n",
    "    viridis_rgb.append(rgb)\n",
    "\n",
    "# Save the RGB values to a .clr file\n",
    "with open('viridis.clr', 'w') as f:\n",
    "    f.write('# Viridis colormap\\n')\n",
    "    for rgb in viridis_rgb:\n",
    "        r, g, b = rgb\n",
    "        f.write(f'{r:.6f} {g:.6f} {b:.6f}\\n')"
   ]
  }
 ],
 "metadata": {
  "kernelspec": {
   "display_name": "Python 3 (ipykernel)",
   "language": "python",
   "name": "python3"
  },
  "language_info": {
   "codemirror_mode": {
    "name": "ipython",
    "version": 3
   },
   "file_extension": ".py",
   "mimetype": "text/x-python",
   "name": "python",
   "nbconvert_exporter": "python",
   "pygments_lexer": "ipython3",
   "version": "3.8.10"
  }
 },
 "nbformat": 4,
 "nbformat_minor": 5
}
