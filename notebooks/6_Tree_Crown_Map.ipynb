{
 "cells": [
  {
   "cell_type": "code",
   "execution_count": 1,
   "id": "4d884ea0-804f-4b5d-b112-51779935da48",
   "metadata": {},
   "outputs": [],
   "source": [
    "import sys \n",
    "sys.path.append(\"/home/jovyan/work/notebooks/satellite_data/SA_segmentation/pytorch_segmentation/planetunet\")\n",
    "import os\n",
    "import warnings\n",
    "import numpy as np\n",
    "import rasterio\n",
    "from osgeo import gdal\n",
    "import matplotlib.pyplot as plt\n",
    "from config.config_types import PostprocessingConfig\n",
    "import postprocessing"
   ]
  },
  {
   "cell_type": "code",
   "execution_count": 2,
   "id": "9b2dd2a8-cf0c-413c-9f85-a143f5399bdd",
   "metadata": {},
   "outputs": [],
   "source": [
    "years = list(range(2014,2021))\n",
    "path = \"/home/jovyan/work/satellite_data/tmp/inference/\"\n",
    "model_name = \"smp_unet_mitb3_08_03_2023_170715.pth\""
   ]
  },
  {
   "cell_type": "markdown",
   "id": "7d5693a6-06d2-4dd5-a486-928bcd3aea11",
   "metadata": {},
   "source": [
    "# Update year VRTs"
   ]
  },
  {
   "cell_type": "code",
   "execution_count": 3,
   "id": "749a5374-e407-48f2-bf30-7c672949d4bf",
   "metadata": {},
   "outputs": [
    {
     "name": "stdout",
     "output_type": "stream",
     "text": [
      "Year: 2014\n",
      "0...10...20...30...40...50...60...70...80...90...100 - done.\n",
      "Year: 2015\n",
      "0...10...20...30...40...50...60...70...80...90...100 - done.\n",
      "Year: 2016\n",
      "0...10...20...30...40...50...60...70...80...90...100 - done.\n",
      "Year: 2017\n",
      "0...10...20...30...40...50...60...70...80...90...100 - done.\n",
      "Year: 2018\n",
      "0...10...20...30...40...50...60...70...80...90...100 - done.\n",
      "Year: 2019\n",
      "0...10...20...30...40...50...60...70...80...90...100 - done.\n",
      "Year: 2020\n",
      "0...10...20...30...40...50...60...70...80...90...100 - done.\n"
     ]
    }
   ],
   "source": [
    "for i in years:\n",
    "    print(f\"Year: {str(i)}\")\n",
    "    if os.path.isfile(os.path.join(path,model_name,str(i)+\".vrt\")):\n",
    "        os.remove(os.path.join(path,model_name,str(i)+\".vrt\"))\n",
    "    cmd = f\"cd {os.path.join(path,model_name)} && gdalbuildvrt {str(i)}.vrt {str(i)}/*_*.tif\"\n",
    "    os.system(cmd)"
   ]
  },
  {
   "cell_type": "code",
   "execution_count": 4,
   "id": "ade6c2d0-e9c2-4775-9e0e-b2dfe73e7f9d",
   "metadata": {},
   "outputs": [],
   "source": [
    "# import math\n",
    "# raster_fp = os.path.join(path,model_name,\"2014\",\"tmp_shape_15_03_2023_213818_105.tif\")\n",
    "# src = rasterio.open(raster_fp)\n",
    "# out_fp = os.path.join(path,model_name,\"test2.tif\")\n",
    "# latitude = (src.bounds[3] + src.bounds[1]) / 2\n",
    "# x_res = 10 / (111320 * math.cos(math.radians(abs(latitude))))  # at equator 1°lon ~= 111.32 km\n",
    "# y_res = 10 / 110540  # and        1°lat ~= 110.54 km\n",
    "\n",
    "\n",
    "# warp_options = dict(\n",
    "#     xRes=x_res,\n",
    "#     yRes=y_res,\n",
    "#     srcNodata=255,\n",
    "#     dstNodata=None,\n",
    "#     resampleAlg=gdal.GRA_Average, #gdal.GRA_NearestNeighbour ,#\n",
    "#     outputType=gdal.GDT_Float32,\n",
    "#     creationOptions=[\"COMPRESS=LZW\", \"TILED=YES\", \"BIGTIFF=IF_SAFER\", \"NUM_THREADS=ALL_CPUS\"],\n",
    "#     warpOptions=[\"NUM_THREADS=ALL_CPUS\"],\n",
    "#     warpMemoryLimit=1000000000,\n",
    "#     multithread=True\n",
    "# )\n",
    "# ds = gdal.Warp(out_fp, raster_fp, **warp_options)\n",
    "# del ds"
   ]
  },
  {
   "cell_type": "markdown",
   "id": "58fe5bc7-59fe-4422-b80b-57a2f2fa972c",
   "metadata": {},
   "source": [
    "# Create cover maps"
   ]
  },
  {
   "cell_type": "code",
   "execution_count": null,
   "id": "e7bb281d-3b46-4d81-be88-5e32180eaaa8",
   "metadata": {},
   "outputs": [
    {
     "name": "stdout",
     "output_type": "stream",
     "text": [
      "Year: 2014\n",
      "Starting postprocessing.\n",
      "Postprocessing predictions in /home/jovyan/work/satellite_data/tmp/inference/smp_unet_mitb3_08_03_2023_170715.pth/2014\n",
      "Creating canopy cover maps\n"
     ]
    },
    {
     "name": "stderr",
     "output_type": "stream",
     "text": [
      "Creating 100m canopy cover map:   0%|          | 0/237 [00:00<?, ?it/s]"
     ]
    }
   ],
   "source": [
    "for i in years:\n",
    "    print(f\"Year: {str(i)}\")\n",
    "    cmd = f\"rm {os.path.join(path,model_name,str(i))}/canopy_cover_rasters/*\"\n",
    "    os.system(cmd)\n",
    "    postproc_config = \\\n",
    "            PostprocessingConfig(run_name=\"test\",\n",
    "                                 postprocessing_dir=os.path.join(path,model_name,str(i)),\n",
    "                                 create_polygons=False,\n",
    "                                 create_centroids=False,\n",
    "                                 create_density_maps=False,\n",
    "                                 create_canopy_cover_maps=True,\n",
    "                                 postproc_workers=25,\n",
    "                                 postproc_gridsize=(8, 8),\n",
    "                                 canopy_resolutions=(100,),\n",
    "                                 density_resolutions=(100,),\n",
    "                                 area_thresholds=(3, 15, 50, 200),\n",
    "                                 canopy_map_dtype='float32',\n",
    "                                 #canopy_map_dtype='uint8',\n",
    "                                 no_vsimem=True\n",
    "                                 )\n",
    "    postprocessing.postprocess_all(postproc_config)"
   ]
  },
  {
   "cell_type": "code",
   "execution_count": 6,
   "id": "c087b8a2-51d7-404f-a2ba-126112f116bb",
   "metadata": {},
   "outputs": [],
   "source": [
    "cmd = f\"cd {os.path.join(path,model_name)} && gdalbuildvrt -srcnodata 255 -vrtnodata 255 -overwrite -r average SA_cover_map.vrt */canopy_cover_rasters/canopy_cover_*m_test.tif\""
   ]
  },
  {
   "cell_type": "code",
   "execution_count": 7,
   "id": "4903fc81-ce7e-4802-981f-98150ba9af51",
   "metadata": {},
   "outputs": [
    {
     "name": "stdout",
     "output_type": "stream",
     "text": [
      "0...10...20...30...40...50...60...70...80...90...100 - done.\n"
     ]
    },
    {
     "data": {
      "text/plain": [
       "0"
      ]
     },
     "execution_count": 7,
     "metadata": {},
     "output_type": "execute_result"
    }
   ],
   "source": [
    "os.system(cmd)"
   ]
  },
  {
   "cell_type": "code",
   "execution_count": null,
   "id": "87696288-5fbf-414f-9f6d-614616cb6e77",
   "metadata": {},
   "outputs": [],
   "source": []
  },
  {
   "cell_type": "markdown",
   "id": "2a26208f-ea8f-4365-aec5-44d2325d67d9",
   "metadata": {},
   "source": [
    "# Byte map"
   ]
  },
  {
   "cell_type": "code",
   "execution_count": 8,
   "id": "bd6f8c0f-0e71-49db-80e3-63fc3d65acd3",
   "metadata": {},
   "outputs": [],
   "source": [
    "options = dict(\n",
    "    format=\"Gtiff\",\n",
    "    outputType=gdal.GDT_Byte,#gdal.GDT_Float32,#\n",
    "    resampleAlg=gdal.GRA_Average,\n",
    "    noData=255,\n",
    "    creationOptions=[\"BIGTIFF=IF_SAFER\", \"COMPRESS=LZW\", \"PREDICTOR=2\",\"NUM_THREADS=ALL_CPUS\"],\n",
    "    scaleParams=[[0, 100, 0, 254]],\n",
    "    stats=True,\n",
    ")\n",
    "ds = gdal.Translate(os.path.join(path,model_name,\"SA_cover_map_org.tif\"), os.path.join(path,model_name,\"SA_cover_map.vrt\"), **options)\n",
    "del ds"
   ]
  },
  {
   "cell_type": "code",
   "execution_count": 9,
   "id": "ca60a54d-c781-4eeb-a855-c8421842dba1",
   "metadata": {},
   "outputs": [
    {
     "name": "stdout",
     "output_type": "stream",
     "text": [
      "0...10...20...30...40...50...60...70...80...90...100 - done.\n"
     ]
    },
    {
     "data": {
      "text/plain": [
       "0"
      ]
     },
     "execution_count": 9,
     "metadata": {},
     "output_type": "execute_result"
    }
   ],
   "source": [
    "ds = gdal.Open(os.path.join(path,model_name,\"SA_cover_map_org.tif\"))\n",
    "\n",
    "# Read the input raster data into a numpy array\n",
    "band = ds.GetRasterBand(1)\n",
    "data = band.ReadAsArray()\n",
    "\n",
    "# Apply the viridis colormap to the input data\n",
    "colormap = gdal.ColorTable()\n",
    "for i in range(256):\n",
    "    color = plt.cm.viridis(i/255.0)[:3]\n",
    "    colormap.SetColorEntry(i, (int(color[0]*255), int(color[1]*255), int(color[2]*255), 255))\n",
    "\n",
    "# Create a new raster file with the viridis colormap\n",
    "output_file = os.path.join(path,model_name,\"SA_cover_map.tif\")\n",
    "\n",
    "if os.path.isfile(output_file):\n",
    "    os.remove(output_file)\n",
    "driver = gdal.GetDriverByName('Gtiff')\n",
    "out_ds = driver.Create(output_file, ds.RasterXSize, ds.RasterYSize, 1, gdal.GDT_Byte,options=[\"COMPRESS=LZW\",\"PREDICTOR=2\"])\n",
    "out_ds.SetProjection(ds.GetProjection())\n",
    "out_ds.SetGeoTransform(ds.GetGeoTransform())\n",
    "#out_ds.SetCompression(gdal.COMPRESSION_LZW)\n",
    "out_band = out_ds.GetRasterBand(1)\n",
    "out_band.SetRasterColorTable(colormap)\n",
    "out_band.SetNoDataValue(255)\n",
    "out_band.WriteArray(data)\n",
    "\n",
    "# Clean up\n",
    "del ds, band, out_band, out_ds\n",
    "\n",
    "cmd = f\"gdaladdo {output_file} 4 16 32 64 128 256 512 1024\"\n",
    "os.system(cmd)"
   ]
  },
  {
   "cell_type": "markdown",
   "id": "aa06b32d-05c3-4e2f-a5b7-790b6a03bc5c",
   "metadata": {},
   "source": [
    "# Float map"
   ]
  },
  {
   "cell_type": "code",
   "execution_count": 18,
   "id": "f9307425-ccef-4945-a1c0-10e076ebffa7",
   "metadata": {},
   "outputs": [],
   "source": [
    "options = dict(\n",
    "    format=\"Gtiff\",\n",
    "    outputType=gdal.GDT_Float32,#\n",
    "    resampleAlg=gdal.GRA_Average,\n",
    "    noData=255,\n",
    "    creationOptions=[\"BIGTIFF=IF_SAFER\", \"COMPRESS=LZW\", \"PREDICTOR=2\",\"NUM_THREADS=ALL_CPUS\"],\n",
    "    scaleParams=[[0, 100, 0, 254]],\n",
    "    stats=True,\n",
    ")\n",
    "ds = gdal.Translate(os.path.join(path,model_name,\"SA_cover_map_org_float32.tif\"), os.path.join(path,model_name,\"SA_cover_map.vrt\"), **options)\n",
    "del ds"
   ]
  },
  {
   "cell_type": "markdown",
   "id": "bb04820c-4cce-4f59-afa7-89e573ed4ed0",
   "metadata": {},
   "source": [
    "# Florian"
   ]
  },
  {
   "cell_type": "code",
   "execution_count": 76,
   "id": "a5b9d070-7db2-4aa5-b1f0-d2e67c490ad6",
   "metadata": {},
   "outputs": [
    {
     "name": "stdout",
     "output_type": "stream",
     "text": [
      "0...10...20...30...40...50...60...70...80...90...100 - done.\n"
     ]
    },
    {
     "data": {
      "text/plain": [
       "0"
      ]
     },
     "execution_count": 76,
     "metadata": {},
     "output_type": "execute_result"
    }
   ],
   "source": [
    "ds = gdal.Open(\"/home/jovyan/work/satellite_data/ku_sync/South_Africa/tree_cover_map/florian_tree_cover_map.tif\")\n",
    "\n",
    "# Read the input raster data into a numpy array\n",
    "band = ds.GetRasterBand(1)\n",
    "data = band.ReadAsArray()\n",
    "\n",
    "data = data + 1\n",
    "# Normalize the input data to the range [0, 1]\n",
    "data_norm = (data - np.min(data)) / (np.max(data) - np.min(data)) #instead of 0\n",
    "\n",
    "# Scale the normalized data to the range [0, 255]\n",
    "data = (data_norm * 255).astype(np.uint8)\n",
    "\n",
    "# Apply the viridis colormap to the input data\n",
    "colormap = gdal.ColorTable()\n",
    "for i in range(256):\n",
    "    color = plt.cm.viridis(i/255.0)[:3]\n",
    "    colormap.SetColorEntry(i, (int(color[0]*255), int(color[1]*255), int(color[2]*255), 255))\n",
    "\n",
    "# Create a new raster file with the viridis colormap\n",
    "output_file = \"/home/jovyan/work/satellite_data/ku_sync/South_Africa/tree_cover_map/florian_tree_cover_map_scaled.tif\"\n",
    "\n",
    "if os.path.isfile(output_file):\n",
    "    os.remove(output_file)\n",
    "driver = gdal.GetDriverByName('Gtiff')\n",
    "out_ds = driver.Create(output_file, ds.RasterXSize, ds.RasterYSize, 1, gdal.GDT_Byte,options=[\"COMPRESS=LZW\",\"PREDICTOR=2\"])\n",
    "out_ds.SetProjection(ds.GetProjection())\n",
    "out_ds.SetGeoTransform(ds.GetGeoTransform())\n",
    "#out_ds.SetCompression(gdal.COMPRESSION_LZW)\n",
    "out_band = out_ds.GetRasterBand(1)\n",
    "out_band.SetRasterColorTable(colormap)\n",
    "out_band.SetNoDataValue(0)\n",
    "out_band.WriteArray(data)\n",
    "\n",
    "# Clean up\n",
    "del ds, band, out_band, out_ds\n",
    "\n",
    "cmd = f\"gdaladdo {output_file} 4 16 32 64 128 256 512 1024\"\n",
    "os.system(cmd)"
   ]
  },
  {
   "cell_type": "code",
   "execution_count": null,
   "id": "cba21983-f86f-43ae-9fdd-93f093f2aa4b",
   "metadata": {},
   "outputs": [],
   "source": []
  },
  {
   "cell_type": "code",
   "execution_count": null,
   "id": "115103f6-6150-43ba-9535-13954c3094a4",
   "metadata": {},
   "outputs": [],
   "source": []
  },
  {
   "cell_type": "code",
   "execution_count": null,
   "id": "d81c2c5e-977f-4b9f-a181-b8559508c64e",
   "metadata": {},
   "outputs": [],
   "source": []
  },
  {
   "cell_type": "markdown",
   "id": "0706a101-22c9-4402-83af-dd6026a645f7",
   "metadata": {},
   "source": []
  },
  {
   "cell_type": "code",
   "execution_count": 12,
   "id": "4994e85a-ef7d-4e60-aab7-c938bb57c936",
   "metadata": {},
   "outputs": [],
   "source": []
  },
  {
   "cell_type": "code",
   "execution_count": 13,
   "id": "eefcdd03-eabe-491b-b26f-9bcd050b1dd1",
   "metadata": {},
   "outputs": [],
   "source": [
    "import math\n",
    "raster_fp = \"/home/jovyan/work/satellite_data/tmp/inference/smp_unet_mitb3_08_03_2023_170715.pth/2018/tmp_shape_15_03_2023_001614_244.tif\"\n",
    "src = rasterio.open(raster_fp)\n",
    "out_fp = os.path.join(\"test2.tif\")\n",
    "latitude = (src.bounds[3] + src.bounds[1]) / 2\n",
    "x_res = 100 / (111320 * math.cos(math.radians(abs(latitude))))  # at equator 1°lon ~= 111.32 km\n",
    "y_res = 100 / 110540  # and        1°lat ~= 110.54 km\n",
    "\n",
    "\n",
    "warp_options = dict(\n",
    "    xRes=x_res,\n",
    "    yRes=y_res,\n",
    "    srcNodata=255,\n",
    "    dstNodata=None,\n",
    "    resampleAlg=gdal.GRA_Average, #gdal.GRA_NearestNeighbour ,#\n",
    "    outputType=gdal.GDT_Float32,\n",
    "    creationOptions=[\"COMPRESS=LZW\", \"TILED=YES\", \"BIGTIFF=IF_SAFER\", \"NUM_THREADS=ALL_CPUS\"],\n",
    "    warpOptions=[\"NUM_THREADS=ALL_CPUS\"],\n",
    "    warpMemoryLimit=1000000000,\n",
    "    multithread=True\n",
    ")\n",
    "ds = gdal.Warp(out_fp, raster_fp, **warp_options)\n",
    "del ds"
   ]
  },
  {
   "cell_type": "code",
   "execution_count": 14,
   "id": "4a039c63-76ca-4140-8af1-0b1ad4e8f4b6",
   "metadata": {},
   "outputs": [],
   "source": [
    "src = rasterio.open(out_fp)\n",
    "arr = src.read()"
   ]
  },
  {
   "cell_type": "code",
   "execution_count": 16,
   "id": "ad9d6160-64b4-48e9-9ea6-7ad8320a65f0",
   "metadata": {},
   "outputs": [
    {
     "data": {
      "text/plain": [
       "0.0"
      ]
     },
     "execution_count": 16,
     "metadata": {},
     "output_type": "execute_result"
    }
   ],
   "source": [
    "arr.min()"
   ]
  }
 ],
 "metadata": {
  "kernelspec": {
   "display_name": "Python 3 (ipykernel)",
   "language": "python",
   "name": "python3"
  },
  "language_info": {
   "codemirror_mode": {
    "name": "ipython",
    "version": 3
   },
   "file_extension": ".py",
   "mimetype": "text/x-python",
   "name": "python",
   "nbconvert_exporter": "python",
   "pygments_lexer": "ipython3",
   "version": "3.8.10"
  }
 },
 "nbformat": 4,
 "nbformat_minor": 5
}
