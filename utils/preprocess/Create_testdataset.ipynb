{
 "cells": [
  {
   "cell_type": "code",
   "execution_count": 1,
   "id": "b081e6e3-5412-41c9-97c7-54c499ba4ba3",
   "metadata": {},
   "outputs": [],
   "source": [
    "import os\n",
    "import shutil\n",
    "from pathlib import Path\n",
    "path = \"/home/jovyan/work/notebooks/satellite_data/data/test_dataset/V2\"\n"
   ]
  },
  {
   "cell_type": "code",
   "execution_count": 2,
   "id": "78fd9138-071a-4052-9ddc-936687ccf415",
   "metadata": {},
   "outputs": [],
   "source": [
    "years = [i for i in os.listdir(\"out\") if i.startswith(\"2\")]"
   ]
  },
  {
   "cell_type": "code",
   "execution_count": 3,
   "id": "0296d3b3-6a78-4024-81a2-45c56876cdad",
   "metadata": {},
   "outputs": [],
   "source": [
    "for y in years:\n",
    "    p = os.path.join(\"out\",y,\"test\")\n",
    "    label_file = os.path.join(p,\"labels.geojson\")\n",
    "    raster_files = [os.path.join(p,\"raster\",i) for i in os.listdir(os.path.join(p,\"raster\")) if i.endswith(\".tif\")]\n",
    "    dst_path = os.path.join(path,y)\n",
    "    Path(dst_path).mkdir(parents=True, exist_ok=True)\n",
    "    raster_files.append(label_file)\n",
    "    for i in raster_files:\n",
    "        src = i\n",
    "        dst = os.path.join(dst_path,os.path.basename(i))\n",
    "        shutil.copy(src,dst)"
   ]
  }
 ],
 "metadata": {
  "kernelspec": {
   "display_name": "Python 3 (ipykernel)",
   "language": "python",
   "name": "python3"
  },
  "language_info": {
   "codemirror_mode": {
    "name": "ipython",
    "version": 3
   },
   "file_extension": ".py",
   "mimetype": "text/x-python",
   "name": "python",
   "nbconvert_exporter": "python",
   "pygments_lexer": "ipython3",
   "version": "3.8.10"
  }
 },
 "nbformat": 4,
 "nbformat_minor": 5
}
