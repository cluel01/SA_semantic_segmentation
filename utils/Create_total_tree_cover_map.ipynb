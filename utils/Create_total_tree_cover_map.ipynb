{
 "cells": [
  {
   "cell_type": "code",
   "execution_count": 6,
   "id": "8d01f36c-d14a-457e-9e39-e82a4aecbd35",
   "metadata": {},
   "outputs": [],
   "source": [
    "import os\n",
    "from osgeo import gdal\n"
   ]
  },
  {
   "cell_type": "code",
   "execution_count": 11,
   "id": "c4e4954a-4ac3-482a-8ffc-d29fd58d31ed",
   "metadata": {},
   "outputs": [],
   "source": [
    "path = \"/home/jovyan/work/satellite_data/tmp/inference/unet_18_11_2022_103158_new.pth\"\n",
    "vrt_path = os.path.join(path,\"SA_cover_map.vrt\")"
   ]
  },
  {
   "cell_type": "code",
   "execution_count": 16,
   "id": "c175e74d-9919-4a21-8090-1900bcfd5275",
   "metadata": {},
   "outputs": [],
   "source": [
    "cover_maps = []\n",
    "for root, dirs, files in os.walk(path):\n",
    "    for i in files:\n",
    "        if \"canopy_cover_100m_test.tif\" in i:\n",
    "            cover_maps.append(os.path.join(root,i))"
   ]
  },
  {
   "cell_type": "code",
   "execution_count": 17,
   "id": "ef7644ad-ccf1-4314-97be-17d5bb65b56e",
   "metadata": {},
   "outputs": [],
   "source": [
    "ds = gdal.BuildVRT(vrt_path,cover_maps)\n",
    "ds = None"
   ]
  }
 ],
 "metadata": {
  "kernelspec": {
   "display_name": "Python 3 (ipykernel)",
   "language": "python",
   "name": "python3"
  },
  "language_info": {
   "codemirror_mode": {
    "name": "ipython",
    "version": 3
   },
   "file_extension": ".py",
   "mimetype": "text/x-python",
   "name": "python",
   "nbconvert_exporter": "python",
   "pygments_lexer": "ipython3",
   "version": "3.8.10"
  }
 },
 "nbformat": 4,
 "nbformat_minor": 5
}
