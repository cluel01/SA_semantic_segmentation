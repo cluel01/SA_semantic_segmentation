{
 "cells": [
  {
   "cell_type": "code",
   "execution_count": 23,
   "id": "c3da3cdb-94cd-4ba5-9980-d139653474a9",
   "metadata": {},
   "outputs": [],
   "source": [
    "import shutil\n",
    "import os\n",
    "import sys\n",
    "from pathlib import Path\n",
    "import multiprocessing\n",
    "from multiprocessing.pool import ThreadPool\n"
   ]
  },
  {
   "cell_type": "code",
   "execution_count": 24,
   "id": "a8cc046a-9a24-4b50-93c0-86e73cd10a4b",
   "metadata": {},
   "outputs": [],
   "source": [
    "from osgeo import gdal"
   ]
  },
  {
   "cell_type": "code",
   "execution_count": 25,
   "id": "6cb7d64b-4252-43f3-81af-ead0669d28d9",
   "metadata": {},
   "outputs": [],
   "source": [
    "path = \"/home/jovyan/work/satellite_data/tmp\"\n",
    "years = range(2008,2019)\n",
    "parts = range(22,35)"
   ]
  },
  {
   "cell_type": "code",
   "execution_count": 26,
   "id": "f1df29ac-e1da-43f2-b77f-e0847b832464",
   "metadata": {},
   "outputs": [],
   "source": [
    "mappings = {}\n",
    "\n",
    "for p in parts:\n",
    "    dir_name = os.path.join(path,str(p))\n",
    "    files = os.listdir(dir_name)\n",
    "    for y in years:\n",
    "        fname = str(y) + \"_cog.tif\"\n",
    "        if fname in files:\n",
    "            if y in mappings.keys():\n",
    "                mappings[y].append(os.path.join(dir_name,fname))\n",
    "            else:\n",
    "                mappings[y] = [os.path.join(dir_name,fname)]"
   ]
  },
  {
   "cell_type": "code",
   "execution_count": 27,
   "id": "19db34c2-9329-4bad-bba1-16e45c0a651f",
   "metadata": {},
   "outputs": [],
   "source": [
    "for k,v in mappings.items():\n",
    "    vrt_name = os.path.join(path,str(k)+\".vrt\")\n",
    "    ds = gdal.BuildVRT(vrt_name,v)\n",
    "    ds = None"
   ]
  },
  {
   "cell_type": "code",
   "execution_count": null,
   "id": "d1053890-6379-4abf-8e76-b4bb29d9e276",
   "metadata": {},
   "outputs": [],
   "source": []
  }
 ],
 "metadata": {
  "kernelspec": {
   "display_name": "Python 3 (ipykernel)",
   "language": "python",
   "name": "python3"
  },
  "language_info": {
   "codemirror_mode": {
    "name": "ipython",
    "version": 3
   },
   "file_extension": ".py",
   "mimetype": "text/x-python",
   "name": "python",
   "nbconvert_exporter": "python",
   "pygments_lexer": "ipython3",
   "version": "3.8.10"
  }
 },
 "nbformat": 4,
 "nbformat_minor": 5
}
