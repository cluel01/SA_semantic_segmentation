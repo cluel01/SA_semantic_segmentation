{
 "cells": [
  {
   "cell_type": "code",
   "execution_count": 1,
   "id": "c87020a5-3a04-4104-a411-68d03d89b02c",
   "metadata": {},
   "outputs": [],
   "source": [
    "import geopandas as gpd\n",
    "import rasterio\n",
    "import os\n",
    "import numpy as np\n",
    "import pandas as pd\n",
    "from shapely.ops import unary_union"
   ]
  },
  {
   "cell_type": "code",
   "execution_count": 2,
   "id": "d20f812f-d3ac-4471-952d-1ef89f696bb9",
   "metadata": {},
   "outputs": [],
   "source": [
    "cutlines_path = \"/home/jovyan/work/satellite_data/ku_sync/South_Africa/cutlines/\"\n",
    "years = list(range(2020,2007,-1))"
   ]
  },
  {
   "cell_type": "code",
   "execution_count": 3,
   "id": "01523f78-3104-444d-98fa-990cd14f13f6",
   "metadata": {},
   "outputs": [],
   "source": [
    "gdfs = {}\n",
    "for y in years:\n",
    "    f = os.path.join(cutlines_path,str(y)+\".geojson\")\n",
    "    df = gpd.read_file(f)\n",
    "    \n",
    "    #Remove duplicates from first and second transfer\n",
    "    df = df.drop_duplicates(\"id\",keep=\"last\")\n",
    "    gdfs[y] = df"
   ]
  },
  {
   "cell_type": "code",
   "execution_count": 4,
   "id": "7c0cb084-644f-4a15-a934-30f9a3b5cb7b",
   "metadata": {},
   "outputs": [],
   "source": [
    "shape_df = None\n",
    "for y in years:\n",
    "    idx = 1\n",
    "    if shape_df is None:\n",
    "        shape_df = gdfs[y]\n",
    "        shape_df[\"year\"] = y\n",
    "        shape_df[\"y_idx\"] = list(range(1,len(shape_df)+1))\n",
    "        \n",
    "    else:\n",
    "        g = []\n",
    "        rows = []\n",
    "        \n",
    "        new_df = shape_df[shape_df[\"year\"] > y]\n",
    "        old_df = gdfs[y]\n",
    "\n",
    "        for k,row in old_df.iterrows():\n",
    "            geom = row[\"geometry\"]\n",
    "            intersect_idx = np.where(new_df.intersects(geom))[0]\n",
    "            if len(intersect_idx) > 0:\n",
    "                #merge polygons into one\n",
    "                boundary = gpd.GeoSeries(unary_union(new_df[\"geometry\"].iloc[intersect_idx]))\n",
    "                if not boundary.contains(geom).any():\n",
    "                    #only if it is significantly more\n",
    "                    isec = geom.intersection(boundary[0])\n",
    "                    overlap = isec.area / geom.area\n",
    "                    if overlap < 0.95:\n",
    "                        g.append(geom)\n",
    "                        rows.append([row[\"id\"],y,idx])\n",
    "                        idx += 1\n",
    "            else:\n",
    "                g.append(geom)\n",
    "                rows.append([row[\"id\"],y,idx])\n",
    "                idx += 1\n",
    "        df = gpd.GeoDataFrame(rows,crs=\"EPSG:4326\", columns=[\"id\",\"year\",\"y_idx\"],geometry=g)\n",
    "        shape_df = gpd.GeoDataFrame( pd.concat( [shape_df,df], ignore_index=True) )\n"
   ]
  },
  {
   "cell_type": "code",
   "execution_count": 5,
   "id": "3c16063d-70ee-4994-8cf3-ae255954e70f",
   "metadata": {},
   "outputs": [],
   "source": [
    "shape_df.to_file(\"SA.geojson\")"
   ]
  },
  {
   "cell_type": "code",
   "execution_count": 6,
   "id": "49b5e3d9-d44e-4584-8927-a8319b96fa4b",
   "metadata": {},
   "outputs": [],
   "source": [
    "shape_df[shape_df[\"year\"] == 2009].to_file(\"2009.geojson\")"
   ]
  }
 ],
 "metadata": {
  "kernelspec": {
   "display_name": "Python 3 (ipykernel)",
   "language": "python",
   "name": "python3"
  },
  "language_info": {
   "codemirror_mode": {
    "name": "ipython",
    "version": 3
   },
   "file_extension": ".py",
   "mimetype": "text/x-python",
   "name": "python",
   "nbconvert_exporter": "python",
   "pygments_lexer": "ipython3",
   "version": "3.8.10"
  }
 },
 "nbformat": 4,
 "nbformat_minor": 5
}
