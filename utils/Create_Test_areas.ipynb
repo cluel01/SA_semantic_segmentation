{
 "cells": [
  {
   "cell_type": "code",
   "execution_count": 3,
   "id": "ca708519-a464-44b1-983e-3d7999ce23b3",
   "metadata": {},
   "outputs": [],
   "source": [
    "import geopandas as gpd\n",
    "from shapely.geometry import Polygon,shape\n",
    "import numpy as np\n",
    "import os\n",
    "import fiona\n",
    "import rasterio\n",
    "from rasterio.mask import mask\n",
    "from pathlib import Path\n",
    "\n",
    "np.random.seed(42)\n",
    "\n",
    "cutline_path = \"/home/jovyan/work/satellite_data/ku_sync/South_Africa/cutlines/\"\n",
    "data_path = \"/home/jovyan/work/satellite_data/ku_sync/South_Africa/all/\"\n",
    "years = list(range(2008,2021))\n",
    "\n",
    "\n",
    "out_dir = \"shapes/V6_all_data/\"\n",
    "\n",
    "# ncols = 100\n",
    "# nrows = 100\n",
    "patch_size = 256\n",
    "\n",
    "test_ratio = 0.0000025"
   ]
  },
  {
   "cell_type": "code",
   "execution_count": 2,
   "id": "73f31225-d5d7-42d2-8809-31ea778e4867",
   "metadata": {},
   "outputs": [
    {
     "name": "stderr",
     "output_type": "stream",
     "text": [
      "/usr/local/lib/python3.8/dist-packages/geopandas/geodataframe.py:1472: SettingWithCopyWarning: \n",
      "A value is trying to be set on a copy of a slice from a DataFrame.\n",
      "Try using .loc[row_indexer,col_indexer] = value instead\n",
      "\n",
      "See the caveats in the documentation: https://pandas.pydata.org/pandas-docs/stable/user_guide/indexing.html#returning-a-view-versus-a-copy\n",
      "  super().__setitem__(key, value)\n"
     ]
    },
    {
     "name": "stdout",
     "output_type": "stream",
     "text": [
      "Year:  2008\n",
      "Number of files:  96\n",
      "Number patches:  3761829\n",
      "Number of samples:  10\n"
     ]
    },
    {
     "name": "stderr",
     "output_type": "stream",
     "text": [
      "/usr/local/lib/python3.8/dist-packages/geopandas/geodataframe.py:1472: SettingWithCopyWarning: \n",
      "A value is trying to be set on a copy of a slice from a DataFrame.\n",
      "Try using .loc[row_indexer,col_indexer] = value instead\n",
      "\n",
      "See the caveats in the documentation: https://pandas.pydata.org/pandas-docs/stable/user_guide/indexing.html#returning-a-view-versus-a-copy\n",
      "  super().__setitem__(key, value)\n"
     ]
    },
    {
     "name": "stdout",
     "output_type": "stream",
     "text": [
      "Year:  2009\n",
      "Number of files:  567\n",
      "Number patches:  22669862\n",
      "Number of samples:  57\n"
     ]
    },
    {
     "name": "stderr",
     "output_type": "stream",
     "text": [
      "/usr/local/lib/python3.8/dist-packages/geopandas/geodataframe.py:1472: SettingWithCopyWarning: \n",
      "A value is trying to be set on a copy of a slice from a DataFrame.\n",
      "Try using .loc[row_indexer,col_indexer] = value instead\n",
      "\n",
      "See the caveats in the documentation: https://pandas.pydata.org/pandas-docs/stable/user_guide/indexing.html#returning-a-view-versus-a-copy\n",
      "  super().__setitem__(key, value)\n"
     ]
    },
    {
     "name": "stdout",
     "output_type": "stream",
     "text": [
      "Year:  2010\n",
      "Number of files:  463\n",
      "Number patches:  18824878\n",
      "Number of samples:  48\n",
      "2727CB is missing!\n"
     ]
    },
    {
     "name": "stderr",
     "output_type": "stream",
     "text": [
      "/usr/local/lib/python3.8/dist-packages/geopandas/geodataframe.py:1472: SettingWithCopyWarning: \n",
      "A value is trying to be set on a copy of a slice from a DataFrame.\n",
      "Try using .loc[row_indexer,col_indexer] = value instead\n",
      "\n",
      "See the caveats in the documentation: https://pandas.pydata.org/pandas-docs/stable/user_guide/indexing.html#returning-a-view-versus-a-copy\n",
      "  super().__setitem__(key, value)\n"
     ]
    },
    {
     "name": "stdout",
     "output_type": "stream",
     "text": [
      "Year:  2011\n",
      "Number of files:  527\n",
      "Number patches:  22150336\n",
      "Number of samples:  56\n",
      "3224BB is missing!\n",
      "2331AA is missing!\n"
     ]
    },
    {
     "name": "stderr",
     "output_type": "stream",
     "text": [
      "/usr/local/lib/python3.8/dist-packages/geopandas/geodataframe.py:1472: SettingWithCopyWarning: \n",
      "A value is trying to be set on a copy of a slice from a DataFrame.\n",
      "Try using .loc[row_indexer,col_indexer] = value instead\n",
      "\n",
      "See the caveats in the documentation: https://pandas.pydata.org/pandas-docs/stable/user_guide/indexing.html#returning-a-view-versus-a-copy\n",
      "  super().__setitem__(key, value)\n"
     ]
    },
    {
     "name": "stdout",
     "output_type": "stream",
     "text": [
      "Year:  2012\n",
      "Number of files:  316\n",
      "Number patches:  13335335\n",
      "Number of samples:  34\n",
      "3326CB is missing!\n"
     ]
    },
    {
     "name": "stderr",
     "output_type": "stream",
     "text": [
      "/usr/local/lib/python3.8/dist-packages/geopandas/geodataframe.py:1472: SettingWithCopyWarning: \n",
      "A value is trying to be set on a copy of a slice from a DataFrame.\n",
      "Try using .loc[row_indexer,col_indexer] = value instead\n",
      "\n",
      "See the caveats in the documentation: https://pandas.pydata.org/pandas-docs/stable/user_guide/indexing.html#returning-a-view-versus-a-copy\n",
      "  super().__setitem__(key, value)\n"
     ]
    },
    {
     "name": "stdout",
     "output_type": "stream",
     "text": [
      "Year:  2013\n",
      "Number of files:  791\n",
      "Number patches:  32169478\n",
      "Number of samples:  81\n"
     ]
    },
    {
     "name": "stderr",
     "output_type": "stream",
     "text": [
      "/usr/local/lib/python3.8/dist-packages/geopandas/geodataframe.py:1472: SettingWithCopyWarning: \n",
      "A value is trying to be set on a copy of a slice from a DataFrame.\n",
      "Try using .loc[row_indexer,col_indexer] = value instead\n",
      "\n",
      "See the caveats in the documentation: https://pandas.pydata.org/pandas-docs/stable/user_guide/indexing.html#returning-a-view-versus-a-copy\n",
      "  super().__setitem__(key, value)\n"
     ]
    },
    {
     "name": "stdout",
     "output_type": "stream",
     "text": [
      "Year:  2014\n",
      "Number of files:  570\n",
      "Number patches:  23531697\n",
      "Number of samples:  59\n"
     ]
    },
    {
     "name": "stderr",
     "output_type": "stream",
     "text": [
      "/usr/local/lib/python3.8/dist-packages/geopandas/geodataframe.py:1472: SettingWithCopyWarning: \n",
      "A value is trying to be set on a copy of a slice from a DataFrame.\n",
      "Try using .loc[row_indexer,col_indexer] = value instead\n",
      "\n",
      "See the caveats in the documentation: https://pandas.pydata.org/pandas-docs/stable/user_guide/indexing.html#returning-a-view-versus-a-copy\n",
      "  super().__setitem__(key, value)\n"
     ]
    },
    {
     "name": "stdout",
     "output_type": "stream",
     "text": [
      "Year:  2015\n",
      "Number of files:  665\n",
      "Number patches:  27379135\n",
      "Number of samples:  69\n"
     ]
    },
    {
     "name": "stderr",
     "output_type": "stream",
     "text": [
      "/usr/local/lib/python3.8/dist-packages/geopandas/geodataframe.py:1472: SettingWithCopyWarning: \n",
      "A value is trying to be set on a copy of a slice from a DataFrame.\n",
      "Try using .loc[row_indexer,col_indexer] = value instead\n",
      "\n",
      "See the caveats in the documentation: https://pandas.pydata.org/pandas-docs/stable/user_guide/indexing.html#returning-a-view-versus-a-copy\n",
      "  super().__setitem__(key, value)\n"
     ]
    },
    {
     "name": "stdout",
     "output_type": "stream",
     "text": [
      "Year:  2016\n",
      "Number of files:  733\n",
      "Number patches:  29329615\n",
      "Number of samples:  74\n"
     ]
    },
    {
     "name": "stderr",
     "output_type": "stream",
     "text": [
      "/usr/local/lib/python3.8/dist-packages/geopandas/geodataframe.py:1472: SettingWithCopyWarning: \n",
      "A value is trying to be set on a copy of a slice from a DataFrame.\n",
      "Try using .loc[row_indexer,col_indexer] = value instead\n",
      "\n",
      "See the caveats in the documentation: https://pandas.pydata.org/pandas-docs/stable/user_guide/indexing.html#returning-a-view-versus-a-copy\n",
      "  super().__setitem__(key, value)\n"
     ]
    },
    {
     "name": "stdout",
     "output_type": "stream",
     "text": [
      "Year:  2017\n",
      "Number of files:  384\n",
      "Number patches:  63405505\n",
      "Number of samples:  159\n",
      "2427AC is missing!\n"
     ]
    },
    {
     "name": "stderr",
     "output_type": "stream",
     "text": [
      "/usr/local/lib/python3.8/dist-packages/geopandas/geodataframe.py:1472: SettingWithCopyWarning: \n",
      "A value is trying to be set on a copy of a slice from a DataFrame.\n",
      "Try using .loc[row_indexer,col_indexer] = value instead\n",
      "\n",
      "See the caveats in the documentation: https://pandas.pydata.org/pandas-docs/stable/user_guide/indexing.html#returning-a-view-versus-a-copy\n",
      "  super().__setitem__(key, value)\n"
     ]
    },
    {
     "name": "stdout",
     "output_type": "stream",
     "text": [
      "Year:  2018\n",
      "Number of files:  346\n",
      "Number patches:  57422719\n",
      "Number of samples:  144\n"
     ]
    },
    {
     "name": "stderr",
     "output_type": "stream",
     "text": [
      "/usr/local/lib/python3.8/dist-packages/geopandas/geodataframe.py:1472: SettingWithCopyWarning: \n",
      "A value is trying to be set on a copy of a slice from a DataFrame.\n",
      "Try using .loc[row_indexer,col_indexer] = value instead\n",
      "\n",
      "See the caveats in the documentation: https://pandas.pydata.org/pandas-docs/stable/user_guide/indexing.html#returning-a-view-versus-a-copy\n",
      "  super().__setitem__(key, value)\n"
     ]
    },
    {
     "name": "stdout",
     "output_type": "stream",
     "text": [
      "Year:  2019\n",
      "Number of files:  53\n",
      "Number patches:  8735446\n",
      "Number of samples:  22\n",
      "Year:  2020\n",
      "Number of files:  19\n",
      "Number patches:  2942719\n",
      "Number of samples:  8\n"
     ]
    },
    {
     "name": "stderr",
     "output_type": "stream",
     "text": [
      "/usr/local/lib/python3.8/dist-packages/geopandas/geodataframe.py:1472: SettingWithCopyWarning: \n",
      "A value is trying to be set on a copy of a slice from a DataFrame.\n",
      "Try using .loc[row_indexer,col_indexer] = value instead\n",
      "\n",
      "See the caveats in the documentation: https://pandas.pydata.org/pandas-docs/stable/user_guide/indexing.html#returning-a-view-versus-a-copy\n",
      "  super().__setitem__(key, value)\n"
     ]
    }
   ],
   "source": [
    "shapes = {}\n",
    "Path(out_dir).mkdir(parents=True, exist_ok=True)\n",
    "for year in years:\n",
    "    polygons = []\n",
    "    cut_df = gpd.read_file(os.path.join(cutline_path,str(year)+\".geojson\"))\n",
    "    \n",
    "    for i,row in cut_df.iterrows():\n",
    "        f = row[\"id\"]\n",
    "        if os.path.isfile(os.path.join(data_path,f+\"_\"+str(year)+\".tif\")):\n",
    "            filename = f+\"_\"+str(year)+\".tif\"\n",
    "        elif os.path.isfile(os.path.join(data_path,f+\"_\"+str(year)+\".jp2.tif\")):\n",
    "            filename = f+\"_\"+str(year)+\".jp2.tif\"\n",
    "        elif os.path.isfile(os.path.join(data_path,f+\"_\"+str(year)+\".jp2\")):\n",
    "            filename = f+\"_\"+str(year)+\".jp2\"\n",
    "        else:\n",
    "            print(f\"{f} is missing!\")\n",
    "            continue\n",
    "        with rasterio.open(os.path.join(data_path,filename)) as img:\n",
    "            if img.crs != 4326:\n",
    "                print(f\"{filename} not in CRS EPSG:4326!\")\n",
    "            \n",
    "            xmin, ymin, xmax, ymax = img.bounds\n",
    "            width = xmax-xmin\n",
    "            height = ymax-ymin\n",
    "\n",
    "            x = xmin\n",
    "            y = ymin\n",
    "            \n",
    "            stepsize = patch_size * img.meta[\"transform\"][0]\n",
    "            ncols = int(np.ceil(width / stepsize))\n",
    "            nrows = int(np.ceil(height / stepsize))\n",
    "            for r in range(nrows):\n",
    "                for c in range(ncols):        \n",
    "                    if (c % ncols) == 0:\n",
    "                        x = xmin\n",
    "\n",
    "                    p = Polygon([(x,y), (x+stepsize, y), (x+stepsize, y+stepsize), (x, y+stepsize)])\n",
    "                    polygons.append(p)\n",
    "\n",
    "                    x += stepsize\n",
    "                y += stepsize\n",
    "                \n",
    "    sample_size = int(np.ceil(test_ratio * len(polygons)))\n",
    "    sample_idxs = np.random.choice(range(len(polygons)),sample_size,replace=False)\n",
    "\n",
    "    idxs = []\n",
    "    idxs = sample_idxs\n",
    "            \n",
    "    if len(idxs) > 0:    \n",
    "        grid = gpd.GeoDataFrame({'geometry':polygons})\n",
    "        grid.crs = img.crs\n",
    "        sampled_grid =  grid.iloc[idxs] \n",
    "        sampled_grid[\"idx\"] = sampled_grid.index.values\n",
    "\n",
    "        sampled_grid.to_file(out_dir+str(year)+'.geojson')#, driver='ESRI Shapefile')\n",
    "        shapes[year] =sampled_grid\n",
    "        print(\"Year: \",year)\n",
    "        print(\"Number of files: \",len(cut_df))\n",
    "        print(\"Number patches: \",len(grid))\n",
    "        print(\"Number of samples: \",len(sampled_grid))\n",
    "    else:\n",
    "        print(f\"No additional patches for year: {year}\")"
   ]
  },
  {
   "cell_type": "markdown",
   "id": "4899dcae-18c3-48b3-ac95-f90424d7efb7",
   "metadata": {},
   "source": [
    "# Old"
   ]
  },
  {
   "cell_type": "code",
   "execution_count": null,
   "id": "5fc27826-d445-400c-86c0-a55468f0960f",
   "metadata": {},
   "outputs": [],
   "source": [
    "#V1\n",
    "shapes_V1 = {}\n",
    "for i in years:\n",
    "    shps = []\n",
    "    f = fiona.open(\"shapes/\"+str(i)+\".shp\")\n",
    "    for s in f.values():\n",
    "        sh = shape(s[\"geometry\"])\n",
    "        shps.append(sh)\n",
    "    shapes_V1[i] = shps\n",
    "    f.close()"
   ]
  },
  {
   "cell_type": "code",
   "execution_count": 3,
   "id": "063c6caf-1dc9-4214-9581-c9caa690050a",
   "metadata": {},
   "outputs": [
    {
     "name": "stderr",
     "output_type": "stream",
     "text": [
      "\n",
      "KeyboardInterrupt\n",
      "\n"
     ]
    }
   ],
   "source": [
    "shapes = {}\n",
    "for year in years:\n",
    "    polygons = []\n",
    "    files = [i for i in os.listdir(path) if i.endswith(str(year)+\".tif\" or if i.endswith(str(y)+\".jp2\")]\n",
    "    #files = [os.path.join(path,str(year)+\".vrt\")]\n",
    "    \n",
    "    for f in files:\n",
    "        with rasterio.open(os.path.join(path,f)) as img:\n",
    "            xmin, ymin, xmax, ymax = img.bounds\n",
    "            width = xmax-xmin\n",
    "            height = ymax-ymin\n",
    "\n",
    "            x = xmin\n",
    "            y = ymin\n",
    "            \n",
    "            stepsize = patch_size * img.meta[\"transform\"][0]\n",
    "            ncols = int(np.ceil(width / stepsize))\n",
    "            nrows = int(np.ceil(height / stepsize))\n",
    "            for r in range(nrows):\n",
    "                for c in range(ncols):        \n",
    "                    if (c % ncols) == 0:\n",
    "                        x = xmin\n",
    "\n",
    "                    p = Polygon([(x,y), (x+stepsize, y), (x+stepsize, y+stepsize), (x, y+stepsize)])\n",
    "                    polygons.append(p)\n",
    "\n",
    "                    x += stepsize\n",
    "                y += stepsize\n",
    "                \n",
    "    sample_size = int(np.ceil(test_ratio * len(polygons)))\n",
    "    sample_idxs = np.random.choice(range(len(polygons)),sample_size,replace=False)\n",
    "\n",
    "    idxs = []\n",
    "    idxs = sample_idxs\n",
    "    # for i in sample_idxs:\n",
    "    #     p = polygons[i]\n",
    "    #     equals = False\n",
    "    #     for p2 in shapes_V1[year]:\n",
    "    #         if p.intersects(p2):\n",
    "    #             equals = True\n",
    "    #             break\n",
    "    #     if not equals:\n",
    "    #         idxs.append(i)\n",
    "            \n",
    "    if len(idxs) > 0:    \n",
    "        grid = gpd.GeoDataFrame({'geometry':polygons})\n",
    "        grid.crs = img.crs\n",
    "        sampled_grid =  grid.iloc[idxs] \n",
    "        sampled_grid[\"idx\"] = sampled_grid.index.values\n",
    "\n",
    "        sampled_grid.to_file(out_dir+str(year)+'.geojson')#, driver='ESRI Shapefile')\n",
    "        shapes[year] =sampled_grid\n",
    "        print(\"Year: \",year)\n",
    "        print(\"Number of files: \",len(files))\n",
    "        print(\"Number patches: \",len(grid))\n",
    "        print(\"Number of samples: \",len(sampled_grid))\n",
    "    else:\n",
    "        print(f\"No additional patches for year: {year}\")\n",
    "    \n",
    "    \n"
   ]
  },
  {
   "cell_type": "code",
   "execution_count": null,
   "id": "c8bdb65e-89e1-4162-b728-de92916927e3",
   "metadata": {},
   "outputs": [],
   "source": []
  },
  {
   "cell_type": "code",
   "execution_count": null,
   "id": "73c74695-da21-43d7-b091-0c9fa6b9f28c",
   "metadata": {},
   "outputs": [],
   "source": []
  },
  {
   "cell_type": "code",
   "execution_count": null,
   "id": "197b3949-cb23-4cbf-b14c-6a641010e602",
   "metadata": {},
   "outputs": [],
   "source": [
    "shapes = {}\n",
    "for year in years:\n",
    "    polygons = []\n",
    "    files = [i for i in os.listdir(path) if i.endswith(str(year)+\".tif\")]\n",
    "    \n",
    "    for f in files:\n",
    "        with rasterio.open(os.path.join(path,f)) as img:\n",
    "            xmin, ymin, xmax, ymax = img.bounds\n",
    "            width = xmax-xmin\n",
    "            height = ymax-ymin\n",
    "\n",
    "            wide = width / ncols\n",
    "            length = height / nrows\n",
    "\n",
    "            x = xmin\n",
    "            y = ymin\n",
    "            for r in range(nrows):\n",
    "                if r== nrows-1:\n",
    "                    ystep = length#+(height % nrows)\n",
    "                else:\n",
    "                    ystep = length\n",
    "\n",
    "                for c in range(ncols):        \n",
    "                    if (c % ncols) == 0:\n",
    "                        x = xmin\n",
    "                    if c == ncols-1:\n",
    "                        xstep = wide#+(width % ncols)\n",
    "                    else:\n",
    "                        xstep = wide\n",
    "                    p = Polygon([(x,y), (x+xstep, y), (x+xstep, y+ystep), (x, y+ystep)])\n",
    "                    polygons.append(p)\n",
    "\n",
    "                    x += xstep\n",
    "                y += ystep\n",
    "                \n",
    "    sample_size = int(np.ceil(test_ratio * len(polygons)))\n",
    "    sample_idxs = np.random.choice(range(len(polygons)),sample_size,replace=False)\n",
    "\n",
    "    idxs = []\n",
    "    for i in sample_idxs:\n",
    "        p = polygons[i]\n",
    "        equals = False\n",
    "        for p2 in shapes_V1[year]:\n",
    "            if p.intersect(p2):\n",
    "                equals = True\n",
    "                break\n",
    "        if not equals:\n",
    "            idxs.append(i)\n",
    "            \n",
    "    if len(idxs) > 0:    \n",
    "        grid = gpd.GeoDataFrame({'geometry':polygons})\n",
    "        grid.crs = img.crs\n",
    "        sampled_grid =  grid.iloc[idxs] \n",
    "        sampled_grid[\"idx\"] = sampled_grid.index.values\n",
    "\n",
    "        sampled_grid.to_file(out_dir+str(year)+'.geojson')#, driver='ESRI Shapefile')\n",
    "        shapes[year] =sampled_grid\n",
    "        print(\"Year: \",year)\n",
    "        print(\"Number of files: \",len(files))\n",
    "        print(\"Number patches: \",len(grid))\n",
    "        print(\"Number of samples: \",len(sampled_grid))\n",
    "    else:\n",
    "        print(f\"No additional patches for year: {year}\")\n",
    "    \n",
    "    \n"
   ]
  },
  {
   "cell_type": "code",
   "execution_count": null,
   "id": "ab43f3d0-b36d-46aa-a1df-5c3da08cb502",
   "metadata": {},
   "outputs": [],
   "source": []
  }
 ],
 "metadata": {
  "kernelspec": {
   "display_name": "Python 3 (ipykernel)",
   "language": "python",
   "name": "python3"
  },
  "language_info": {
   "codemirror_mode": {
    "name": "ipython",
    "version": 3
   },
   "file_extension": ".py",
   "mimetype": "text/x-python",
   "name": "python",
   "nbconvert_exporter": "python",
   "pygments_lexer": "ipython3",
   "version": "3.8.10"
  }
 },
 "nbformat": 4,
 "nbformat_minor": 5
}
