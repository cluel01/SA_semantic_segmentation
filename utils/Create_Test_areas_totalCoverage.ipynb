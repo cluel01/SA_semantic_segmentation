{
 "cells": [
  {
   "cell_type": "code",
   "execution_count": null,
   "id": "ca708519-a464-44b1-983e-3d7999ce23b3",
   "metadata": {},
   "outputs": [],
   "source": [
    "import geopandas as gpd\n",
    "from shapely.geometry import Polygon,shape\n",
    "import numpy as np\n",
    "import os\n",
    "import fiona\n",
    "import rasterio\n",
    "from rasterio.mask import mask\n",
    "from pathlib import Path\n",
    "\n",
    "np.random.seed(42)\n",
    "\n",
    "cutline_path = \"/home/jovyan/work/notebooks/satellite_data/utils/SA.geojson\"\n",
    "data_path = \"/home/jovyan/work/satellite_data/ku_sync/South_Africa/all/\"\n",
    "years = list(range(2009,2021))\n",
    "\n",
    "\n",
    "out_dir = \"shapes/V7_covermap/\"\n",
    "\n",
    "# ncols = 100\n",
    "# nrows = 100\n",
    "patch_size = 256\n",
    "\n",
    "test_ratio = 0.0000025"
   ]
  },
  {
   "cell_type": "code",
   "execution_count": null,
   "id": "7379209d-bcf5-4e69-80db-86927299dfb6",
   "metadata": {},
   "outputs": [],
   "source": [
    "cut_df = gpd.read_file(cutline_path)"
   ]
  },
  {
   "cell_type": "code",
   "execution_count": null,
   "id": "73f31225-d5d7-42d2-8809-31ea778e4867",
   "metadata": {},
   "outputs": [
    {
     "name": "stdout",
     "output_type": "stream",
     "text": [
      "Year:  2020\n",
      "Number of files:  17\n",
      "Number patches:  2613859\n",
      "Number of samples:  7\n"
     ]
    },
    {
     "name": "stderr",
     "output_type": "stream",
     "text": [
      "/usr/local/lib/python3.8/dist-packages/geopandas/geodataframe.py:1472: SettingWithCopyWarning: \n",
      "A value is trying to be set on a copy of a slice from a DataFrame.\n",
      "Try using .loc[row_indexer,col_indexer] = value instead\n",
      "\n",
      "See the caveats in the documentation: https://pandas.pydata.org/pandas-docs/stable/user_guide/indexing.html#returning-a-view-versus-a-copy\n",
      "  super().__setitem__(key, value)\n"
     ]
    }
   ],
   "source": [
    "shapes = {}\n",
    "Path(out_dir).mkdir(parents=True, exist_ok=True)\n",
    "for year in years:\n",
    "    polygons = []\n",
    "    cut_df = gpd.read_file(cutline_path)\n",
    "    cut_df = cut_df[cut_df[\"year\"] == str(year)]\n",
    "    for i,row in cut_df.iterrows():\n",
    "        f = row[\"id\"]\n",
    "        if os.path.isfile(os.path.join(data_path,f+\"_\"+str(year)+\".tif\")):\n",
    "            filename = f+\"_\"+str(year)+\".tif\"\n",
    "        elif os.path.isfile(os.path.join(data_path,f+\"_\"+str(year)+\".jp2.tif\")):\n",
    "            filename = f+\"_\"+str(year)+\".jp2.tif\"\n",
    "        elif os.path.isfile(os.path.join(data_path,f+\"_\"+str(year)+\".jp2\")):\n",
    "            filename = f+\"_\"+str(year)+\".jp2\"\n",
    "        else:\n",
    "            print(f\"{f} is missing!\")\n",
    "            continue\n",
    "        with rasterio.open(os.path.join(data_path,filename)) as img:\n",
    "            if img.crs != 4326:\n",
    "                print(f\"{filename} not in CRS EPSG:4326!\")\n",
    "            \n",
    "            xmin, ymin, xmax, ymax = img.bounds\n",
    "            width = xmax-xmin\n",
    "            height = ymax-ymin\n",
    "\n",
    "            x = xmin\n",
    "            y = ymin\n",
    "            \n",
    "            stepsize = patch_size * img.meta[\"transform\"][0]\n",
    "            ncols = int(np.ceil(width / stepsize))\n",
    "            nrows = int(np.ceil(height / stepsize))\n",
    "            for r in range(nrows):\n",
    "                for c in range(ncols):        \n",
    "                    if (c % ncols) == 0:\n",
    "                        x = xmin\n",
    "\n",
    "                    p = Polygon([(x,y), (x+stepsize, y), (x+stepsize, y+stepsize), (x, y+stepsize)])\n",
    "                    polygons.append(p)\n",
    "\n",
    "                    x += stepsize\n",
    "                y += stepsize\n",
    "                \n",
    "    sample_size = int(np.ceil(test_ratio * len(polygons)))\n",
    "    sample_idxs = np.random.choice(range(len(polygons)),sample_size,replace=False)\n",
    "\n",
    "    idxs = []\n",
    "    idxs = sample_idxs\n",
    "            \n",
    "    if len(idxs) > 0:    \n",
    "        grid = gpd.GeoDataFrame({'geometry':polygons})\n",
    "        grid.crs = img.crs\n",
    "        sampled_grid =  grid.iloc[idxs] \n",
    "        sampled_grid[\"idx\"] = sampled_grid.index.values\n",
    "\n",
    "        sampled_grid.to_file(out_dir+str(year)+'.geojson')#, driver='ESRI Shapefile')\n",
    "        shapes[year] =sampled_grid\n",
    "        print(\"Year: \",year)\n",
    "        print(\"Number of files: \",len(cut_df))\n",
    "        print(\"Number patches: \",len(grid))\n",
    "        print(\"Number of samples: \",len(sampled_grid))\n",
    "    else:\n",
    "        print(f\"No additional patches for year: {year}\")"
   ]
  },
  {
   "cell_type": "code",
   "execution_count": null,
   "id": "ab43f3d0-b36d-46aa-a1df-5c3da08cb502",
   "metadata": {},
   "outputs": [],
   "source": []
  }
 ],
 "metadata": {
  "kernelspec": {
   "display_name": "Python 3 (ipykernel)",
   "language": "python",
   "name": "python3"
  },
  "language_info": {
   "codemirror_mode": {
    "name": "ipython",
    "version": 3
   },
   "file_extension": ".py",
   "mimetype": "text/x-python",
   "name": "python",
   "nbconvert_exporter": "python",
   "pygments_lexer": "ipython3",
   "version": "3.8.10"
  }
 },
 "nbformat": 4,
 "nbformat_minor": 5
}
