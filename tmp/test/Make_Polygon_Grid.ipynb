{
 "cells": [
  {
   "cell_type": "code",
   "execution_count": 1,
   "id": "53c708b2-3ef1-4453-a337-a0361f6b33e9",
   "metadata": {},
   "outputs": [],
   "source": [
    "import geopandas as gpd\n",
    "from shapely.geometry import Polygon\n",
    "import numpy as np\n",
    "import os\n",
    "import rasterio\n",
    "from rasterio.mask import mask\n",
    "from shapely import geometry\n",
    "import math\n",
    "from rasterio.windows import Window"
   ]
  },
  {
   "cell_type": "code",
   "execution_count": 3,
   "id": "91323259-9773-455f-990d-0841fdec99ba",
   "metadata": {},
   "outputs": [],
   "source": [
    "\n",
    "# points = gpd.read_file('box_se.shp')\n",
    "# nrows = 3\n",
    "# ncols = 3\n",
    "# out_name = \"out_rasters/se/box_se_\"\n",
    "\n",
    "in_dir = \"data/in\"\n",
    "\n",
    "files = [os.path.join(in_dir,i) for i in os.listdir(in_dir) if i.endswith(\".tif\")]\n",
    "#raster_file = \"image_99_4BSW4R.tif.tif\"\n",
    "nrows = 3\n",
    "ncols = 3\n",
    "\n",
    "out_path = \"data/out\"\n",
    "\n",
    "for f in files:\n",
    "    with rasterio.open(f) as img:\n",
    "        f = os.path.basename(f)\n",
    "        xmin, ymin, xmax, ymax = img.bounds\n",
    "\n",
    "        width = xmax-xmin\n",
    "        height = ymax-ymin\n",
    "\n",
    "        wide = width / ncols\n",
    "        length = height / nrows\n",
    "\n",
    "        x = xmin\n",
    "        y = ymin\n",
    "        polygons = []\n",
    "        for r in range(nrows):\n",
    "            if r== nrows-1:\n",
    "                ystep = length#+(height % nrows)\n",
    "            else:\n",
    "                ystep = length\n",
    "\n",
    "            for c in range(ncols):        \n",
    "                if (c % ncols) == 0:\n",
    "                    x = xmin\n",
    "                if c == ncols-1:\n",
    "                    xstep = wide#+(width % ncols)\n",
    "                else:\n",
    "                    xstep = wide\n",
    "                polygons.append(Polygon([(x,y), (x+xstep, y), (x+xstep, y+ystep), (x, y+ystep)]))\n",
    "                x += xstep\n",
    "            y += ystep\n",
    "\n",
    "\n",
    "        grid = gpd.GeoDataFrame({'geometry':polygons})\n",
    "        grid.crs = img.crs\n",
    "\n",
    "        for i in range(len(grid)):\n",
    "            bounds = grid.iloc[i][\"geometry\"]\n",
    "            out_image, out_transform = mask(img, [bounds], crop=True)\n",
    "            out_meta = img.meta\n",
    "            out_meta.update({\"driver\": \"GTiff\",\n",
    "                     \"height\": out_image.shape[1],\n",
    "                     \"width\": out_image.shape[2],\n",
    "                     \"transform\": out_transform})\n",
    "            out_file = os.path.join(out_path,f.split(\".\")[0]+\"_\"+str(i)+\".tif\")\n",
    "            with rasterio.open(out_file, \"w\", **out_meta) as dest:\n",
    "                dest.write(out_image)\n",
    "        \n"
   ]
  },
  {
   "cell_type": "code",
   "execution_count": 3,
   "id": "50ddee46-2143-4482-a0aa-75a181684e61",
   "metadata": {},
   "outputs": [],
   "source": [
    "shape_file = \"/home/jovyan/work/notebooks/satellite_data/utils/shapes/2015.shp\""
   ]
  },
  {
   "cell_type": "code",
   "execution_count": 22,
   "id": "567502c4-4677-454b-bc14-c552e09ccf73",
   "metadata": {},
   "outputs": [],
   "source": [
    "with fiona.open(shape_file) as src_shp:\n",
    "    shp = src_shp[0]\n",
    "    s = geometry.shape(shp[\"geometry\"])\n",
    "    \n",
    "    xmin, ymin, xmax, ymax = s.bounds\n",
    "\n",
    "    width = xmax-xmin\n",
    "    height = ymax-ymin"
   ]
  },
  {
   "cell_type": "code",
   "execution_count": 20,
   "id": "f10289fb-8052-472f-a832-886ef8b0b40f",
   "metadata": {},
   "outputs": [
    {
     "data": {
      "text/plain": [
       "(29.83169463897843,\n",
       " -22.709301697153023,\n",
       " 29.834255683994552,\n",
       " -22.706747206314805)"
      ]
     },
     "execution_count": 20,
     "metadata": {},
     "output_type": "execute_result"
    }
   ],
   "source": [
    "s.bounds"
   ]
  },
  {
   "cell_type": "code",
   "execution_count": 6,
   "id": "e4c59f5a-a9dc-4674-9fcc-01477f7f07d5",
   "metadata": {},
   "outputs": [
    {
     "data": {
      "text/plain": [
       "{'type': 'Feature',\n",
       " 'id': '0',\n",
       " 'properties': OrderedDict([('FID', 0)]),\n",
       " 'geometry': {'type': 'Polygon',\n",
       "  'coordinates': [[(29.83169463897843, -22.709301697153023),\n",
       "    (29.83169463897843, -22.706747206314805),\n",
       "    (29.834255683994552, -22.706747206314805),\n",
       "    (29.834255683994552, -22.709301697153023),\n",
       "    (29.83169463897843, -22.709301697153023)]]}}"
      ]
     },
     "execution_count": 6,
     "metadata": {},
     "output_type": "execute_result"
    }
   ],
   "source": [
    "shp"
   ]
  },
  {
   "cell_type": "code",
   "execution_count": 6,
   "id": "dd56c319-e886-4796-995c-caa7cb42f4a0",
   "metadata": {},
   "outputs": [],
   "source": []
  },
  {
   "cell_type": "code",
   "execution_count": 42,
   "id": "e52370d4-7425-4e94-848c-8c02a19b5cac",
   "metadata": {},
   "outputs": [
    {
     "data": {
      "text/plain": [
       "2122649"
      ]
     },
     "execution_count": 42,
     "metadata": {},
     "output_type": "execute_result"
    }
   ],
   "source": [
    "width"
   ]
  },
  {
   "cell_type": "code",
   "execution_count": 43,
   "id": "8d55f798-c77b-4982-98d4-dbd3ba6f00e0",
   "metadata": {},
   "outputs": [
    {
     "data": {
      "text/plain": [
       "2200000"
      ]
     },
     "execution_count": 43,
     "metadata": {},
     "output_type": "execute_result"
    }
   ],
   "source": [
    "xstart"
   ]
  },
  {
   "cell_type": "code",
   "execution_count": 6,
   "id": "4f7f78bf-b7cf-4c2c-810b-ed89de1620c1",
   "metadata": {
    "tags": []
   },
   "outputs": [
    {
     "name": "stderr",
     "output_type": "stream",
     "text": [
      "/usr/local/lib/python3.8/dist-packages/geopandas/io/file.py:362: FutureWarning: pandas.Int64Index is deprecated and will be removed from pandas in a future version. Use pandas.Index with the appropriate dtype instead.\n",
      "  pd.Int64Index,\n"
     ]
    }
   ],
   "source": [
    "xsize = 100_000\n",
    "ysize = 100_000\n",
    "with rasterio.open(\"/home/jovyan/work/satellite_data/tmp/2015.vrt\") as src:\n",
    "    width = src.width\n",
    "    height = src.height\n",
    "    \n",
    "    nrows = math.ceil(height / ysize)\n",
    "    ncols = math.ceil(width / xsize)\n",
    "    \n",
    "    ystart = 0\n",
    "    polygons =  []\n",
    "    for r in range(nrows):\n",
    "        xstart = 0\n",
    "        if r < (nrows-1):\n",
    "            yend = ystart + ysize\n",
    "        else:\n",
    "            rest = height - ystart\n",
    "            yend = ystart + rest\n",
    "        for c in range(ncols):\n",
    "            if c < (ncols-1):\n",
    "                xend = xstart + xsize\n",
    "            else:\n",
    "                rest = width - xstart\n",
    "                xend = xstart + rest\n",
    "            win = Window.from_slices((ystart,yend),(xstart,xend))\n",
    "            bounds = src.window_bounds(win)\n",
    "            box = geometry.box(*bounds)\n",
    "            polygons.append(box)\n",
    "            xstart += xsize\n",
    "        ystart += ysize\n",
    "        \n",
    "grid = gpd.GeoDataFrame({'geometry':polygons})\n",
    "grid.crs = src.crs\n",
    "grid.to_file(\"test.shp\")\n",
    "\n",
    "            \n",
    "        \n",
    "    "
   ]
  },
  {
   "cell_type": "markdown",
   "id": "ea08488f-bc43-4253-b9eb-e6c6553df5d7",
   "metadata": {},
   "source": [
    "# Old"
   ]
  },
  {
   "cell_type": "code",
   "execution_count": 1,
   "id": "f9d698b8-6014-4853-8f02-992a68fd23e9",
   "metadata": {},
   "outputs": [
    {
     "name": "stderr",
     "output_type": "stream",
     "text": [
      "/usr/local/lib/python3.8/dist-packages/geopandas/io/file.py:362: FutureWarning: pandas.Int64Index is deprecated and will be removed from pandas in a future version. Use pandas.Index with the appropriate dtype instead.\n",
      "  pd.Int64Index,\n"
     ]
    }
   ],
   "source": [
    "import geopandas as gpd\n",
    "from shapely.geometry import Polygon\n",
    "import numpy as np\n",
    "import os\n",
    "\n",
    "# points = gpd.read_file('box_se.shp')\n",
    "# nrows = 3\n",
    "# ncols = 3\n",
    "# out_name = \"out_rasters/se/box_se_\"\n",
    "\n",
    "points = gpd.read_file('box_nw.shp')\n",
    "nrows = 8\n",
    "ncols = 8\n",
    "labels_file = \"labels_V5.shp\"\n",
    "out_name = \"out_rasters/nw/box_nw_\"\n",
    "\n",
    "xmin, ymin, xmax, ymax = points.total_bounds\n",
    "\n",
    "width = xmax-xmin\n",
    "height = ymax-ymin\n",
    "\n",
    "wide = width / ncols\n",
    "length = height / nrows\n",
    "\n",
    "x = xmin\n",
    "y = ymin\n",
    "polygons = []\n",
    "for r in range(nrows):\n",
    "    if r== nrows-1:\n",
    "        ystep = length#+(height % nrows)\n",
    "    else:\n",
    "        ystep = length\n",
    "    \n",
    "    for c in range(ncols):        \n",
    "        if (c % ncols) == 0:\n",
    "            x = xmin\n",
    "        if c == ncols-1:\n",
    "            xstep = wide#+(width % ncols)\n",
    "        else:\n",
    "            xstep = wide\n",
    "        polygons.append(Polygon([(x,y), (x+xstep, y), (x+xstep, y+ystep), (x, y+ystep)]))\n",
    "        x += xstep\n",
    "    y += ystep\n",
    "        \n",
    "\n",
    "grid = gpd.GeoDataFrame({'geometry':polygons})\n",
    "grid.set_crs(epsg=4326, inplace=True)\n",
    "grid.to_file(\"grid.shp\")"
   ]
  },
  {
   "cell_type": "code",
   "execution_count": 2,
   "id": "703064e7-0b75-48a3-9341-ce5904a08d59",
   "metadata": {},
   "outputs": [
    {
     "name": "stdout",
     "output_type": "stream",
     "text": [
      "0...10...20...30...40...50...60...70...80...90...100 - done.\n",
      "0...10...20...30...40...50...60...70...80...90...100 - done.\n",
      "0...10...20...30...40...50...60...70...80...90...100 - done.\n",
      "0...10...20...30...40...50...60...70...80...90...100 - done.\n",
      "0...10...20...30...40...50...60...70...80...90...100 - done.\n",
      "0...10...20...30...40...50...60...70...80...90...100 - done.\n",
      "0...10...20...30...40...50...60...70...80...90...100 - done.\n",
      "0...10...20...30...40...50...60...70...80...90...100 - done.\n",
      "0...10...20...30...40...50...60...70...80...90...100 - done.\n",
      "0...10...20...30...40...50...60...70...80...90...100 - done.\n",
      "0...10...20...30...40...50...60...70...80...90...100 - done.\n",
      "0...10...20...30...40...50...60...70...80...90...100 - done.\n",
      "0...10...20...30...40...50...60...70...80...90...100 - done.\n",
      "0...10...20...30...40...50...60...70...80...90...100 - done.\n",
      "0...10...20...30...40...50...60...70...80...90...100 - done.\n",
      "0...10...20...30...40...50...60...70...80...90...100 - done.\n",
      "0...10...20...30...40...50...60...70...80...90...100 - done.\n",
      "0...10...20...30...40...50...60...70...80...90...100 - done.\n",
      "0...10...20...30...40...50...60...70...80...90...100 - done.\n",
      "0...10...20...30...40...50...60...70...80...90...100 - done.\n",
      "0...10...20...30...40...50...60...70...80...90...100 - done.\n",
      "0...10...20...30...40...50...60...70...80...90...100 - done.\n",
      "0...10...20...30...40...50...60...70...80...90...100 - done.\n",
      "0...10...20...30...40...50...60...70...80...90...100 - done.\n",
      "0...10...20...30...40...50...60...70...80...90...100 - done.\n",
      "0...10...20...30...40...50...60...70...80...90...100 - done.\n",
      "0...10...20...30...40...50...60...70...80...90...100 - done.\n",
      "0...10...20...30...40...50...60...70...80...90...100 - done.\n",
      "0...10...20...30...40...50...60...70...80...90...100 - done.\n",
      "0...10...20...30...40...50...60...70...80...90...100 - done.\n",
      "0...10...20...30...40...50...60...70...80...90...100 - done.\n",
      "0...10...20...30...40...50...60...70...80...90...100 - done.\n",
      "0...10...20...30...40...50...60...70...80...90...100 - done.\n",
      "0...10...20...30...40...50...60...70...80...90...100 - done.\n",
      "0...10...20...30...40...50...60...70...80...90...100 - done.\n",
      "0...10...20...30...40...50...60...70...80...90...100 - done.\n",
      "0...10...20...30...40...50...60...70...80...90...100 - done.\n",
      "0...10...20...30...40...50...60...70...80...90...100 - done.\n",
      "0...10...20...30...40...50...60...70...80...90...100 - done.\n",
      "0...10...20...30...40...50...60...70...80...90...100 - done.\n",
      "0...10...20...30...40...50...60...70...80...90...100 - done.\n",
      "0...10...20...30...40...50...60...70...80...90...100 - done.\n",
      "0...10...20...30...40...50...60...70...80...90...100 - done.\n",
      "0...10...20...30...40...50...60...70...80...90...100 - done.\n",
      "0...10...20...30...40...50...60...70...80...90...100 - done.\n",
      "0...10...20...30...40...50...60...70...80...90...100 - done.\n",
      "0...10...20...30...40...50...60...70...80...90...100 - done.\n",
      "0...10...20...30...40...50...60...70...80...90...100 - done.\n",
      "0...10...20...30...40...50...60...70...80...90...100 - done.\n",
      "0...10...20...30...40...50...60...70...80...90...100 - done.\n",
      "0...10...20...30...40...50...60...70...80...90...100 - done.\n",
      "0...10...20...30...40...50...60...70...80...90...100 - done.\n",
      "0...10...20...30...40...50...60...70...80...90...100 - done.\n",
      "0...10...20...30...40...50...60...70...80...90...100 - done.\n",
      "0...10...20...30...40...50...60...70...80...90...100 - done.\n",
      "0...10...20...30...40...50...60...70...80...90...100 - done.\n",
      "0...10...20...30...40...50...60...70...80...90...100 - done.\n",
      "0...10...20...30...40...50...60...70...80...90...100 - done.\n",
      "0...10...20...30...40...50...60...70...80...90...100 - done.\n",
      "0...10...20...30...40...50...60...70...80...90...100 - done.\n",
      "0...10...20...30...40...50...60...70...80...90...100 - done.\n",
      "0...10...20...30...40...50...60...70...80...90...100 - done.\n",
      "0...10...20...30...40...50...60...70...80...90...100 - done.\n",
      "0...10...20...30...40...50...60...70...80...90...100 - done.\n"
     ]
    }
   ],
   "source": [
    "\n",
    "for i in range(len(grid)):\n",
    "    bounds = grid.iloc[i][\"geometry\"].bounds\n",
    "    gdal_str = \"gdal_rasterize -l \" + labels_file.split(\".\")[0] + \" -burn 1.0 -tr 2.306434877e-06 2.306434877e-06 -a_nodata 0.0 -te \\\n",
    "                \" + str(bounds[0]) + \" \" + str(bounds[1]) + \" \"  + str(bounds[2]) + \" \" + str(bounds[3]) + \" \\\n",
    "                \" + \"-ot Float32 -of GTiff \" + labels_file + \" \" + out_name + str(i) + \".tif\"\n",
    "    os.system(gdal_str)\n",
    "    \n",
    "    "
   ]
  }
 ],
 "metadata": {
  "kernelspec": {
   "display_name": "Python 3 (ipykernel)",
   "language": "python",
   "name": "python3"
  },
  "language_info": {
   "codemirror_mode": {
    "name": "ipython",
    "version": 3
   },
   "file_extension": ".py",
   "mimetype": "text/x-python",
   "name": "python",
   "nbconvert_exporter": "python",
   "pygments_lexer": "ipython3",
   "version": "3.8.10"
  }
 },
 "nbformat": 4,
 "nbformat_minor": 5
}
