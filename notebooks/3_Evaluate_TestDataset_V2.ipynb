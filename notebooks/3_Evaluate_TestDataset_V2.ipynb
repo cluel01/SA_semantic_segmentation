{
 "cells": [
  {
   "cell_type": "code",
   "execution_count": 1,
   "id": "bf5c82aa-9a66-40f4-b3d0-9650e27989b7",
   "metadata": {},
   "outputs": [],
   "source": [
    "# from pytorch_segmentation.tree_segmentation import segment_trees\n",
    "\n",
    "# df = segment_trees(\"/home/jovyan/work/satellite_data/tmp/inference/unet_18_07_2022_150108_new.pth/2018_10.tif\",\"test_watershed_unet18.sqlite\",\n",
    "#                    footprint=(3,3),min_distance=10,min_size=100,n_cpus=20,cachesize=10,driver=\"SQLite\",patch_size=[1024,1024])"
   ]
  },
  {
   "cell_type": "code",
   "execution_count": 2,
   "id": "fe54e605-9597-4b43-9aa9-5fc9e7a3c450",
   "metadata": {},
   "outputs": [],
   "source": [
    "import rasterio\n",
    "from rasterio.plot import show\n",
    "from rasterio.mask import mask\n",
    "from rasterio.windows import from_bounds\n",
    "import numpy as np\n",
    "import matplotlib\n",
    "import matplotlib.pyplot as plt\n",
    "import os\n",
    "import numpy as np\n",
    "from patchify import patchify\n",
    "import torch\n",
    "from torch.functional import F\n",
    "from torch import nn\n",
    "from torch.nn import DataParallel\n",
    "from torch.utils.data import DataLoader\n",
    "from shapely.geometry import box\n",
    "from torchvision import transforms\n",
    "import time\n",
    "import random\n",
    "import torchvision.models as models\n",
    "\n",
    "from pytorch_segmentation.data.test_dataset import TestSatDataset\n",
    "from pytorch_segmentation.models import UNet\n",
    "import pytorch_segmentation.augmentation.transforms as seg_transforms\n",
    "\n",
    "seed = 42\n",
    "torch.manual_seed(seed)\n",
    "random.seed(seed)\n",
    "np.random.seed(seed)"
   ]
  },
  {
   "cell_type": "code",
   "execution_count": 3,
   "id": "90579e0a-fcdf-444b-ace1-cb21f74bc753",
   "metadata": {},
   "outputs": [],
   "source": [
    "model_name = \"unet_25_01_2023_113846\"#\"unet_25_08_2022_081902\"#\"unet_29_07_2022_120212\" #\"unet_18_07_2022_150108\"#\"unet_19_07_2022_115722\" #\"unet_18_07_2022_150108\"#\"unet_05_05_2022_113034\" #\"unet_11_07_2022_070457\"#\"unet_13_07_2022_171256\" \n",
    "data_parallel = False\n",
    "\n",
    "classif = False\n",
    "clf_model = \"resnet10131_10_2022_112246\"\n",
    "\n",
    "save_dir = \"saved_models\"\n",
    "\n",
    "data_path = \"/home/jovyan/work/notebooks/satellite_data/data/test_dataset/V2\"\n",
    "# data_file_path =\"/home/jovyan/work/satellite_data/tmp/\"\n",
    "# shape_path=\"/home/jovyan/work/notebooks/satellite_data/utils/shapes\"\n",
    "# mask_path=\"/home/jovyan/work/notebooks/satellite_data/data/test_dataset\"\n",
    "\n",
    "test_patch_size = [256,256]\n",
    "overlap_test = 128\n",
    "\n",
    "batch_size = 50\n",
    "nworkers = 10\n",
    "pin_memory = True\n",
    "\n",
    "padding = False#True\n",
    "\n",
    "save_images = False\n",
    "save_dir_output = \"/home/jovyan/work/notebooks/satellite_data/data/out/save_images\"\n",
    "filter_true_empty = False\n",
    "\n",
    "\n",
    "res_factor = 1\n",
    "\n",
    "years = [2014,2015,2016,2017,2018,2019]#list(range(2014,2021))\n",
    "#res_factor = {2008:2,2009:2,2010:2,2011:2,2012:2,2013:2,2014:2,2015:2,2016:2,2017:1,2018:1}\n",
    "\n",
    "\n",
    "#resampling = {2008:8,2009:8,2010:6,2011:6,2012:6,2013:6,2014:4,2015:4,2016:4,2017:2,2018:2}\n",
    "#resampling = {2008:8,2009:8,2010:6,2011:6,2012:6,2013:6,2014:6,2015:6,2016:6,2017:2,2018:2}\n",
    "#resampling = 1\n",
    "#resampling = {2008:4,2009:1,2010:1,2011:1,2012:1,2013:1,2014:1,2015:1,2016:1,2017:1,2018:1}"
   ]
  },
  {
   "cell_type": "code",
   "execution_count": 4,
   "id": "3f5b9408-bbd0-4efc-9ff6-342cc04dfa67",
   "metadata": {},
   "outputs": [],
   "source": [
    "device = torch.device('cuda:1' if torch.cuda.is_available() else 'cpu')\n",
    "#device = torch.device('cpu')\n",
    "if str(device) == \"cpu\":\n",
    "    pin_memory = False\n",
    "\n",
    "test_transform = None\n",
    "\n",
    "test_transform = seg_transforms.Compose([\n",
    "    #seg_transforms.UnmaskEdges([225,225]),\n",
    "     #seg_transforms.CLAHE_Norm(),\n",
    "    #seg_transforms.Add_VDVI()\n",
    "    ])"
   ]
  },
  {
   "cell_type": "markdown",
   "id": "8b1ed039-1908-4655-a3b9-cf729abd4f5e",
   "metadata": {},
   "source": [
    "# 1.1 Data Collection"
   ]
  },
  {
   "cell_type": "code",
   "execution_count": 5,
   "id": "cbacea8c-24a4-4aae-95ba-2368433d71d2",
   "metadata": {},
   "outputs": [],
   "source": [
    "# dataset = TestSatDataset(data_file_path =data_file_path,shape_path=shape_path,mask_path=mask_path,patch_size=test_patch_size,overlap=overlap_test,transform=test_transform,\n",
    "#                          resampling={2008:True,2009:True,2010:True,2011:True,2012:True,2013:True,2014:True},resampling_factor=8 )"
   ]
  },
  {
   "cell_type": "code",
   "execution_count": 6,
   "id": "4e0a5579-5906-4b7c-9e71-f3839f42bddb",
   "metadata": {
    "scrolled": true,
    "tags": []
   },
   "outputs": [
    {
     "name": "stderr",
     "output_type": "stream",
     "text": [
      "100%|██████████| 25/25 [00:02<00:00, 10.11it/s]\n",
      " 67%|██████▋   | 18/27 [00:01<00:00, 11.44it/s]"
     ]
    },
    {
     "name": "stdout",
     "output_type": "stream",
     "text": [
      "Skipped shape due to nodata!\n"
     ]
    },
    {
     "name": "stderr",
     "output_type": "stream",
     "text": [
      "100%|██████████| 27/27 [00:02<00:00, 11.05it/s]\n",
      " 18%|█▊        | 12/66 [00:01<00:06,  7.76it/s]"
     ]
    },
    {
     "name": "stdout",
     "output_type": "stream",
     "text": [
      "Skipped shape due to nodata!\n"
     ]
    },
    {
     "name": "stderr",
     "output_type": "stream",
     "text": [
      "100%|██████████| 66/66 [00:09<00:00,  6.93it/s]\n",
      "  6%|▌         | 9/159 [00:00<00:13, 11.03it/s]"
     ]
    },
    {
     "name": "stdout",
     "output_type": "stream",
     "text": [
      "Skipped shape due to nodata!\n"
     ]
    },
    {
     "name": "stderr",
     "output_type": "stream",
     "text": [
      " 23%|██▎       | 37/159 [00:03<00:10, 11.52it/s]"
     ]
    },
    {
     "name": "stdout",
     "output_type": "stream",
     "text": [
      "Skipped shape due to nodata!\n"
     ]
    },
    {
     "name": "stderr",
     "output_type": "stream",
     "text": [
      " 68%|██████▊   | 108/159 [00:09<00:03, 14.68it/s]"
     ]
    },
    {
     "name": "stdout",
     "output_type": "stream",
     "text": [
      "Skipped shape due to nodata!\n"
     ]
    },
    {
     "name": "stderr",
     "output_type": "stream",
     "text": [
      "100%|██████████| 159/159 [00:13<00:00, 11.50it/s]\n",
      " 23%|██▎       | 32/139 [00:03<00:09, 10.74it/s]"
     ]
    },
    {
     "name": "stdout",
     "output_type": "stream",
     "text": [
      "Skipped shape due to nodata!\n"
     ]
    },
    {
     "name": "stderr",
     "output_type": "stream",
     "text": [
      " 61%|██████    | 85/139 [00:07<00:04, 12.31it/s]"
     ]
    },
    {
     "name": "stdout",
     "output_type": "stream",
     "text": [
      "Skipped shape due to nodata!\n"
     ]
    },
    {
     "name": "stderr",
     "output_type": "stream",
     "text": [
      "100%|██████████| 139/139 [00:13<00:00, 10.66it/s]"
     ]
    },
    {
     "name": "stdout",
     "output_type": "stream",
     "text": [
      "Skipped shape due to nodata!\n"
     ]
    },
    {
     "name": "stderr",
     "output_type": "stream",
     "text": [
      "\n",
      "100%|██████████| 21/21 [00:02<00:00, 10.15it/s]\n"
     ]
    },
    {
     "name": "stdout",
     "output_type": "stream",
     "text": [
      "Size:  429\n"
     ]
    }
   ],
   "source": [
    "# dataset = TestSatDataset(data_file_path =data_file_path,shape_path=shape_path,mask_path=mask_path,patch_size=test_patch_size,overlap=overlap_test,transform=test_transform,\n",
    "#                          resampling_factor=resampling )\n",
    "dataset = TestSatDataset(data_path =data_path,patch_size=test_patch_size,overlap=overlap_test,transform=test_transform, resampling_factor=res_factor,years=years )"
   ]
  },
  {
   "cell_type": "code",
   "execution_count": 7,
   "id": "31fdca36-ca16-40a0-a5a0-c6ccce74fe41",
   "metadata": {},
   "outputs": [],
   "source": [
    "test_dl = DataLoader(dataset,batch_size=batch_size,num_workers=nworkers,\n",
    "                     shuffle=False,pin_memory=pin_memory,drop_last=False)"
   ]
  },
  {
   "cell_type": "code",
   "execution_count": 8,
   "id": "6c3b7b82-5ac5-4894-8755-86c5aafa0a3f",
   "metadata": {},
   "outputs": [
    {
     "data": {
      "image/png": "[encoded data removed]",
      "text/plain": [
       "<Figure size 432x288 with 2 Axes>"
      ]
     },
     "metadata": {
      "needs_background": "light"
     },
     "output_type": "display_data"
    }
   ],
   "source": [
    "dataset.show_tuple(164)"
   ]
  },
  {
   "cell_type": "markdown",
   "id": "04946360-de70-48df-ab48-0afc50345eec",
   "metadata": {},
   "source": [
    "# 2 Model"
   ]
  },
  {
   "cell_type": "code",
   "execution_count": 9,
   "id": "9ce8f69f-e0ca-4b48-9e63-b3eb97edf285",
   "metadata": {},
   "outputs": [],
   "source": [
    "model_path = save_dir + \"/\" + model_name +  \".pth\"\n",
    "state_dict = torch.load(model_path,map_location=\"cpu\")"
   ]
  },
  {
   "cell_type": "code",
   "execution_count": 10,
   "id": "21f0114c-184d-4185-b923-94030342f9a1",
   "metadata": {},
   "outputs": [],
   "source": [
    "\n",
    "\n",
    "if data_parallel:\n",
    "    # create new OrderedDict that does not contain `module.`\n",
    "    from collections import OrderedDict\n",
    "    new_state_dict = OrderedDict()\n",
    "    for k, v in state_dict.items():\n",
    "        name = k[7:] # remove `module.`\n",
    "        new_state_dict[name] = v\n",
    "    model_path = save_dir + \"/\" + model_name +  \"_new.pth\"\n",
    "    torch.save(new_state_dict,model_path)\n",
    "    "
   ]
  },
  {
   "cell_type": "markdown",
   "id": "abcf870c-8387-4e3f-b1e5-560250e92a88",
   "metadata": {},
   "source": [
    "## 2.1 Advanced Unet"
   ]
  },
  {
   "cell_type": "code",
   "execution_count": 11,
   "id": "cbfbbeb1-264c-455d-99f4-a315b27655f5",
   "metadata": {},
   "outputs": [],
   "source": [
    "# Change here to adapt to your data\n",
    "# n_channels=3 for RGB images \n",
    "# n_classes is the number of probabilities you want to get per pixel\n",
    "\n",
    "net = UNet(n_channels=3, n_classes=2, bilinear=False)\n",
    "#net= DataParallel(net)\n",
    "\n",
    "if data_parallel:\n",
    "    net.load_state_dict(new_state_dict)\n",
    "else:\n",
    "    net.load_state_dict(state_dict)\n",
    "#net.load_state_dict(torch.load(model_path,map_location=\"cpu\"))\n",
    "\n",
    "\n",
    "#net= DataParallel(net,device_ids=[0,1])\n",
    "net = net.to(device=device)\n",
    "\n"
   ]
  },
  {
   "cell_type": "markdown",
   "id": "b521da2f-de08-4095-ae47-192d0abf8c42",
   "metadata": {},
   "source": [
    "# 2.2 ResNet101 Binary"
   ]
  },
  {
   "cell_type": "code",
   "execution_count": 12,
   "id": "39c75bb6-babf-4f61-a925-5c10f55218a5",
   "metadata": {},
   "outputs": [],
   "source": [
    "import pytorch_segmentation.augmentation.transforms as seg_transforms\n",
    "\n",
    "if classif:\n",
    "    # Change here to adapt to your data\n",
    "    clf = models.resnet101(pretrained=True)\n",
    "\n",
    "    fc = nn.Sequential(nn.Linear(2048,1024),nn.ReLU(inplace=True),\n",
    "                       nn.Linear(1024,512),nn.ReLU(inplace=True),\n",
    "                       nn.Linear(512,128),nn.ReLU(inplace=True),nn.Linear(128,1))\n",
    "    #fc = nn.Linear(2048,46)\n",
    "    clf.fc = fc\n",
    "    \n",
    "    clf.load_state_dict(torch.load(os.path.join(save_dir,clf_model+\".pth\")))\n",
    "\n",
    "    clf = clf.to(device=device)\n",
    "    clf.eval()\n",
    "    \n",
    "    mean = [0.485, 0.456, 0.406] \n",
    "    std = [0.229, 0.224, 0.225]\n",
    "\n",
    "    transform = seg_transforms.Compose([\n",
    "        seg_transforms.Normalize(mean, std)\n",
    "    ])\n"
   ]
  },
  {
   "cell_type": "markdown",
   "id": "ed024eaa-85f1-4dff-a6c4-552f1e0cfe98",
   "metadata": {},
   "source": [
    "## 3 Validation"
   ]
  },
  {
   "cell_type": "code",
   "execution_count": 15,
   "id": "ef163d4a-e02c-4130-b86d-ef09b43f7e28",
   "metadata": {},
   "outputs": [],
   "source": [
    "net.eval()\n",
    "y_pred = torch.empty((len(dataset),256,256)).long()\n",
    "start_idx = 0\n",
    "\n",
    "with torch.no_grad(): \n",
    "    for i,batch in enumerate(test_dl):\n",
    "        x = batch[\"x\"]\n",
    "        \n",
    "        if classif:\n",
    "            x_clf = transform(x,None)[0].to(device)\n",
    "            out = clf(x_clf)\n",
    "            logits = nn.Sigmoid()(out).squeeze(1)\n",
    "            non_empty_idx = logits > 0.1\n",
    "            x = x[non_empty_idx]\n",
    "            del x_clf\n",
    "        \n",
    "        x = x.to(device)\n",
    "        \n",
    "        out = net(x)#[\"out\"]\n",
    "        out = torch.argmax(out,dim=1)\n",
    "        out = out.cpu()\n",
    "        \n",
    "        if classif:\n",
    "            o = torch.zeros((len(batch[\"x\"]),256,256)).long()\n",
    "            if len(out) > 0:\n",
    "                o[non_empty_idx] = out\n",
    "            out = o\n",
    "            \n",
    "        \n",
    "        end_idx = start_idx + len(out)\n",
    "        y_pred[start_idx:end_idx] = out\n",
    "        start_idx += len(out)"
   ]
  },
  {
   "cell_type": "code",
   "execution_count": null,
   "id": "d63fbdf3-0ca1-49d3-91aa-a0743e64b8ef",
   "metadata": {},
   "outputs": [],
   "source": [
    " "
   ]
  },
  {
   "cell_type": "code",
   "execution_count": 14,
   "id": "953f3108-1606-42fb-8b68-4d58beac5495",
   "metadata": {
    "scrolled": true,
    "tags": []
   },
   "outputs": [
    {
     "name": "stdout",
     "output_type": "stream",
     "text": [
      "Model: unet_25_01_2023_113846\n",
      "##############################\n",
      "Year 2014: acc     0.986819\n",
      "iou     0.430706\n",
      "dice    0.449584\n",
      "Number of patches: 25\n",
      "##############################\n",
      "Year 2015: acc     0.918275\n",
      "iou     0.451316\n",
      "dice    0.506418\n",
      "Number of patches: 26\n",
      "##############################\n",
      "Year 2016: acc     0.934912\n",
      "iou     0.486620\n",
      "dice    0.563376\n",
      "Number of patches: 65\n",
      "##############################\n",
      "Year 2017: acc     0.986534\n",
      "iou     0.645685\n",
      "dice    0.706629\n",
      "Number of patches: 156\n",
      "##############################\n",
      "Year 2018: acc     0.926363\n",
      "iou     0.393449\n",
      "dice    0.455702\n",
      "Number of patches: 136\n",
      "##############################\n",
      "Year 2019: acc     0.943829\n",
      "iou     0.766058\n",
      "dice    0.808203\n",
      "Number of patches: 21\n",
      "\n",
      "##############################\n",
      "Total score: acc     0.953426\n",
      "iou     0.523206\n",
      "dice    0.583235\n"
     ]
    }
   ],
   "source": [
    "dataset.evaluate(y_pred,model_name,save_dir=save_dir_output,\n",
    "                 save_images=save_images,filter_true_empty=filter_true_empty);#,tmpdir=\"/tmp/test\")"
   ]
  },
  {
   "cell_type": "markdown",
   "id": "6df6d71e-336a-4336-b5b9-46bcb5ab6525",
   "metadata": {},
   "source": [
    "# Results"
   ]
  },
  {
   "cell_type": "code",
   "execution_count": 14,
   "id": "cf893a88-dfb7-4e6e-9102-becb267bfc28",
   "metadata": {
    "scrolled": true,
    "tags": []
   },
   "outputs": [
    {
     "name": "stdout",
     "output_type": "stream",
     "text": [
      "Model: unet_01_12_2022_085945\n",
      "##############################\n",
      "Year 2014: acc     0.986035\n",
      "iou     0.461193\n",
      "dice    0.496503\n",
      "Number of patches: 25\n",
      "##############################\n",
      "Year 2015: acc     0.922195\n",
      "iou     0.517196\n",
      "dice    0.594247\n",
      "Number of patches: 26\n",
      "##############################\n",
      "Year 2016: acc     0.936397\n",
      "iou     0.531913\n",
      "dice    0.618776\n",
      "Number of patches: 65\n",
      "##############################\n",
      "Year 2017: acc     0.986868\n",
      "iou     0.655881\n",
      "dice    0.722339\n",
      "Number of patches: 156\n",
      "##############################\n",
      "Year 2018: acc     0.926652\n",
      "iou     0.406892\n",
      "dice    0.470387\n",
      "Number of patches: 136\n",
      "##############################\n",
      "Year 2019: acc     0.946504\n",
      "iou     0.677118\n",
      "dice    0.716360\n",
      "Number of patches: 21\n",
      "\n",
      "##############################\n",
      "Total score: acc     0.954188\n",
      "iou     0.539454\n",
      "dice    0.605558\n"
     ]
    }
   ],
   "source": [
    "dataset.evaluate(y_pred,model_name,save_dir=save_dir_output,\n",
    "                 save_images=save_images,filter_true_empty=filter_true_empty);#,tmpdir=\"/tmp/test\")"
   ]
  },
  {
   "cell_type": "code",
   "execution_count": 14,
   "id": "701b78e3-1ea3-4ae0-9edb-424188ed9fae",
   "metadata": {
    "scrolled": true,
    "tags": []
   },
   "outputs": [
    {
     "name": "stdout",
     "output_type": "stream",
     "text": [
      "Model: unet_15_12_2022_111006\n",
      "##############################\n",
      "Year 2014: acc     0.987191\n",
      "iou     0.436878\n",
      "dice    0.460739\n",
      "Number of patches: 25\n",
      "##############################\n",
      "Year 2015: acc     0.928354\n",
      "iou     0.503438\n",
      "dice    0.564688\n",
      "Number of patches: 26\n",
      "##############################\n",
      "Year 2016: acc     0.936648\n",
      "iou     0.542543\n",
      "dice    0.621550\n",
      "Number of patches: 65\n",
      "##############################\n",
      "Year 2017: acc     0.987431\n",
      "iou     0.660975\n",
      "dice    0.719535\n",
      "Number of patches: 156\n",
      "##############################\n",
      "Year 2018: acc     0.932991\n",
      "iou     0.390923\n",
      "dice    0.455243\n",
      "Number of patches: 136\n",
      "##############################\n",
      "Year 2019: acc     0.935765\n",
      "iou     0.706037\n",
      "dice    0.743146\n",
      "Number of patches: 21\n",
      "\n",
      "##############################\n",
      "Total score: acc     0.956355\n",
      "iou     0.537019\n",
      "dice    0.597593\n"
     ]
    }
   ],
   "source": [
    "dataset.evaluate(y_pred,model_name,save_dir=save_dir_output,\n",
    "                 save_images=save_images,filter_true_empty=filter_true_empty);#,tmpdir=\"/tmp/test\")"
   ]
  },
  {
   "cell_type": "code",
   "execution_count": null,
   "id": "edad9d7d-662a-4867-bfdc-faa121440ea5",
   "metadata": {},
   "outputs": [],
   "source": []
  },
  {
   "cell_type": "code",
   "execution_count": null,
   "id": "f9cb7dde-d3d0-44cf-a65b-1b53450ab4ff",
   "metadata": {},
   "outputs": [],
   "source": []
  },
  {
   "cell_type": "code",
   "execution_count": 14,
   "id": "9781a444-ec9e-4932-8afe-330d6e9a7ad0",
   "metadata": {
    "scrolled": true,
    "tags": []
   },
   "outputs": [
    {
     "name": "stdout",
     "output_type": "stream",
     "text": [
      "Model: unet_01_12_2022_085945\n",
      "##############################\n",
      "Year 2014: acc     0.986035\n",
      "iou     0.461193\n",
      "dice    0.496503\n",
      "Number of patches: 25\n",
      "##############################\n",
      "Year 2015: acc     0.922195\n",
      "iou     0.517196\n",
      "dice    0.594247\n",
      "Number of patches: 26\n",
      "##############################\n",
      "Year 2016: acc     0.936397\n",
      "iou     0.531913\n",
      "dice    0.618776\n",
      "Number of patches: 65\n",
      "##############################\n",
      "Year 2018: acc     0.926652\n",
      "iou     0.406892\n",
      "dice    0.470387\n",
      "Number of patches: 136\n",
      "##############################\n",
      "Year 2019: acc     0.946504\n",
      "iou     0.677118\n",
      "dice    0.716360\n",
      "Number of patches: 21\n",
      "\n",
      "##############################\n",
      "Total score: acc     0.935513\n",
      "iou     0.472923\n",
      "dice    0.538827\n"
     ]
    }
   ],
   "source": [
    "dataset.evaluate(y_pred,model_name,save_dir=save_dir_output,\n",
    "                 save_images=save_images,filter_true_empty=filter_true_empty);#,tmpdir=\"/tmp/test\")"
   ]
  },
  {
   "cell_type": "code",
   "execution_count": 14,
   "id": "8174a682-893e-4ac7-9a38-0fc07ad86a5e",
   "metadata": {
    "scrolled": true,
    "tags": []
   },
   "outputs": [
    {
     "name": "stdout",
     "output_type": "stream",
     "text": [
      "Model: unet_15_12_2022_111006\n",
      "##############################\n",
      "Year 2014: acc     0.987191\n",
      "iou     0.436878\n",
      "dice    0.460739\n",
      "Number of patches: 25\n",
      "##############################\n",
      "Year 2015: acc     0.928354\n",
      "iou     0.503438\n",
      "dice    0.564688\n",
      "Number of patches: 26\n",
      "##############################\n",
      "Year 2016: acc     0.936648\n",
      "iou     0.542543\n",
      "dice    0.621550\n",
      "Number of patches: 65\n",
      "##############################\n",
      "Year 2018: acc     0.932991\n",
      "iou     0.390925\n",
      "dice    0.455245\n",
      "Number of patches: 136\n",
      "##############################\n",
      "Year 2019: acc     0.935765\n",
      "iou     0.706037\n",
      "dice    0.743146\n",
      "Number of patches: 21\n",
      "\n",
      "##############################\n",
      "Total score: acc     0.938597\n",
      "iou     0.466188\n",
      "dice    0.527914\n"
     ]
    }
   ],
   "source": [
    "dataset.evaluate(y_pred,model_name,save_dir=save_dir_output,\n",
    "                 save_images=save_images,filter_true_empty=filter_true_empty);#,tmpdir=\"/tmp/test\")"
   ]
  }
 ],
 "metadata": {
  "kernelspec": {
   "display_name": "Python 3 (ipykernel)",
   "language": "python",
   "name": "python3"
  },
  "language_info": {
   "codemirror_mode": {
    "name": "ipython",
    "version": 3
   },
   "file_extension": ".py",
   "mimetype": "text/x-python",
   "name": "python",
   "nbconvert_exporter": "python",
   "pygments_lexer": "ipython3",
   "version": "3.8.10"
  }
 },
 "nbformat": 4,
 "nbformat_minor": 5
}
