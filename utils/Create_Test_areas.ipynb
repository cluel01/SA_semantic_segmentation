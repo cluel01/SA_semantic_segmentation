{
 "cells": [
  {
   "cell_type": "code",
   "execution_count": 3,
   "id": "ca708519-a464-44b1-983e-3d7999ce23b3",
   "metadata": {},
   "outputs": [],
   "source": [
    "import geopandas as gpd\n",
    "from shapely.geometry import Polygon\n",
    "import numpy as np\n",
    "import os\n",
    "import rasterio\n",
    "from rasterio.mask import mask\n",
    "np.random.seed(42)\n",
    "\n",
    "path = \"/home/jovyan/work/satellite_data/ku_sync/South_Africa/all/\"\n",
    "years = list(range(2008,2019))\n",
    "\n",
    "ncols = 100\n",
    "nrows = 100\n",
    "\n",
    "test_ratio = 0.0000015"
   ]
  },
  {
   "cell_type": "code",
   "execution_count": null,
   "id": "5fc27826-d445-400c-86c0-a55468f0960f",
   "metadata": {},
   "outputs": [],
   "source": []
  },
  {
   "cell_type": "code",
   "execution_count": 2,
   "id": "197b3949-cb23-4cbf-b14c-6a641010e602",
   "metadata": {},
   "outputs": [
    {
     "name": "stderr",
     "output_type": "stream",
     "text": [
      "/usr/local/lib/python3.8/dist-packages/geopandas/io/file.py:362: FutureWarning: pandas.Int64Index is deprecated and will be removed from pandas in a future version. Use pandas.Index with the appropriate dtype instead.\n",
      "  pd.Int64Index,\n"
     ]
    },
    {
     "name": "stdout",
     "output_type": "stream",
     "text": [
      "Year:  2008\n",
      "Number of files:  19\n",
      "Number patches:  190000\n",
      "Number of samples:  1\n"
     ]
    },
    {
     "name": "stderr",
     "output_type": "stream",
     "text": [
      "/usr/local/lib/python3.8/dist-packages/geopandas/io/file.py:362: FutureWarning: pandas.Int64Index is deprecated and will be removed from pandas in a future version. Use pandas.Index with the appropriate dtype instead.\n",
      "  pd.Int64Index,\n"
     ]
    },
    {
     "name": "stdout",
     "output_type": "stream",
     "text": [
      "Year:  2009\n",
      "Number of files:  356\n",
      "Number patches:  3560000\n",
      "Number of samples:  6\n"
     ]
    },
    {
     "name": "stderr",
     "output_type": "stream",
     "text": [
      "/usr/local/lib/python3.8/dist-packages/geopandas/io/file.py:362: FutureWarning: pandas.Int64Index is deprecated and will be removed from pandas in a future version. Use pandas.Index with the appropriate dtype instead.\n",
      "  pd.Int64Index,\n"
     ]
    },
    {
     "name": "stdout",
     "output_type": "stream",
     "text": [
      "Year:  2010\n",
      "Number of files:  337\n",
      "Number patches:  3370000\n",
      "Number of samples:  6\n"
     ]
    },
    {
     "name": "stderr",
     "output_type": "stream",
     "text": [
      "/usr/local/lib/python3.8/dist-packages/geopandas/io/file.py:362: FutureWarning: pandas.Int64Index is deprecated and will be removed from pandas in a future version. Use pandas.Index with the appropriate dtype instead.\n",
      "  pd.Int64Index,\n"
     ]
    },
    {
     "name": "stdout",
     "output_type": "stream",
     "text": [
      "Year:  2011\n",
      "Number of files:  399\n",
      "Number patches:  3990000\n",
      "Number of samples:  6\n"
     ]
    },
    {
     "name": "stderr",
     "output_type": "stream",
     "text": [
      "/usr/local/lib/python3.8/dist-packages/geopandas/io/file.py:362: FutureWarning: pandas.Int64Index is deprecated and will be removed from pandas in a future version. Use pandas.Index with the appropriate dtype instead.\n",
      "  pd.Int64Index,\n"
     ]
    },
    {
     "name": "stdout",
     "output_type": "stream",
     "text": [
      "Year:  2012\n",
      "Number of files:  115\n",
      "Number patches:  1150000\n",
      "Number of samples:  2\n"
     ]
    },
    {
     "name": "stderr",
     "output_type": "stream",
     "text": [
      "/usr/local/lib/python3.8/dist-packages/geopandas/io/file.py:362: FutureWarning: pandas.Int64Index is deprecated and will be removed from pandas in a future version. Use pandas.Index with the appropriate dtype instead.\n",
      "  pd.Int64Index,\n"
     ]
    },
    {
     "name": "stdout",
     "output_type": "stream",
     "text": [
      "Year:  2013\n",
      "Number of files:  624\n",
      "Number patches:  6240000\n",
      "Number of samples:  10\n"
     ]
    },
    {
     "name": "stderr",
     "output_type": "stream",
     "text": [
      "/usr/local/lib/python3.8/dist-packages/geopandas/io/file.py:362: FutureWarning: pandas.Int64Index is deprecated and will be removed from pandas in a future version. Use pandas.Index with the appropriate dtype instead.\n",
      "  pd.Int64Index,\n"
     ]
    },
    {
     "name": "stdout",
     "output_type": "stream",
     "text": [
      "Year:  2014\n",
      "Number of files:  358\n",
      "Number patches:  3580000\n",
      "Number of samples:  6\n"
     ]
    },
    {
     "name": "stderr",
     "output_type": "stream",
     "text": [
      "/usr/local/lib/python3.8/dist-packages/geopandas/io/file.py:362: FutureWarning: pandas.Int64Index is deprecated and will be removed from pandas in a future version. Use pandas.Index with the appropriate dtype instead.\n",
      "  pd.Int64Index,\n"
     ]
    },
    {
     "name": "stdout",
     "output_type": "stream",
     "text": [
      "Year:  2015\n",
      "Number of files:  387\n",
      "Number patches:  3870000\n",
      "Number of samples:  6\n"
     ]
    },
    {
     "name": "stderr",
     "output_type": "stream",
     "text": [
      "/usr/local/lib/python3.8/dist-packages/geopandas/io/file.py:362: FutureWarning: pandas.Int64Index is deprecated and will be removed from pandas in a future version. Use pandas.Index with the appropriate dtype instead.\n",
      "  pd.Int64Index,\n"
     ]
    },
    {
     "name": "stdout",
     "output_type": "stream",
     "text": [
      "Year:  2016\n",
      "Number of files:  587\n",
      "Number patches:  5870000\n",
      "Number of samples:  9\n"
     ]
    },
    {
     "name": "stderr",
     "output_type": "stream",
     "text": [
      "/usr/local/lib/python3.8/dist-packages/geopandas/io/file.py:362: FutureWarning: pandas.Int64Index is deprecated and will be removed from pandas in a future version. Use pandas.Index with the appropriate dtype instead.\n",
      "  pd.Int64Index,\n"
     ]
    },
    {
     "name": "stdout",
     "output_type": "stream",
     "text": [
      "Year:  2017\n",
      "Number of files:  243\n",
      "Number patches:  2430000\n",
      "Number of samples:  4\n",
      "Year:  2018\n",
      "Number of files:  114\n",
      "Number patches:  1140000\n",
      "Number of samples:  2\n"
     ]
    },
    {
     "name": "stderr",
     "output_type": "stream",
     "text": [
      "/usr/local/lib/python3.8/dist-packages/geopandas/io/file.py:362: FutureWarning: pandas.Int64Index is deprecated and will be removed from pandas in a future version. Use pandas.Index with the appropriate dtype instead.\n",
      "  pd.Int64Index,\n"
     ]
    }
   ],
   "source": [
    "shapes = {}\n",
    "for year in years:\n",
    "    polygons = []\n",
    "    files = [i for i in os.listdir(path) if i.endswith(str(year)+\".tif\")]\n",
    "    \n",
    "    for f in files:\n",
    "        with rasterio.open(os.path.join(path,f)) as img:\n",
    "            xmin, ymin, xmax, ymax = img.bounds\n",
    "            width = xmax-xmin\n",
    "            height = ymax-ymin\n",
    "\n",
    "            wide = width / ncols\n",
    "            length = height / nrows\n",
    "\n",
    "            x = xmin\n",
    "            y = ymin\n",
    "            for r in range(nrows):\n",
    "                if r== nrows-1:\n",
    "                    ystep = length#+(height % nrows)\n",
    "                else:\n",
    "                    ystep = length\n",
    "\n",
    "                for c in range(ncols):        \n",
    "                    if (c % ncols) == 0:\n",
    "                        x = xmin\n",
    "                    if c == ncols-1:\n",
    "                        xstep = wide#+(width % ncols)\n",
    "                    else:\n",
    "                        xstep = wide\n",
    "                    polygons.append(Polygon([(x,y), (x+xstep, y), (x+xstep, y+ystep), (x, y+ystep)]))\n",
    "                    x += xstep\n",
    "                y += ystep\n",
    "                \n",
    "    sample_size = int(np.ceil(test_ratio * len(polygons)))\n",
    "    sample_idxs = np.random.choice(range(len(polygons)),sample_size,replace=False)\n",
    "\n",
    "    grid = gpd.GeoDataFrame({'geometry':polygons})\n",
    "    grid.crs = img.crs\n",
    "    sampled_grid =  grid.iloc[sample_idxs]\n",
    "    sampled_grid.to_file(\"shapes/\"+str(year)+'.shp', driver='ESRI Shapefile')\n",
    "    shapes[year] =sampled_grid\n",
    "    print(\"Year: \",year)\n",
    "    print(\"Number of files: \",len(files))\n",
    "    print(\"Number patches: \",len(grid))\n",
    "    print(\"Number of samples: \",len(sampled_grid))\n",
    "    \n",
    "    \n"
   ]
  }
 ],
 "metadata": {
  "kernelspec": {
   "display_name": "Python 3 (ipykernel)",
   "language": "python",
   "name": "python3"
  },
  "language_info": {
   "codemirror_mode": {
    "name": "ipython",
    "version": 3
   },
   "file_extension": ".py",
   "mimetype": "text/x-python",
   "name": "python",
   "nbconvert_exporter": "python",
   "pygments_lexer": "ipython3",
   "version": "3.8.10"
  }
 },
 "nbformat": 4,
 "nbformat_minor": 5
}
