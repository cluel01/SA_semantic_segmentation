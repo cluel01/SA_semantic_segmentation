{
 "cells": [
  {
   "cell_type": "code",
   "execution_count": 1,
   "id": "bf5c82aa-9a66-40f4-b3d0-9650e27989b7",
   "metadata": {},
   "outputs": [],
   "source": [
    "# from pytorch_segmentation.tree_segmentation import segment_trees\n",
    "\n",
    "# df = segment_trees(\"/home/jovyan/work/satellite_data/tmp/inference/unet_18_07_2022_150108_new.pth/2018_10.tif\",\"test_watershed_unet18.sqlite\",\n",
    "#                    footprint=(3,3),min_distance=10,min_size=100,n_cpus=20,cachesize=10,driver=\"SQLite\",patch_size=[1024,1024])"
   ]
  },
  {
   "cell_type": "code",
   "execution_count": 2,
   "id": "fe54e605-9597-4b43-9aa9-5fc9e7a3c450",
   "metadata": {},
   "outputs": [],
   "source": [
    "import sys \n",
    "sys.path.append(\"/home/jovyan/work/notebooks/satellite_data/SA_segmentation/\")\n",
    "import sys \n",
    "sys.path.append(\"/home/jovyan/work/notebooks/satellite_data/SA_segmentation/segmentation_models.pytorch\")\n",
    "import segmentation_models_pytorch as smp\n",
    "import rasterio\n",
    "from rasterio.plot import show\n",
    "from rasterio.mask import mask\n",
    "from rasterio.windows import from_bounds\n",
    "import numpy as np\n",
    "import matplotlib\n",
    "import matplotlib.pyplot as plt\n",
    "import os\n",
    "import numpy as np\n",
    "from patchify import patchify\n",
    "import torch\n",
    "from torch.functional import F\n",
    "from torch import nn\n",
    "from torch.nn import DataParallel\n",
    "from torch.utils.data import DataLoader\n",
    "from shapely.geometry import box\n",
    "from torchvision import transforms\n",
    "import time\n",
    "import random\n",
    "import torchvision.models as models\n",
    "\n",
    "from pytorch_segmentation.data.test_dataset import TestSatDataset\n",
    "from pytorch_segmentation.models import UNet\n",
    "import pytorch_segmentation.augmentation.transforms as seg_transforms\n",
    "\n",
    "seed = 42\n",
    "torch.manual_seed(seed)\n",
    "random.seed(seed)\n",
    "np.random.seed(seed)"
   ]
  },
  {
   "cell_type": "code",
   "execution_count": 3,
   "id": "90579e0a-fcdf-444b-ace1-cb21f74bc753",
   "metadata": {},
   "outputs": [],
   "source": [
    "model_name = \"smp_unet_mitb4_14_03_2023_144054\"#\"unet_25_08_2022_081902\"#\"unet_29_07_2022_120212\" #\"unet_18_07_2022_150108\"#\"unet_19_07_2022_115722\" #\"unet_18_07_2022_150108\"#\"unet_05_05_2022_113034\" #\"unet_11_07_2022_070457\"#\"unet_13_07_2022_171256\" \n",
    "data_parallel = False\n",
    "smp_model = True\n",
    "\n",
    "\n",
    "save_dir = \"/home/jovyan/work/notebooks/satellite_data/SA_segmentation/saved_models\"\n",
    "\n",
    "data_path = \"/home/jovyan/work/notebooks/satellite_data/SA_segmentation/data/test_dataset/V2\"\n",
    "# data_file_path =\"/home/jovyan/work/satellite_data/tmp/\"\n",
    "# shape_path=\"/home/jovyan/work/notebooks/satellite_data/utils/shapes\"\n",
    "# mask_path=\"/home/jovyan/work/notebooks/satellite_data/data/test_dataset\"\n",
    "\n",
    "test_patch_size = [256,256]\n",
    "overlap_test = 128\n",
    "\n",
    "batch_size = 50\n",
    "nworkers = 10\n",
    "pin_memory = True\n",
    "\n",
    "padding = False#True\n",
    "\n",
    "save_images = False\n",
    "save_dir_output = \"/home/jovyan/work/notebooks/satellite_data/SA_segmentation/data/out/save_images\"\n",
    "filter_true_empty = False\n",
    "\n",
    "\n",
    "#res_factor = 1\n",
    "\n",
    "years = [2014,2015,2016,2017,2018,2019]#list(range(2014,2021))\n",
    "res_factor = {2014:2,2015:2,2016:2,2017:1,2018:1,2019:1}\n",
    "\n",
    "\n",
    "#resampling = {2008:8,2009:8,2010:6,2011:6,2012:6,2013:6,2014:4,2015:4,2016:4,2017:2,2018:2}\n",
    "#resampling = {2008:8,2009:8,2010:6,2011:6,2012:6,2013:6,2014:6,2015:6,2016:6,2017:2,2018:2}\n",
    "#resampling = 1\n",
    "#resampling = {2008:4,2009:1,2010:1,2011:1,2012:1,2013:1,2014:1,2015:1,2016:1,2017:1,2018:1}"
   ]
  },
  {
   "cell_type": "code",
   "execution_count": 4,
   "id": "3f5b9408-bbd0-4efc-9ff6-342cc04dfa67",
   "metadata": {},
   "outputs": [],
   "source": [
    "device = torch.device('cuda:1' if torch.cuda.is_available() else 'cpu')\n",
    "#device = torch.device('cpu')\n",
    "if str(device) == \"cpu\":\n",
    "    pin_memory = False\n",
    "\n",
    "test_transform = None\n",
    "\n",
    "test_transform = seg_transforms.Compose([\n",
    "    #seg_transforms.UnmaskEdges([225,225]),\n",
    "     #seg_transforms.CLAHE_Norm(),\n",
    "    #seg_transforms.Add_VDVI()\n",
    "    ])"
   ]
  },
  {
   "cell_type": "markdown",
   "id": "8b1ed039-1908-4655-a3b9-cf729abd4f5e",
   "metadata": {},
   "source": [
    "# 1.1 Data Collection"
   ]
  },
  {
   "cell_type": "code",
   "execution_count": 5,
   "id": "cbacea8c-24a4-4aae-95ba-2368433d71d2",
   "metadata": {},
   "outputs": [],
   "source": [
    "# dataset = TestSatDataset(data_file_path =data_file_path,shape_path=shape_path,mask_path=mask_path,patch_size=test_patch_size,overlap=overlap_test,transform=test_transform,\n",
    "#                          resampling={2008:True,2009:True,2010:True,2011:True,2012:True,2013:True,2014:True},resampling_factor=8 )"
   ]
  },
  {
   "cell_type": "code",
   "execution_count": 6,
   "id": "4e0a5579-5906-4b7c-9e71-f3839f42bddb",
   "metadata": {
    "scrolled": true,
    "tags": []
   },
   "outputs": [
    {
     "name": "stderr",
     "output_type": "stream",
     "text": [
      "100%|██████████| 25/25 [00:00<00:00, 112.74it/s]\n",
      " 67%|██████▋   | 18/27 [00:00<00:00, 46.10it/s]"
     ]
    },
    {
     "name": "stdout",
     "output_type": "stream",
     "text": [
      "Skipped shape due to nodata!\n"
     ]
    },
    {
     "name": "stderr",
     "output_type": "stream",
     "text": [
      "100%|██████████| 27/27 [00:00<00:00, 46.58it/s]\n",
      " 23%|██▎       | 15/66 [00:00<00:01, 38.55it/s]"
     ]
    },
    {
     "name": "stdout",
     "output_type": "stream",
     "text": [
      "Skipped shape due to nodata!\n"
     ]
    },
    {
     "name": "stderr",
     "output_type": "stream",
     "text": [
      "100%|██████████| 66/66 [00:02<00:00, 24.78it/s]\n",
      " 24%|██▍       | 38/159 [00:00<00:00, 181.24it/s]"
     ]
    },
    {
     "name": "stdout",
     "output_type": "stream",
     "text": [
      "Skipped shape due to nodata!\n",
      "Skipped shape due to nodata!\n"
     ]
    },
    {
     "name": "stderr",
     "output_type": "stream",
     "text": [
      " 77%|███████▋  | 123/159 [00:00<00:00, 148.21it/s]"
     ]
    },
    {
     "name": "stdout",
     "output_type": "stream",
     "text": [
      "Skipped shape due to nodata!\n"
     ]
    },
    {
     "name": "stderr",
     "output_type": "stream",
     "text": [
      "100%|██████████| 159/159 [00:01<00:00, 148.07it/s]\n",
      " 31%|███       | 43/139 [00:00<00:00, 96.83it/s] "
     ]
    },
    {
     "name": "stdout",
     "output_type": "stream",
     "text": [
      "Skipped shape due to nodata!\n"
     ]
    },
    {
     "name": "stderr",
     "output_type": "stream",
     "text": [
      " 65%|██████▌   | 91/139 [00:01<00:00, 62.08it/s]"
     ]
    },
    {
     "name": "stdout",
     "output_type": "stream",
     "text": [
      "Skipped shape due to nodata!\n"
     ]
    },
    {
     "name": "stderr",
     "output_type": "stream",
     "text": [
      "100%|██████████| 139/139 [00:01<00:00, 70.67it/s]\n"
     ]
    },
    {
     "name": "stdout",
     "output_type": "stream",
     "text": [
      "Skipped shape due to nodata!\n"
     ]
    },
    {
     "name": "stderr",
     "output_type": "stream",
     "text": [
      "100%|██████████| 21/21 [00:00<00:00, 234.37it/s]\n"
     ]
    },
    {
     "name": "stdout",
     "output_type": "stream",
     "text": [
      "Size:  777\n"
     ]
    }
   ],
   "source": [
    "# dataset = TestSatDataset(data_file_path =data_file_path,shape_path=shape_path,mask_path=mask_path,patch_size=test_patch_size,overlap=overlap_test,transform=test_transform,\n",
    "#                          resampling_factor=resampling )\n",
    "dataset = TestSatDataset(data_path =data_path,patch_size=test_patch_size,overlap=overlap_test,transform=test_transform, resampling_factor=res_factor,years=years )"
   ]
  },
  {
   "cell_type": "code",
   "execution_count": 7,
   "id": "31fdca36-ca16-40a0-a5a0-c6ccce74fe41",
   "metadata": {},
   "outputs": [],
   "source": [
    "test_dl = DataLoader(dataset,batch_size=batch_size,num_workers=nworkers,\n",
    "                     shuffle=False,pin_memory=pin_memory,drop_last=False)"
   ]
  },
  {
   "cell_type": "code",
   "execution_count": 8,
   "id": "6c3b7b82-5ac5-4894-8755-86c5aafa0a3f",
   "metadata": {},
   "outputs": [
    {
     "data": {
      "image/png": "[encoded data removed]",
      "text/plain": [
       "<Figure size 432x288 with 2 Axes>"
      ]
     },
     "metadata": {
      "needs_background": "light"
     },
     "output_type": "display_data"
    }
   ],
   "source": [
    "dataset.show_tuple(16)"
   ]
  },
  {
   "cell_type": "markdown",
   "id": "04946360-de70-48df-ab48-0afc50345eec",
   "metadata": {},
   "source": [
    "# 2 Model"
   ]
  },
  {
   "cell_type": "code",
   "execution_count": 9,
   "id": "9ce8f69f-e0ca-4b48-9e63-b3eb97edf285",
   "metadata": {},
   "outputs": [],
   "source": [
    "model_path = save_dir + \"/\" + model_name +  \".pth\"\n",
    "state_dict = torch.load(model_path,map_location=\"cpu\")"
   ]
  },
  {
   "cell_type": "code",
   "execution_count": 10,
   "id": "21f0114c-184d-4185-b923-94030342f9a1",
   "metadata": {},
   "outputs": [],
   "source": [
    "\n",
    "\n",
    "if data_parallel:\n",
    "    # create new OrderedDict that does not contain `module.`\n",
    "    from collections import OrderedDict\n",
    "    new_state_dict = OrderedDict()\n",
    "    for k, v in state_dict.items():\n",
    "        name = k[7:] # remove `module.`\n",
    "        new_state_dict[name] = v\n",
    "    model_path = save_dir + \"/\" + model_name +  \"_new.pth\"\n",
    "    torch.save(new_state_dict,model_path)\n",
    "    "
   ]
  },
  {
   "cell_type": "markdown",
   "id": "abcf870c-8387-4e3f-b1e5-560250e92a88",
   "metadata": {},
   "source": [
    "## 2.1 Advanced Unet"
   ]
  },
  {
   "cell_type": "code",
   "execution_count": 11,
   "id": "cbfbbeb1-264c-455d-99f4-a315b27655f5",
   "metadata": {},
   "outputs": [],
   "source": [
    "# Change here to adapt to your data\n",
    "# n_channels=3 for RGB images \n",
    "# n_classes is the number of probabilities you want to get per pixel\n",
    "if smp_model:\n",
    "    net = smp.Unet(\n",
    "        encoder_name=\"mit_b4\",        # choose encoder, e.g. mobilenet_v2 or efficientnet-b7\n",
    "        encoder_weights=\"imagenet\",     # use `imagenet` pre-trained weights for encoder initialization\n",
    "        in_channels=3,                  # model input channels (1 for gray-scale images, 3 for RGB, etc.)\n",
    "        classes=1,                      # model output channels (number of classes in your dataset)\n",
    "    )\n",
    "else:\n",
    "    net = UNet(n_channels=3, n_classes=2, bilinear=False)\n",
    "    #net= DataParallel(net)\n",
    "\n",
    "if data_parallel:\n",
    "    net.load_state_dict(new_state_dict)\n",
    "else:\n",
    "    net.load_state_dict(state_dict)\n",
    "#net.load_state_dict(torch.load(model_path,map_location=\"cpu\"))\n",
    "\n",
    "\n",
    "#net= DataParallel(net,device_ids=[0,1])\n",
    "net = net.to(device=device)"
   ]
  },
  {
   "cell_type": "markdown",
   "id": "ed024eaa-85f1-4dff-a6c4-552f1e0cfe98",
   "metadata": {},
   "source": [
    "## 3 Validation"
   ]
  },
  {
   "cell_type": "code",
   "execution_count": 12,
   "id": "ef163d4a-e02c-4130-b86d-ef09b43f7e28",
   "metadata": {},
   "outputs": [],
   "source": [
    "net.eval()\n",
    "y_pred = torch.empty((len(dataset),256,256)).long()\n",
    "start_idx = 0\n",
    "\n",
    "with torch.no_grad(): \n",
    "    for i,batch in enumerate(test_dl):\n",
    "        x = batch[\"x\"]\n",
    "        \n",
    "        x = x.to(device)\n",
    "        \n",
    "        out = net(x)#[\"out\"]\n",
    "        \n",
    "        if smp_model:\n",
    "            probs = out.squeeze().sigmoid()\n",
    "            out = (probs > 0.5).long().cpu()\n",
    "        else:\n",
    "            out = torch.argmax(out,dim=1)\n",
    "            out = out.cpu()\n",
    "            \n",
    "        \n",
    "        end_idx = start_idx + len(out)\n",
    "        y_pred[start_idx:end_idx] = out\n",
    "        start_idx += len(out)"
   ]
  },
  {
   "cell_type": "code",
   "execution_count": null,
   "id": "d63fbdf3-0ca1-49d3-91aa-a0743e64b8ef",
   "metadata": {},
   "outputs": [],
   "source": [
    " "
   ]
  },
  {
   "cell_type": "code",
   "execution_count": 13,
   "id": "953f3108-1606-42fb-8b68-4d58beac5495",
   "metadata": {
    "scrolled": true,
    "tags": []
   },
   "outputs": [
    {
     "name": "stdout",
     "output_type": "stream",
     "text": [
      "Model: smp_unet_mitb4_14_03_2023_144054\n",
      "##############################\n",
      "Year 2014: acc         0.976912\n",
      "iou         0.365762\n",
      "dice        0.411544\n",
      "rmse_cov    0.012849\n",
      "Number of patches: 100\n",
      "##############################\n",
      "Year 2015: acc         0.921774\n",
      "iou         0.518875\n",
      "dice        0.591396\n",
      "rmse_cov    0.037518\n",
      "Number of patches: 104\n",
      "##############################\n",
      "Year 2016: acc         0.923641\n",
      "iou         0.458246\n",
      "dice        0.542039\n",
      "rmse_cov    0.040014\n",
      "Number of patches: 260\n",
      "##############################\n",
      "Year 2017: acc         0.987147\n",
      "iou         0.668292\n",
      "dice        0.733066\n",
      "rmse_cov    0.006282\n",
      "Number of patches: 156\n",
      "##############################\n",
      "Year 2018: acc         0.925014\n",
      "iou         0.394286\n",
      "dice        0.457563\n",
      "rmse_cov    0.051398\n",
      "Number of patches: 136\n",
      "##############################\n",
      "Year 2019: acc         0.938067\n",
      "iou         0.661947\n",
      "dice        0.700943\n",
      "rmse_cov    0.036359\n",
      "Number of patches: 21\n",
      "\n",
      "##############################\n",
      "Total score: acc         0.943627\n",
      "iou         0.490940\n",
      "dice        0.559712\n",
      "rmse_cov    0.031305\n"
     ]
    }
   ],
   "source": [
    "dataset.evaluate(y_pred,model_name,save_dir=save_dir_output,\n",
    "                 save_images=save_images,filter_true_empty=filter_true_empty);#,tmpdir=\"/tmp/test\")"
   ]
  },
  {
   "cell_type": "markdown",
   "id": "6df6d71e-336a-4336-b5b9-46bcb5ab6525",
   "metadata": {},
   "source": [
    "# Results"
   ]
  },
  {
   "cell_type": "markdown",
   "id": "0a86d745-be20-4834-8f07-41d8c23ce258",
   "metadata": {},
   "source": [
    "## Resampled"
   ]
  },
  {
   "cell_type": "markdown",
   "id": "e06e58c1-70c9-4dda-b17a-37355d1be421",
   "metadata": {},
   "source": [
    "Model: smp_unet_mitb3_08_03_2023_170715\n",
    "##############################\n",
    "Year 2014: acc         0.983110\n",
    "iou         0.468074\n",
    "dice        0.510407\n",
    "rmse_cov    0.010979\n",
    "Number of patches: 100\n",
    "##############################\n",
    "Year 2015: acc         0.926421\n",
    "iou         0.557678\n",
    "dice        0.625352\n",
    "rmse_cov    0.036528\n",
    "Number of patches: 104\n",
    "##############################\n",
    "Year 2016: acc         0.933231\n",
    "iou         0.536229\n",
    "dice        0.619117\n",
    "rmse_cov    0.033987\n",
    "Number of patches: 260\n",
    "##############################\n",
    "Year 2017: acc         0.988522\n",
    "iou         0.678915\n",
    "dice        0.739486\n",
    "rmse_cov    0.006117\n",
    "Number of patches: 156\n",
    "##############################\n",
    "Year 2018: acc         0.935605\n",
    "iou         0.442208\n",
    "dice        0.507029\n",
    "rmse_cov    0.041061\n",
    "Number of patches: 136\n",
    "##############################\n",
    "Year 2019: acc         0.938864\n",
    "iou         0.804467\n",
    "dice        0.844079\n",
    "rmse_cov    0.036327\n",
    "Number of patches: 21\n",
    "\n",
    "##############################\n",
    "Total score: acc         0.950408\n",
    "iou         0.549769\n",
    "dice        0.616588\n",
    "rmse_cov    0.027072"
   ]
  },
  {
   "cell_type": "markdown",
   "id": "4c260df2-e6e1-4977-ba68-646bd8db2b93",
   "metadata": {},
   "source": [
    "Model: unet_01_12_2022_085945\n",
    "##############################\n",
    "Year 2014: acc         0.982578\n",
    "iou         0.410268\n",
    "dice        0.455457\n",
    "rmse_cov    0.008514\n",
    "Number of patches: 100\n",
    "##############################\n",
    "Year 2015: acc         0.924169\n",
    "iou         0.463246\n",
    "dice        0.531892\n",
    "rmse_cov    0.028078\n",
    "Number of patches: 104\n",
    "##############################\n",
    "Year 2016: acc         0.929206\n",
    "iou         0.518977\n",
    "dice        0.600307\n",
    "rmse_cov    0.033667\n",
    "Number of patches: 260\n",
    "##############################\n",
    "Year 2017: acc         0.986868\n",
    "iou         0.655881\n",
    "dice        0.722339\n",
    "rmse_cov    0.006400\n",
    "Number of patches: 156\n",
    "##############################\n",
    "Year 2018: acc         0.926652\n",
    "iou         0.406892\n",
    "dice        0.470387\n",
    "rmse_cov    0.048523\n",
    "Number of patches: 136\n",
    "##############################\n",
    "Year 2019: acc         0.946504\n",
    "iou         0.677118\n",
    "dice        0.716360\n",
    "rmse_cov    0.022217\n",
    "Number of patches: 21\n",
    "\n",
    "##############################\n",
    "Total score: acc         0.946998\n",
    "iou         0.509669\n",
    "dice        0.577404\n",
    "rmse_cov    0.026498"
   ]
  },
  {
   "cell_type": "markdown",
   "id": "7e66e152-2755-45ee-9506-272db395929f",
   "metadata": {},
   "source": [
    "Model: smp_unet_mitb5_10_03_2023_091535\n",
    "##############################\n",
    "Year 2014: acc         0.980044\n",
    "iou         0.443828\n",
    "dice        0.483667\n",
    "rmse_cov    0.008983\n",
    "Number of patches: 100\n",
    "##############################\n",
    "Year 2015: acc         0.921419\n",
    "iou         0.561933\n",
    "dice        0.633178\n",
    "rmse_cov    0.032133\n",
    "Number of patches: 104\n",
    "##############################\n",
    "Year 2016: acc         0.927404\n",
    "iou         0.536124\n",
    "dice        0.616985\n",
    "rmse_cov    0.037690\n",
    "Number of patches: 260\n",
    "##############################\n",
    "Year 2017: acc         0.986018\n",
    "iou         0.665145\n",
    "dice        0.724854\n",
    "rmse_cov    0.005976\n",
    "Number of patches: 156\n",
    "##############################\n",
    "Year 2018: acc         0.917723\n",
    "iou         0.419414\n",
    "dice        0.482618\n",
    "rmse_cov    0.056725\n",
    "Number of patches: 136\n",
    "##############################\n",
    "Year 2019: acc         0.937614\n",
    "iou         0.755195\n",
    "dice        0.796272\n",
    "rmse_cov    0.034096\n",
    "Number of patches: 21\n",
    "\n",
    "##############################\n",
    "Total score: acc         0.943727\n",
    "iou         0.539097\n",
    "dice        0.604979\n",
    "rmse_cov    0.030119"
   ]
  },
  {
   "cell_type": "markdown",
   "id": "49cf33e3-f9c4-4dd2-9130-0306248693e9",
   "metadata": {},
   "source": [
    "Model: smp_unet_mitb3_10_03_2023_123331\n",
    "##############################\n",
    "Year 2014: acc         0.982702\n",
    "iou         0.277432\n",
    "dice        0.323387\n",
    "rmse_cov    0.010498\n",
    "Number of patches: 100\n",
    "##############################\n",
    "Year 2015: acc         0.928998\n",
    "iou         0.462886\n",
    "dice        0.529906\n",
    "rmse_cov    0.046579\n",
    "Number of patches: 104\n",
    "##############################\n",
    "Year 2016: acc         0.927752\n",
    "iou         0.430447\n",
    "dice        0.505836\n",
    "rmse_cov    0.050548\n",
    "Number of patches: 260\n",
    "##############################\n",
    "Year 2017: acc         0.987152\n",
    "iou         0.649326\n",
    "dice        0.715453\n",
    "rmse_cov    0.006697\n",
    "Number of patches: 156\n",
    "##############################\n",
    "Year 2018: acc         0.921539\n",
    "iou         0.382032\n",
    "dice        0.445667\n",
    "rmse_cov    0.055282\n",
    "Number of patches: 136\n",
    "##############################\n",
    "Year 2019: acc         0.939004\n",
    "iou         0.615527\n",
    "dice        0.656927\n",
    "rmse_cov    0.036535\n",
    "Number of patches: 21\n",
    "\n",
    "##############################\n",
    "Total score: acc         0.946133\n",
    "iou         0.455569\n",
    "dice        0.521214\n",
    "rmse_cov    0.036508"
   ]
  },
  {
   "cell_type": "markdown",
   "id": "dec3ca9a-92b2-4c00-b1d3-15ec88e9ca0a",
   "metadata": {},
   "source": [
    "# No resampling"
   ]
  },
  {
   "cell_type": "markdown",
   "id": "d1fb26fc-d7a9-4d3f-a2c0-cb90c1b202b1",
   "metadata": {},
   "source": [
    "Model: smp_unet_mitb3_10_03_2023_092502\n",
    "##############################\n",
    "Year 2014: acc         0.986556\n",
    "iou         0.408854\n",
    "dice        0.433550\n",
    "rmse_cov    0.004973\n",
    "Number of patches: 25\n",
    "##############################\n",
    "Year 2015: acc         0.930121\n",
    "iou         0.522447\n",
    "dice        0.583900\n",
    "rmse_cov    0.034044\n",
    "Number of patches: 26\n",
    "##############################\n",
    "Year 2016: acc         0.935868\n",
    "iou         0.511062\n",
    "dice        0.588746\n",
    "rmse_cov    0.039889\n",
    "Number of patches: 65\n",
    "##############################\n",
    "Year 2017: acc         0.985868\n",
    "iou         0.653433\n",
    "dice        0.715385\n",
    "rmse_cov    0.006533\n",
    "Number of patches: 156\n",
    "##############################\n",
    "Year 2018: acc         0.923174\n",
    "iou         0.421878\n",
    "dice        0.486384\n",
    "rmse_cov    0.051600\n",
    "Number of patches: 136\n",
    "##############################\n",
    "Year 2019: acc         0.936807\n",
    "iou         0.755796\n",
    "dice        0.795750\n",
    "rmse_cov    0.035720\n",
    "Number of patches: 21\n",
    "\n",
    "##############################\n",
    "Total score: acc         0.952677\n",
    "iou         0.541274\n",
    "dice        0.603142\n",
    "rmse_cov    0.028879"
   ]
  },
  {
   "cell_type": "code",
   "execution_count": null,
   "id": "55ad619f-601d-47d5-b103-a2115b1a5668",
   "metadata": {},
   "outputs": [],
   "source": []
  },
  {
   "cell_type": "markdown",
   "id": "300b6c73-b2eb-4da2-b2e6-09436c179f27",
   "metadata": {},
   "source": [
    "Model: smp_unet_mitb3_09_03_2023_145642\n",
    "##############################\n",
    "Year 2014: acc         0.986151\n",
    "iou         0.395982\n",
    "dice        0.414917\n",
    "rmse_cov    0.005440\n",
    "Number of patches: 25\n",
    "##############################\n",
    "Year 2015: acc         0.924707\n",
    "iou         0.517244\n",
    "dice        0.577558\n",
    "rmse_cov    0.042104\n",
    "Number of patches: 26\n",
    "##############################\n",
    "Year 2016: acc         0.936548\n",
    "iou         0.522018\n",
    "dice        0.600532\n",
    "rmse_cov    0.038182\n",
    "Number of patches: 65\n",
    "##############################\n",
    "Year 2017: acc         0.985578\n",
    "iou         0.642676\n",
    "dice        0.702409\n",
    "rmse_cov    0.006144\n",
    "Number of patches: 156\n",
    "##############################\n",
    "Year 2018: acc         0.916174\n",
    "iou         0.427652\n",
    "dice        0.491286\n",
    "rmse_cov    0.060276\n",
    "Number of patches: 136\n",
    "##############################\n",
    "Year 2019: acc         0.938939\n",
    "iou         0.811099\n",
    "dice        0.854397\n",
    "rmse_cov    0.036745\n",
    "Number of patches: 21\n",
    "\n",
    "##############################\n",
    "Total score: acc         0.950208\n",
    "iou         0.542495\n",
    "dice        0.603163\n",
    "rmse_cov    0.031795"
   ]
  },
  {
   "cell_type": "markdown",
   "id": "f342be99-2932-4650-99cf-8281a1d093ed",
   "metadata": {},
   "source": []
  },
  {
   "cell_type": "markdown",
   "id": "54292795-55c2-474c-8352-bcdfe2708b94",
   "metadata": {},
   "source": [
    "Model: smp_unet_mitb3_09_03_2023_181807\n",
    "##############################\n",
    "Year 2014: acc         0.986746\n",
    "iou         0.416038\n",
    "dice        0.447068\n",
    "rmse_cov    0.008673\n",
    "Number of patches: 25\n",
    "##############################\n",
    "Year 2015: acc         0.924383\n",
    "iou         0.550466\n",
    "dice        0.630284\n",
    "rmse_cov    0.026353\n",
    "Number of patches: 26\n",
    "##############################\n",
    "Year 2016: acc         0.934157\n",
    "iou         0.512641\n",
    "dice        0.598291\n",
    "rmse_cov    0.038728\n",
    "Number of patches: 65\n",
    "##############################\n",
    "Year 2017: acc         0.985335\n",
    "iou         0.640847\n",
    "dice        0.702217\n",
    "rmse_cov    0.005929\n",
    "Number of patches: 156\n",
    "##############################\n",
    "Year 2018: acc         0.917442\n",
    "iou         0.403432\n",
    "dice        0.466605\n",
    "rmse_cov    0.055967\n",
    "Number of patches: 136\n",
    "##############################\n",
    "Year 2019: acc         0.930586\n",
    "iou         0.744232\n",
    "dice        0.784203\n",
    "rmse_cov    0.043555\n",
    "Number of patches: 21\n",
    "\n",
    "##############################\n",
    "Total score: acc         0.949766\n",
    "iou         0.532640\n",
    "dice        0.596563\n",
    "rmse_cov    0.030001"
   ]
  },
  {
   "cell_type": "markdown",
   "id": "995af000-0b34-4d05-9642-5df238daa3bc",
   "metadata": {},
   "source": []
  },
  {
   "cell_type": "markdown",
   "id": "52b67601-18bc-42f5-9dbc-e28b73c2749a",
   "metadata": {},
   "source": [
    "Model: smp_unet_mitb3_08_03_2023_170715\n",
    "##############################\n",
    "Year 2014: acc     0.987480\n",
    "iou     0.394560\n",
    "dice    0.413759\n",
    "Number of patches: 25\n",
    "##############################\n",
    "Year 2015: acc     0.930509\n",
    "iou     0.525148\n",
    "dice    0.586879\n",
    "Number of patches: 26\n",
    "##############################\n",
    "Year 2016: acc     0.940023\n",
    "iou     0.520603\n",
    "dice    0.597100\n",
    "Number of patches: 65\n",
    "##############################\n",
    "Year 2017: acc     0.988522\n",
    "iou     0.678915\n",
    "dice    0.739486\n",
    "Number of patches: 156\n",
    "##############################\n",
    "Year 2018: acc     0.935604\n",
    "iou     0.442207\n",
    "dice    0.507028\n",
    "Number of patches: 136\n",
    "##############################\n",
    "Year 2019: acc     0.938865\n",
    "iou     0.804471\n",
    "dice    0.844084\n",
    "Number of patches: 21\n",
    "\n",
    "##############################\n",
    "Total score: acc     0.958391\n",
    "iou     0.560144\n",
    "dice    0.621109"
   ]
  },
  {
   "cell_type": "code",
   "execution_count": null,
   "id": "2ac4ae07-9bcf-4a69-8578-a117576cc39a",
   "metadata": {},
   "outputs": [],
   "source": []
  },
  {
   "cell_type": "markdown",
   "id": "a5e8860f-ba21-4779-b1f3-a552b74bbdee",
   "metadata": {},
   "source": [
    "Model: smp_unet_mitb3_08_03_2023_141120\n",
    "##############################\n",
    "Year 2014: acc     0.985440\n",
    "iou     0.453480\n",
    "dice    0.487964\n",
    "Number of patches: 25\n",
    "##############################\n",
    "Year 2015: acc     0.928016\n",
    "iou     0.542908\n",
    "dice    0.615418\n",
    "Number of patches: 26\n",
    "##############################\n",
    "Year 2016: acc     0.938692\n",
    "iou     0.544327\n",
    "dice    0.630902\n",
    "Number of patches: 65\n",
    "##############################\n",
    "Year 2017: acc     0.986604\n",
    "iou     0.662620\n",
    "dice    0.725944\n",
    "Number of patches: 156\n",
    "##############################\n",
    "Year 2018: acc     0.923567\n",
    "iou     0.420720\n",
    "dice    0.484215\n",
    "Number of patches: 136\n",
    "##############################\n",
    "Year 2019: acc     0.939119\n",
    "iou     0.805067\n",
    "dice    0.846973\n",
    "Number of patches: 21\n",
    "\n",
    "##############################\n",
    "Total score: acc     0.953418\n",
    "iou     0.555540\n",
    "dice    0.620269"
   ]
  },
  {
   "cell_type": "code",
   "execution_count": null,
   "id": "f8b3d984-edc3-42b2-8450-3525ec224581",
   "metadata": {},
   "outputs": [],
   "source": []
  },
  {
   "cell_type": "markdown",
   "id": "89879af9-711e-4f14-9cb6-0cafc4cc1e7f",
   "metadata": {},
   "source": [
    "Model: smp_unet_mitb407_03_2023_160548\n",
    "##############################\n",
    "Year 2014: acc     0.986929\n",
    "iou     0.415253\n",
    "dice    0.448494\n",
    "Number of patches: 25\n",
    "##############################\n",
    "Year 2015: acc     0.930984\n",
    "iou     0.550996\n",
    "dice    0.626585\n",
    "Number of patches: 26\n",
    "##############################\n",
    "Year 2016: acc     0.938565\n",
    "iou     0.516481\n",
    "dice    0.597553\n",
    "Number of patches: 65\n",
    "##############################\n",
    "Year 2017: acc     0.988316\n",
    "iou     0.659418\n",
    "dice    0.720895\n",
    "Number of patches: 156\n",
    "##############################\n",
    "Year 2018: acc     0.934447\n",
    "iou     0.417224\n",
    "dice    0.481901\n",
    "Number of patches: 136\n",
    "##############################\n",
    "Year 2019: acc     0.933922\n",
    "iou     0.794816\n",
    "dice    0.832841\n",
    "Number of patches: 21\n",
    "\n",
    "##############################\n",
    "Total score: acc     0.957482\n",
    "iou     0.546810\n",
    "dice    0.610332"
   ]
  },
  {
   "cell_type": "code",
   "execution_count": null,
   "id": "81aaaf44-036d-44f4-8000-363156af3703",
   "metadata": {},
   "outputs": [],
   "source": []
  },
  {
   "cell_type": "markdown",
   "id": "461764d0-54c8-4525-a1c9-fa0b06bf24db",
   "metadata": {},
   "source": [
    "Model: unet_01_12_2022_085945\n",
    "##############################\n",
    "Year 2014: acc         0.986035\n",
    "iou         0.461193\n",
    "dice        0.496503\n",
    "rmse_cov    0.005842\n",
    "Number of patches: 25\n",
    "##############################\n",
    "Year 2015: acc         0.922195\n",
    "iou         0.517196\n",
    "dice        0.594247\n",
    "rmse_cov    0.023179\n",
    "Number of patches: 26\n",
    "##############################\n",
    "Year 2016: acc         0.936397\n",
    "iou         0.531913\n",
    "dice        0.618776\n",
    "rmse_cov    0.035135\n",
    "Number of patches: 65\n",
    "##############################\n",
    "Year 2017: acc         0.986868\n",
    "iou         0.655881\n",
    "dice        0.722339\n",
    "rmse_cov    0.006400\n",
    "Number of patches: 156\n",
    "##############################\n",
    "Year 2018: acc         0.926652\n",
    "iou         0.406892\n",
    "dice        0.470387\n",
    "rmse_cov    0.048523\n",
    "Number of patches: 136\n",
    "##############################\n",
    "Year 2019: acc         0.946504\n",
    "iou         0.677118\n",
    "dice        0.716360\n",
    "rmse_cov    0.022217\n",
    "Number of patches: 21\n",
    "\n",
    "##############################\n",
    "Total score: acc         0.954188\n",
    "iou         0.539454\n",
    "dice        0.605558\n",
    "rmse_cov    0.025866"
   ]
  },
  {
   "cell_type": "markdown",
   "id": "fcb8b226-efe5-475f-a0b1-6a58a90056c2",
   "metadata": {},
   "source": [
    "Model: unet_18_11_2022_103158\n",
    "##############################\n",
    "Year 2014: acc         0.984965\n",
    "iou         0.435279\n",
    "dice        0.483363\n",
    "rmse_cov    0.005641\n",
    "Number of patches: 25\n",
    "##############################\n",
    "Year 2015: acc         0.921050\n",
    "iou         0.513765\n",
    "dice        0.591256\n",
    "rmse_cov    0.023895\n",
    "Number of patches: 26\n",
    "##############################\n",
    "Year 2016: acc         0.935577\n",
    "iou         0.546516\n",
    "dice        0.634321\n",
    "rmse_cov    0.034811\n",
    "Number of patches: 65\n",
    "##############################\n",
    "Year 2017: acc         0.985821\n",
    "iou         0.615769\n",
    "dice        0.678397\n",
    "rmse_cov    0.006992\n",
    "Number of patches: 156\n",
    "##############################\n",
    "Year 2018: acc         0.927065\n",
    "iou         0.398239\n",
    "dice        0.461882\n",
    "rmse_cov    0.048929\n",
    "Number of patches: 136\n",
    "##############################\n",
    "Year 2019: acc         0.940179\n",
    "iou         0.661599\n",
    "dice        0.703075\n",
    "rmse_cov    0.028234\n",
    "Number of patches: 21\n",
    "\n",
    "##############################\n",
    "Total score: acc         0.953372\n",
    "iou         0.521859\n",
    "dice        0.587641\n",
    "rmse_cov    0.026487"
   ]
  },
  {
   "cell_type": "code",
   "execution_count": null,
   "id": "f9cb7dde-d3d0-44cf-a65b-1b53450ab4ff",
   "metadata": {},
   "outputs": [],
   "source": []
  },
  {
   "cell_type": "code",
   "execution_count": 14,
   "id": "9781a444-ec9e-4932-8afe-330d6e9a7ad0",
   "metadata": {
    "scrolled": true,
    "tags": []
   },
   "outputs": [
    {
     "name": "stdout",
     "output_type": "stream",
     "text": [
      "Model: unet_01_12_2022_085945\n",
      "##############################\n",
      "Year 2014: acc     0.986035\n",
      "iou     0.461193\n",
      "dice    0.496503\n",
      "Number of patches: 25\n",
      "##############################\n",
      "Year 2015: acc     0.922195\n",
      "iou     0.517196\n",
      "dice    0.594247\n",
      "Number of patches: 26\n",
      "##############################\n",
      "Year 2016: acc     0.936397\n",
      "iou     0.531913\n",
      "dice    0.618776\n",
      "Number of patches: 65\n",
      "##############################\n",
      "Year 2018: acc     0.926652\n",
      "iou     0.406892\n",
      "dice    0.470387\n",
      "Number of patches: 136\n",
      "##############################\n",
      "Year 2019: acc     0.946504\n",
      "iou     0.677118\n",
      "dice    0.716360\n",
      "Number of patches: 21\n",
      "\n",
      "##############################\n",
      "Total score: acc     0.935513\n",
      "iou     0.472923\n",
      "dice    0.538827\n"
     ]
    }
   ],
   "source": [
    "dataset.evaluate(y_pred,model_name,save_dir=save_dir_output,\n",
    "                 save_images=save_images,filter_true_empty=filter_true_empty);#,tmpdir=\"/tmp/test\")"
   ]
  },
  {
   "cell_type": "code",
   "execution_count": 14,
   "id": "8174a682-893e-4ac7-9a38-0fc07ad86a5e",
   "metadata": {
    "scrolled": true,
    "tags": []
   },
   "outputs": [
    {
     "name": "stdout",
     "output_type": "stream",
     "text": [
      "Model: unet_15_12_2022_111006\n",
      "##############################\n",
      "Year 2014: acc     0.987191\n",
      "iou     0.436878\n",
      "dice    0.460739\n",
      "Number of patches: 25\n",
      "##############################\n",
      "Year 2015: acc     0.928354\n",
      "iou     0.503438\n",
      "dice    0.564688\n",
      "Number of patches: 26\n",
      "##############################\n",
      "Year 2016: acc     0.936648\n",
      "iou     0.542543\n",
      "dice    0.621550\n",
      "Number of patches: 65\n",
      "##############################\n",
      "Year 2018: acc     0.932991\n",
      "iou     0.390925\n",
      "dice    0.455245\n",
      "Number of patches: 136\n",
      "##############################\n",
      "Year 2019: acc     0.935765\n",
      "iou     0.706037\n",
      "dice    0.743146\n",
      "Number of patches: 21\n",
      "\n",
      "##############################\n",
      "Total score: acc     0.938597\n",
      "iou     0.466188\n",
      "dice    0.527914\n"
     ]
    }
   ],
   "source": [
    "dataset.evaluate(y_pred,model_name,save_dir=save_dir_output,\n",
    "                 save_images=save_images,filter_true_empty=filter_true_empty);#,tmpdir=\"/tmp/test\")"
   ]
  }
 ],
 "metadata": {
  "kernelspec": {
   "display_name": "Python 3 (ipykernel)",
   "language": "python",
   "name": "python3"
  },
  "language_info": {
   "codemirror_mode": {
    "name": "ipython",
    "version": 3
   },
   "file_extension": ".py",
   "mimetype": "text/x-python",
   "name": "python",
   "nbconvert_exporter": "python",
   "pygments_lexer": "ipython3",
   "version": "3.8.10"
  }
 },
 "nbformat": 4,
 "nbformat_minor": 5
}
