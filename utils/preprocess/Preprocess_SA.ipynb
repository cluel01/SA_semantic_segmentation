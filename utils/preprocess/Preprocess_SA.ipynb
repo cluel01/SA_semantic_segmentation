{
 "cells": [
  {
   "cell_type": "code",
   "execution_count": 1,
   "id": "a37e0685-d739-479c-9ce1-38d04f45b54b",
   "metadata": {},
   "outputs": [],
   "source": [
    "import rasterio \n",
    "from rasterio.mask import raster_geometry_mask,mask\n",
    "import geopandas as gpd\n",
    "import os\n",
    "import numpy as np\n",
    "import pandas as pd\n",
    "from pathlib import Path\n",
    "import json"
   ]
  },
  {
   "cell_type": "code",
   "execution_count": 2,
   "id": "0d4d2616-1649-4115-ac76-8b1177d142ea",
   "metadata": {},
   "outputs": [],
   "source": [
    "year = \"2017\"\n",
    "phase = \"test\"\n",
    "\n",
    "data_dir = \"/home/jovyan/work/satellite_data/ku_sync/South_Africa/all\"\n",
    "cutlines = \"/home/jovyan/work/satellite_data/ku_sync/South_Africa/cutlines/\"+ year+\".geojson\"\n",
    "tmp_path = \"/home/jovyan/work/satellite_data/tmp\"\n",
    "cut_df = gpd.read_file(cutlines,driver='GeoJSON')\n",
    "\n",
    "max_raster_size = 2000*2000"
   ]
  },
  {
   "cell_type": "code",
   "execution_count": 3,
   "id": "476b1751-ca1d-470c-beb9-620a3da5f597",
   "metadata": {},
   "outputs": [],
   "source": [
    "path = year + \"/\" + phase\n",
    "Path(\"out\",path,\"raster\").mkdir(parents=True, exist_ok=True)"
   ]
  },
  {
   "cell_type": "markdown",
   "id": "0d68e756-3693-482d-aad7-0215d9fb7c9b",
   "metadata": {},
   "source": [
    "# Cut out raster from areas"
   ]
  },
  {
   "cell_type": "code",
   "execution_count": 4,
   "id": "93df02ea-7dd2-48a6-9393-8ab4ac28d6e8",
   "metadata": {},
   "outputs": [],
   "source": [
    "p = os.path.join(\"area_shapes\",path)\n",
    "area_shapes = sorted([os.path.join(os.getcwd(),p,i) for i in os.listdir(p) if i.endswith(\".geojson\")])"
   ]
  },
  {
   "cell_type": "code",
   "execution_count": 5,
   "id": "055cc309-ce79-4d4e-8675-661051dc5b9a",
   "metadata": {},
   "outputs": [],
   "source": [
    "# gdf = gpd.GeoDataFrame(pd.concat([gpd.read_file(i) for i in area_shapes], \n",
    "#                         ignore_index=True), crs=gpd.read_file(area_shapes[0]).crs)\n",
    "\n",
    "DF = pd.DataFrame({'geometry' : [],\"file\":[]})\n",
    "for i in area_shapes:\n",
    "    df = gpd.read_file(i)\n",
    "    df[\"file\"] = i\n",
    "    DF = pd.concat([DF,df], \n",
    "                        ignore_index=True)\n",
    "gdf = gpd.GeoDataFrame(DF, crs=gpd.read_file(area_shapes[0]).crs)\n",
    "\n",
    "gdf = gdf.drop_duplicates(\"geometry\").reset_index(drop=True)\n",
    "if \"FID\" in gdf:\n",
    "    gdf = gdf.drop('FID', axis=1)"
   ]
  },
  {
   "cell_type": "code",
   "execution_count": 6,
   "id": "8c67cd5c-b30c-48dd-be42-cde94437468a",
   "metadata": {},
   "outputs": [],
   "source": [
    "from shapely.geometry import Polygon\n",
    "\n",
    "def split_raster(poly,raster,ncols=2,nrows=2):\n",
    "    xmin, ymin, xmax, ymax = poly.bounds\n",
    "\n",
    "    width = xmax-xmin\n",
    "    height = ymax-ymin\n",
    "\n",
    "    wide = width / ncols\n",
    "    length = height / nrows\n",
    "\n",
    "    x = xmin\n",
    "    y = ymin\n",
    "    polygons = []\n",
    "    for r in range(nrows):\n",
    "        if r== nrows-1:\n",
    "            ystep = length#+(height % nrows)\n",
    "        else:\n",
    "            ystep = length\n",
    "\n",
    "        for c in range(ncols):        \n",
    "            if (c % ncols) == 0:\n",
    "                x = xmin\n",
    "            if c == ncols-1:\n",
    "                xstep = wide#+(width % ncols)\n",
    "            else:\n",
    "                xstep = wide\n",
    "            polygons.append(Polygon([(x,y), (x+xstep, y), (x+xstep, y+ystep), (x, y+ystep)]))\n",
    "            x += xstep\n",
    "        y += ystep\n",
    "\n",
    "\n",
    "    grid = gpd.GeoDataFrame({'geometry':polygons})\n",
    "    grid.crs = src.crs\n",
    "\n",
    "    out = []\n",
    "    for i in range(len(grid)):\n",
    "        bounds = grid.iloc[i][\"geometry\"]\n",
    "        out_image, out_transform = mask(raster, [bounds], crop=True)\n",
    "        out_meta = src.meta\n",
    "        out_meta.update({\"driver\": \"GTiff\",\n",
    "                 \"height\": out_image.shape[1],\n",
    "                 \"width\": out_image.shape[2],\n",
    "                 \"transform\": out_transform,\n",
    "                 'crs':'EPSG:4326'})\n",
    "        out.append([out_image,out_meta])\n",
    "    return out"
   ]
  },
  {
   "cell_type": "code",
   "execution_count": null,
   "id": "05f07944-daa8-4737-8595-a5b075101669",
   "metadata": {
    "scrolled": true,
    "tags": []
   },
   "outputs": [
    {
     "name": "stdout",
     "output_type": "stream",
     "text": [
      "0\n",
      "/home/jovyan/work/notebooks/satellite_data/utils/preprocess/area_shapes/2017/test/2017.geojson\n",
      "[44]\n",
      "#############\n",
      "1\n",
      "/home/jovyan/work/notebooks/satellite_data/utils/preprocess/area_shapes/2017/test/2017.geojson\n",
      "[337]\n"
     ]
    }
   ],
   "source": [
    "mapping = {}\n",
    "for i,s in gdf.iterrows():\n",
    "\n",
    "        \n",
    "    file = os.path.basename(s[\"file\"]).split(\".\")[0]\n",
    "    poly = s[\"geometry\"]\n",
    "    idxs = np.where((cut_df[\"geometry\"].covers(poly)) )[0] \n",
    "    \n",
    "    print(i)\n",
    "    print(s[\"file\"])\n",
    "    print(idxs)\n",
    "    if len(idxs) > 1:\n",
    "        idx = idxs[0]\n",
    "    elif len(idxs) == 0:\n",
    "        print(\"No intersection for \",i)\n",
    "        continue\n",
    "    else:\n",
    "        idx = int(idxs)\n",
    "    \n",
    "    p_name = cut_df.iloc[idx][\"id\"]\n",
    "    p_area = p_name[:2]\n",
    "    p_path = os.path.join(data_dir,p_name+\"_\"+year+\".tif\")\n",
    "    if not os.path.isfile(p_path):\n",
    "        p_path = os.path.join(data_dir,p_name+\"_\"+year+\".jp2\")\n",
    "        \n",
    "        if not os.path.isfile(p_path):\n",
    "            p_path = os.path.join(data_dir,p_name+\"_\"+year+\".jp2.tif\")\n",
    "    \n",
    "    # if not os.path.isfile(p_path):\n",
    "    #     print(p_path)\n",
    "    #     p_path = os.path.join(tmp_path,p_area,year+\"_cog.tif\")\n",
    "    \n",
    "    #Workaround for se labels:\n",
    "    if \"se\" in s[\"file\"]:\n",
    "        print(\"SE\")\n",
    "        p_path = os.path.join(tmp_path,p_area,year+\"_cog.tif\")\n",
    "    \n",
    "    with rasterio.open(p_path) as src:\n",
    "        arr,transform = mask(src, [poly], crop=True)\n",
    "        arr.transpose((1,2,0))\n",
    "        \n",
    "        if ((np.sum(arr == 0) + np.sum(arr == 255)) > np.prod(arr.shape) * 0.1) and (len(idxs) > 1):\n",
    "            idx = idxs[1]\n",
    "            p_name = cut_df.iloc[idx][\"id\"]\n",
    "            p_area = p_name[:2]\n",
    "            p_path = os.path.join(data_dir,p_name+\"_\"+year+\".tif\")\n",
    "            \n",
    "            with rasterio.open(p_path) as src:\n",
    "                arr,transform = mask(src, [poly], crop=True)\n",
    "                arr.transpose((1,2,0))\n",
    "    \n",
    "        \n",
    "        if np.prod(arr.shape) > max_raster_size:\n",
    "            arr_list = split_raster(poly,src)\n",
    "            \n",
    "            for n,data in enumerate(arr_list):\n",
    "                new_file = os.path.join(\"out\",path,\"raster\",file+\"_\"+str(i)+\"_\"+str(n)+\".tif\")\n",
    "                out_img,out_meta = data\n",
    "                with rasterio.open(new_file,mode='w',**out_meta) as dst:\n",
    "                    dst.write(out_img)\n",
    "        else:\n",
    "            new_file = os.path.join(\"out\",path,\"raster\",file+\"_\"+str(i)+\".tif\")\n",
    "            out_meta = src.meta\n",
    "            out_meta.update({'width':arr.shape[2],\n",
    "                     'height':arr.shape[1],\n",
    "                     'transform':transform,\n",
    "                    'crs':'EPSG:4326',\n",
    "                     \"driver\": \"GTiff\" })\n",
    "            with rasterio.open(new_file,mode='w',**out_meta) as dst:\n",
    "                dst.write(arr)\n",
    "            \n",
    "        mapping[os.path.basename(s[\"file\"])] = os.path.basename(new_file)\n",
    "        \n",
    "    print(\"#############\")\n",
    "with open(os.path.join(\"out\",path,'mapping.json'), 'w') as fp:\n",
    "    json.dump(mapping, fp)"
   ]
  },
  {
   "cell_type": "markdown",
   "id": "f39bc242-05e1-485e-bc73-7611aee242e4",
   "metadata": {},
   "source": [
    "# Merge different label files"
   ]
  },
  {
   "cell_type": "code",
   "execution_count": null,
   "id": "66052015-7357-45cf-bd70-62be6affafa9",
   "metadata": {},
   "outputs": [],
   "source": [
    "p = os.path.join(\"labels\",path)\n",
    "label_files = sorted([os.path.join(os.getcwd(),p,i) for i in os.listdir(p) if i.endswith(\".geojson\")])"
   ]
  },
  {
   "cell_type": "code",
   "execution_count": null,
   "id": "7b51a745-b8eb-4e93-a7b4-da2ee3ce9ee5",
   "metadata": {},
   "outputs": [],
   "source": [
    "gdf_labels = gpd.GeoDataFrame(pd.concat([gpd.read_file(i) for i in label_files], \n",
    "                        ignore_index=True), crs=gpd.read_file(area_shapes[0]).crs)\n",
    "gdf_labels.to_file(os.path.join(\"out\",path,\"labels.geojson\"))"
   ]
  },
  {
   "cell_type": "code",
   "execution_count": null,
   "id": "78beb0ff-537c-48df-957f-f2bf027c8140",
   "metadata": {},
   "outputs": [],
   "source": []
  },
  {
   "cell_type": "markdown",
   "id": "28c0a25e-0075-46c5-93da-3985d33886df",
   "metadata": {},
   "source": [
    "# Old"
   ]
  },
  {
   "cell_type": "code",
   "execution_count": null,
   "id": "abc004fd-db65-4f78-bd64-e45724cb7443",
   "metadata": {},
   "outputs": [],
   "source": [
    "stop\n"
   ]
  },
  {
   "cell_type": "code",
   "execution_count": null,
   "id": "24f5c323-b334-453b-9016-0b27f2937255",
   "metadata": {},
   "outputs": [],
   "source": [
    "#from https://stackoverflow.com/questions/5953373/how-to-split-image-into-multiple-pieces-in-python\n",
    "def split_array(im):\n",
    "    M = int(np.ceil(im.shape[1]/2))\n",
    "    N = int(np.ceil(im.shape[2]/2))\n",
    "    \n",
    "    tiles = [im[:,x:x+M,y:y+N] for x in range(0,im.shape[1],M) for y in range(0,im.shape[2],N)]\n",
    "    \n",
    "    return tiles"
   ]
  }
 ],
 "metadata": {
  "kernelspec": {
   "display_name": "Python 3 (ipykernel)",
   "language": "python",
   "name": "python3"
  },
  "language_info": {
   "codemirror_mode": {
    "name": "ipython",
    "version": 3
   },
   "file_extension": ".py",
   "mimetype": "text/x-python",
   "name": "python",
   "nbconvert_exporter": "python",
   "pygments_lexer": "ipython3",
   "version": "3.8.10"
  }
 },
 "nbformat": 4,
 "nbformat_minor": 5
}
