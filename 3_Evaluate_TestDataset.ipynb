{
 "cells": [
  {
   "cell_type": "code",
   "execution_count": 2,
   "id": "3282a2bd-6430-45a8-98c7-bf8982339c56",
   "metadata": {},
   "outputs": [
    {
     "name": "stderr",
     "output_type": "stream",
     "text": [
      "100%|██████████| 9/9 [00:00<00:00, 40.66it/s]"
     ]
    },
    {
     "name": "stdout",
     "output_type": "stream",
     "text": [
      "Segmented trees:  221\n"
     ]
    },
    {
     "name": "stderr",
     "output_type": "stream",
     "text": [
      "\n"
     ]
    }
   ],
   "source": [
    "from pytorch_segmentation.tree_segmentation import segment_trees\n",
    "\n",
    "df = segment_trees(\"/home/jovyan/work/notebooks/satellite_data/data/out/unet_19_07_2022_115722_new/2018_1.tif\",\"test_watershed.geojson\",\n",
    "                   footprint=(3,3),min_distance=10,min_size=100)"
   ]
  },
  {
   "cell_type": "code",
   "execution_count": null,
   "id": "9c672f4b-54a0-484f-9f68-2b5dcaaf04b8",
   "metadata": {},
   "outputs": [
    {
     "name": "stderr",
     "output_type": "stream",
     "text": [
      " 16%|█▌        | 28820/180829 [00:24<02:05, 1213.00it/s]"
     ]
    }
   ],
   "source": [
    "from pytorch_segmentation.tree_segmentation import segment_trees\n",
    "\n",
    "df = segment_trees(\"/home/jovyan/work/notebooks/satellite_data/data/out/unet_16_06_2022_190207/mask_22_06_2022_074324.tif\",\"test_watershed.geojson\",\n",
    "                   footprint=(3,3),min_distance=10,min_size=100,n_cpus=40)"
   ]
  },
  {
   "cell_type": "code",
   "execution_count": null,
   "id": "fe806131-660c-4793-b7cf-375cf2caf3d1",
   "metadata": {},
   "outputs": [
    {
     "name": "stderr",
     "output_type": "stream",
     "text": [
      "  2%|▏         | 79/4688 [00:12<08:08,  9.44it/s]"
     ]
    }
   ],
   "source": [
    "from pytorch_segmentation.tree_segmentation import segment_trees\n",
    "\n",
    "df = segment_trees(\"/home/jovyan/work/satellite_data/tmp/inference/unet_18_07_2022_150108_new.pth/2018_1.tif\",\"test_watershed.geojson\",\n",
    "                   footprint=(3,3),min_distance=10,min_size=100,n_cpus=10,cachesize=10000)"
   ]
  },
  {
   "cell_type": "code",
   "execution_count": 2,
   "id": "fe54e605-9597-4b43-9aa9-5fc9e7a3c450",
   "metadata": {},
   "outputs": [],
   "source": [
    "import rasterio\n",
    "from rasterio.plot import show\n",
    "from rasterio.mask import mask\n",
    "from rasterio.windows import from_bounds\n",
    "import numpy as np\n",
    "import matplotlib\n",
    "import matplotlib.pyplot as plt\n",
    "import os\n",
    "import numpy as np\n",
    "from patchify import patchify\n",
    "import torch\n",
    "from torch.functional import F\n",
    "from torch import nn\n",
    "from torch.nn import DataParallel\n",
    "from torch.utils.data import DataLoader\n",
    "from shapely.geometry import box\n",
    "from torchvision import transforms\n",
    "import time\n",
    "import random\n",
    "\n",
    "from pytorch_segmentation.data.test_dataset import TestSatDataset\n",
    "from pytorch_segmentation.models import UNet\n",
    "import pytorch_segmentation.augmentation.transforms as seg_transforms\n",
    "\n",
    "seed = 42\n",
    "torch.manual_seed(seed)\n",
    "random.seed(seed)\n",
    "np.random.seed(seed)"
   ]
  },
  {
   "cell_type": "code",
   "execution_count": 2,
   "id": "90579e0a-fcdf-444b-ace1-cb21f74bc753",
   "metadata": {},
   "outputs": [],
   "source": [
    "model_name = \"unet_29_07_2022_120212\" #\"unet_18_07_2022_150108\"#\"unet_19_07_2022_115722\" #\"unet_18_07_2022_150108\"#\"unet_05_05_2022_113034\" #\"unet_11_07_2022_070457\"#\"unet_13_07_2022_171256\" \n",
    "data_parallel = True\n",
    "\n",
    "save_dir = \"saved_models\"\n",
    "\n",
    "\n",
    "data_file_path =\"/home/jovyan/work/satellite_data/tmp/\"\n",
    "shape_path=\"/home/jovyan/work/notebooks/satellite_data/utils/shapes\"\n",
    "mask_path=\"/home/jovyan/work/notebooks/satellite_data/data/test_dataset\"\n",
    "\n",
    "test_patch_size = [256,256,3]\n",
    "overlap_test = 128\n",
    "\n",
    "batch_size = 200\n",
    "nworkers = 10\n",
    "pin_memory = True\n",
    "\n",
    "padding = False#True\n",
    "\n",
    "#resampling = {2008:8,2009:8,2010:6,2011:6,2012:6,2013:6,2014:4,2015:4,2016:4,2017:2,2018:2}\n",
    "resampling = {2008:8,2009:8,2010:6,2011:6,2012:6,2013:6,2014:6,2015:6,2016:6,2017:2,2018:2}\n",
    "#resampling = {2008:4,2009:4,2010:4,2011:4,2012:4,2013:4,2014:4,2015:4,2016:4,2017:1,2018:1}"
   ]
  },
  {
   "cell_type": "code",
   "execution_count": 3,
   "id": "3f5b9408-bbd0-4efc-9ff6-342cc04dfa67",
   "metadata": {},
   "outputs": [],
   "source": [
    "device = torch.device('cuda:0' if torch.cuda.is_available() else 'cpu')\n",
    "#device = torch.device('cpu')\n",
    "if str(device) == \"cpu\":\n",
    "    pin_memory = False\n",
    "\n",
    "test_transform = None\n",
    "\n",
    "test_transform = seg_transforms.Compose([\n",
    "    #seg_transforms.UnmaskEdges([225,225]),\n",
    "     #seg_transforms.CLAHE_Norm(),\n",
    "    #seg_transforms.Add_VDVI()\n",
    "    ])"
   ]
  },
  {
   "cell_type": "markdown",
   "id": "8b1ed039-1908-4655-a3b9-cf729abd4f5e",
   "metadata": {},
   "source": [
    "# 1.1 Data Collection"
   ]
  },
  {
   "cell_type": "code",
   "execution_count": 4,
   "id": "cbacea8c-24a4-4aae-95ba-2368433d71d2",
   "metadata": {},
   "outputs": [],
   "source": [
    "# dataset = TestSatDataset(data_file_path =data_file_path,shape_path=shape_path,mask_path=mask_path,patch_size=test_patch_size,overlap=overlap_test,transform=test_transform,\n",
    "#                          resampling={2008:True,2009:True,2010:True,2011:True,2012:True,2013:True,2014:True},resampling_factor=8 )"
   ]
  },
  {
   "cell_type": "code",
   "execution_count": 4,
   "id": "4e0a5579-5906-4b7c-9e71-f3839f42bddb",
   "metadata": {},
   "outputs": [
    {
     "name": "stdout",
     "output_type": "stream",
     "text": [
      "Skipped shape due to nodata!\n",
      "Skipped shape due to nodata!\n",
      "Skipped shape due to nodata!\n",
      "Size:  32122\n"
     ]
    }
   ],
   "source": [
    "dataset = TestSatDataset(data_file_path =data_file_path,shape_path=shape_path,mask_path=mask_path,patch_size=test_patch_size,overlap=overlap_test,transform=test_transform,\n",
    "                         resampling_factor=resampling )"
   ]
  },
  {
   "cell_type": "code",
   "execution_count": 5,
   "id": "31fdca36-ca16-40a0-a5a0-c6ccce74fe41",
   "metadata": {},
   "outputs": [],
   "source": [
    "test_dl = DataLoader(dataset,batch_size=batch_size,num_workers=nworkers,\n",
    "                     shuffle=False,pin_memory=pin_memory,drop_last=False)"
   ]
  },
  {
   "cell_type": "code",
   "execution_count": 7,
   "id": "82ba91fe-eefa-4ab5-aac4-4b93f99d5d52",
   "metadata": {},
   "outputs": [
    {
     "data": {
      "image/png": "[encoded data removed]",
      "text/plain": [
       "<Figure size 432x288 with 2 Axes>"
      ]
     },
     "metadata": {
      "needs_background": "light"
     },
     "output_type": "display_data"
    }
   ],
   "source": [
    "dataset.show_tuple(100)"
   ]
  },
  {
   "cell_type": "markdown",
   "id": "04946360-de70-48df-ab48-0afc50345eec",
   "metadata": {},
   "source": [
    "# 2 Model"
   ]
  },
  {
   "cell_type": "code",
   "execution_count": 6,
   "id": "9ce8f69f-e0ca-4b48-9e63-b3eb97edf285",
   "metadata": {},
   "outputs": [],
   "source": [
    "model_path = save_dir + \"/\" + model_name +  \".pth\"\n",
    "state_dict = torch.load(model_path,map_location=\"cpu\")"
   ]
  },
  {
   "cell_type": "code",
   "execution_count": 7,
   "id": "21f0114c-184d-4185-b923-94030342f9a1",
   "metadata": {},
   "outputs": [],
   "source": [
    "\n",
    "\n",
    "if data_parallel:\n",
    "    # create new OrderedDict that does not contain `module.`\n",
    "    from collections import OrderedDict\n",
    "    new_state_dict = OrderedDict()\n",
    "    for k, v in state_dict.items():\n",
    "        name = k[7:] # remove `module.`\n",
    "        new_state_dict[name] = v\n",
    "    model_path = save_dir + \"/\" + model_name +  \"_new.pth\"\n",
    "    torch.save(new_state_dict,model_path)\n",
    "    "
   ]
  },
  {
   "cell_type": "markdown",
   "id": "abcf870c-8387-4e3f-b1e5-560250e92a88",
   "metadata": {},
   "source": [
    "## 2.1 Advanced Unet"
   ]
  },
  {
   "cell_type": "code",
   "execution_count": 8,
   "id": "cbfbbeb1-264c-455d-99f4-a315b27655f5",
   "metadata": {},
   "outputs": [],
   "source": [
    "# Change here to adapt to your data\n",
    "# n_channels=3 for RGB images \n",
    "# n_classes is the number of probabilities you want to get per pixel\n",
    "\n",
    "net = UNet(n_channels=3, n_classes=2, bilinear=False)\n",
    "#net= DataParallel(net)\n",
    "\n",
    "if data_parallel:\n",
    "    net.load_state_dict(new_state_dict)\n",
    "else:\n",
    "    net.load_state_dict(state_dict)\n",
    "#net.load_state_dict(torch.load(model_path,map_location=\"cpu\"))\n",
    "\n",
    "\n",
    "net= DataParallel(net,device_ids=[0,1])\n",
    "net = net.to(device=device)\n",
    "\n"
   ]
  },
  {
   "cell_type": "markdown",
   "id": "ed024eaa-85f1-4dff-a6c4-552f1e0cfe98",
   "metadata": {},
   "source": [
    "## 3 Validation"
   ]
  },
  {
   "cell_type": "code",
   "execution_count": 9,
   "id": "ef163d4a-e02c-4130-b86d-ef09b43f7e28",
   "metadata": {},
   "outputs": [],
   "source": [
    "net.eval()\n",
    "y_pred = torch.empty((len(dataset),256,256),dtype=torch.float32)\n",
    "start_idx = 0\n",
    "\n",
    "with torch.no_grad(): \n",
    "    for i,batch in enumerate(test_dl):\n",
    "        x = batch[\"x\"].to(device)\n",
    "        out = net(x)#[\"out\"]\n",
    "        out = torch.argmax(out,dim=1)\n",
    "        out = out.cpu()\n",
    "        end_idx = start_idx + len(out)\n",
    "        y_pred[start_idx:end_idx] = out\n",
    "        start_idx += len(out)"
   ]
  },
  {
   "cell_type": "code",
   "execution_count": 10,
   "id": "5c36d33b-7ec7-4c4d-945f-3946f605ef1e",
   "metadata": {},
   "outputs": [
    {
     "name": "stdout",
     "output_type": "stream",
     "text": [
      "unet_29_07_2022_120212\n",
      "{2008: 8, 2009: 8, 2010: 6, 2011: 6, 2012: 6, 2013: 6, 2014: 6, 2015: 6, 2016: 6, 2017: 2, 2018: 2}\n",
      "Year 2008:          acc       iou      dice\n",
      "0  0.952793  0.286308  0.379634\n",
      "Year 2009:         acc       iou      dice\n",
      "0  0.94662  0.479613  0.487908\n",
      "Year 2010:          acc       iou      dice\n",
      "0  0.900956  0.270961  0.300758\n",
      "Year 2011:          acc       iou      dice\n",
      "0  0.993583  0.830854  0.832667\n",
      "Year 2012:          acc       iou      dice\n",
      "0  0.978556  0.842831  0.845861\n",
      "Year 2013:          acc       iou     dice\n",
      "0  0.837919  0.375882  0.41439\n",
      "Year 2014:          acc       iou      dice\n",
      "0  0.975222  0.719154  0.723436\n",
      "Year 2015:         acc       iou      dice\n",
      "0  0.89524  0.469674  0.512272\n",
      "Year 2016:          acc      iou    dice\n",
      "0  0.941633  0.53803  0.5684\n",
      "Year 2017:          acc       iou      dice\n",
      "0  0.998286  0.896129  0.897205\n",
      "Year 2018:          acc       iou      dice\n",
      "0  0.935285  0.633328  0.672044\n",
      "Total score:          acc       iou     dice\n",
      "0  0.937661  0.602222  0.62417\n"
     ]
    },
    {
     "data": {
      "text/html": [
       "<div>\n",
       "<style scoped>\n",
       "    .dataframe tbody tr th:only-of-type {\n",
       "        vertical-align: middle;\n",
       "    }\n",
       "\n",
       "    .dataframe tbody tr th {\n",
       "        vertical-align: top;\n",
       "    }\n",
       "\n",
       "    .dataframe thead th {\n",
       "        text-align: right;\n",
       "    }\n",
       "</style>\n",
       "<table border=\"1\" class=\"dataframe\">\n",
       "  <thead>\n",
       "    <tr style=\"text-align: right;\">\n",
       "      <th></th>\n",
       "      <th>acc</th>\n",
       "      <th>iou</th>\n",
       "      <th>dice</th>\n",
       "    </tr>\n",
       "  </thead>\n",
       "  <tbody>\n",
       "    <tr>\n",
       "      <th>0</th>\n",
       "      <td>0.937661</td>\n",
       "      <td>0.602222</td>\n",
       "      <td>0.62417</td>\n",
       "    </tr>\n",
       "  </tbody>\n",
       "</table>\n",
       "</div>"
      ],
      "text/plain": [
       "        acc       iou     dice\n",
       "0  0.937661  0.602222  0.62417"
      ]
     },
     "execution_count": 10,
     "metadata": {},
     "output_type": "execute_result"
    }
   ],
   "source": [
    "print(model_name)\n",
    "print(resampling)\n",
    "dataset.evaluate(y_pred)"
   ]
  },
  {
   "cell_type": "markdown",
   "id": "6df6d71e-336a-4336-b5b9-46bcb5ab6525",
   "metadata": {},
   "source": [
    "# Results"
   ]
  },
  {
   "cell_type": "code",
   "execution_count": 13,
   "id": "f4a01a92-34f2-425b-ae52-5b288a018610",
   "metadata": {},
   "outputs": [
    {
     "name": "stdout",
     "output_type": "stream",
     "text": [
      "unet_19_07_2022_115722\n",
      "{2008: 8, 2009: 8, 2010: 6, 2011: 6, 2012: 6, 2013: 6, 2014: 4, 2015: 4, 2016: 4, 2017: 2, 2018: 2}\n",
      "Year 2008:          acc       iou      dice\n",
      "0  0.956459  0.202087  0.214328\n",
      "Year 2009:          acc       iou      dice\n",
      "0  0.949152  0.509945  0.513385\n",
      "Year 2010:          acc       iou      dice\n",
      "0  0.942054  0.425193  0.445568\n",
      "Year 2011:          acc       iou      dice\n",
      "0  0.995606  0.856916  0.858888\n",
      "Year 2012:         acc       iou      dice\n",
      "0  0.99345  0.881949  0.881953\n",
      "Year 2013:          acc       iou      dice\n",
      "0  0.854746  0.395566  0.409318\n",
      "Year 2014:          acc       iou      dice\n",
      "0  0.991669  0.716439  0.720714\n",
      "Year 2015:          acc       iou      dice\n",
      "0  0.902217  0.385618  0.427653\n",
      "Year 2016:          acc       iou      dice\n",
      "0  0.946296  0.471404  0.514228\n",
      "Year 2017:          acc       iou      dice\n",
      "0  0.998246  0.891423  0.891957\n",
      "Year 2018:          acc       iou      dice\n",
      "0  0.936259  0.625794  0.659467\n",
      "Total score:          acc       iou      dice\n",
      "0  0.946855  0.608075  0.624397\n"
     ]
    },
    {
     "data": {
      "text/html": [
       "<div>\n",
       "<style scoped>\n",
       "    .dataframe tbody tr th:only-of-type {\n",
       "        vertical-align: middle;\n",
       "    }\n",
       "\n",
       "    .dataframe tbody tr th {\n",
       "        vertical-align: top;\n",
       "    }\n",
       "\n",
       "    .dataframe thead th {\n",
       "        text-align: right;\n",
       "    }\n",
       "</style>\n",
       "<table border=\"1\" class=\"dataframe\">\n",
       "  <thead>\n",
       "    <tr style=\"text-align: right;\">\n",
       "      <th></th>\n",
       "      <th>acc</th>\n",
       "      <th>iou</th>\n",
       "      <th>dice</th>\n",
       "    </tr>\n",
       "  </thead>\n",
       "  <tbody>\n",
       "    <tr>\n",
       "      <th>0</th>\n",
       "      <td>0.946855</td>\n",
       "      <td>0.608075</td>\n",
       "      <td>0.624397</td>\n",
       "    </tr>\n",
       "  </tbody>\n",
       "</table>\n",
       "</div>"
      ],
      "text/plain": [
       "        acc       iou      dice\n",
       "0  0.946855  0.608075  0.624397"
      ]
     },
     "execution_count": 13,
     "metadata": {},
     "output_type": "execute_result"
    }
   ],
   "source": [
    "print(model_name)\n",
    "print(resampling)\n",
    "dataset.evaluate(y_pred)"
   ]
  },
  {
   "cell_type": "code",
   "execution_count": 12,
   "id": "cbc9ca3b-7aee-4205-8fff-8068e6a7752f",
   "metadata": {},
   "outputs": [
    {
     "name": "stdout",
     "output_type": "stream",
     "text": [
      "unet_18_07_2022_150108\n",
      "{2008: 8, 2009: 8, 2010: 6, 2011: 6, 2012: 6, 2013: 6, 2014: 4, 2015: 4, 2016: 4, 2017: 2, 2018: 2}\n",
      "Year 2008:          acc       iou      dice\n",
      "0  0.957331  0.290573  0.381937\n",
      "Year 2009:          acc       iou      dice\n",
      "0  0.947572  0.477102  0.489153\n",
      "Year 2010:          acc       iou      dice\n",
      "0  0.917334  0.288467  0.332361\n",
      "Year 2011:         acc       iou      dice\n",
      "0  0.99345  0.803195  0.810178\n",
      "Year 2012:          acc       iou      dice\n",
      "0  0.993028  0.892245  0.892693\n",
      "Year 2013:          acc       iou      dice\n",
      "0  0.848691  0.377379  0.414514\n",
      "Year 2014:          acc       iou      dice\n",
      "0  0.960033  0.658945  0.668113\n",
      "Year 2015:          acc       iou      dice\n",
      "0  0.905328  0.416016  0.486234\n",
      "Year 2016:          acc       iou      dice\n",
      "0  0.941419  0.468549  0.525598\n",
      "Year 2017:          acc       iou      dice\n",
      "0  0.998256  0.889735  0.893397\n",
      "Year 2018:          acc      iou      dice\n",
      "0  0.934697  0.61759  0.655713\n",
      "Total score:         acc       iou      dice\n",
      "0  0.94083  0.584479  0.613663\n"
     ]
    },
    {
     "data": {
      "text/html": [
       "<div>\n",
       "<style scoped>\n",
       "    .dataframe tbody tr th:only-of-type {\n",
       "        vertical-align: middle;\n",
       "    }\n",
       "\n",
       "    .dataframe tbody tr th {\n",
       "        vertical-align: top;\n",
       "    }\n",
       "\n",
       "    .dataframe thead th {\n",
       "        text-align: right;\n",
       "    }\n",
       "</style>\n",
       "<table border=\"1\" class=\"dataframe\">\n",
       "  <thead>\n",
       "    <tr style=\"text-align: right;\">\n",
       "      <th></th>\n",
       "      <th>acc</th>\n",
       "      <th>iou</th>\n",
       "      <th>dice</th>\n",
       "    </tr>\n",
       "  </thead>\n",
       "  <tbody>\n",
       "    <tr>\n",
       "      <th>0</th>\n",
       "      <td>0.94083</td>\n",
       "      <td>0.584479</td>\n",
       "      <td>0.613663</td>\n",
       "    </tr>\n",
       "  </tbody>\n",
       "</table>\n",
       "</div>"
      ],
      "text/plain": [
       "       acc       iou      dice\n",
       "0  0.94083  0.584479  0.613663"
      ]
     },
     "execution_count": 12,
     "metadata": {},
     "output_type": "execute_result"
    }
   ],
   "source": [
    "print(model_name)\n",
    "print(resampling)\n",
    "dataset.evaluate(y_pred)"
   ]
  },
  {
   "cell_type": "code",
   "execution_count": 12,
   "id": "eb31bd5c-8a79-4fe5-b72b-46ad84057495",
   "metadata": {},
   "outputs": [
    {
     "name": "stdout",
     "output_type": "stream",
     "text": [
      "unet_29_07_2022_120212\n",
      "{2008: 8, 2009: 8, 2010: 6, 2011: 6, 2012: 6, 2013: 6, 2014: 4, 2015: 4, 2016: 4, 2017: 2, 2018: 2}\n",
      "Year 2008:          acc       iou      dice\n",
      "0  0.952793  0.286308  0.379634\n",
      "Year 2009:         acc       iou      dice\n",
      "0  0.94662  0.479613  0.487908\n",
      "Year 2010:          acc       iou      dice\n",
      "0  0.900956  0.270961  0.300758\n",
      "Year 2011:          acc       iou      dice\n",
      "0  0.993583  0.830854  0.832667\n",
      "Year 2012:          acc       iou      dice\n",
      "0  0.978556  0.842831  0.845861\n",
      "Year 2013:          acc       iou     dice\n",
      "0  0.837919  0.375882  0.41439\n",
      "Year 2014:          acc       iou      dice\n",
      "0  0.989671  0.680751  0.686894\n",
      "Year 2015:          acc       iou      dice\n",
      "0  0.889819  0.445146  0.509808\n",
      "Year 2016:          acc       iou      dice\n",
      "0  0.950422  0.493514  0.538708\n",
      "Year 2017:          acc       iou      dice\n",
      "0  0.998286  0.896129  0.897205\n",
      "Year 2018:          acc       iou      dice\n",
      "0  0.935285  0.633328  0.672044\n",
      "Total score:          acc       iou      dice\n",
      "0  0.939075  0.593245  0.618549\n"
     ]
    },
    {
     "data": {
      "text/html": [
       "<div>\n",
       "<style scoped>\n",
       "    .dataframe tbody tr th:only-of-type {\n",
       "        vertical-align: middle;\n",
       "    }\n",
       "\n",
       "    .dataframe tbody tr th {\n",
       "        vertical-align: top;\n",
       "    }\n",
       "\n",
       "    .dataframe thead th {\n",
       "        text-align: right;\n",
       "    }\n",
       "</style>\n",
       "<table border=\"1\" class=\"dataframe\">\n",
       "  <thead>\n",
       "    <tr style=\"text-align: right;\">\n",
       "      <th></th>\n",
       "      <th>acc</th>\n",
       "      <th>iou</th>\n",
       "      <th>dice</th>\n",
       "    </tr>\n",
       "  </thead>\n",
       "  <tbody>\n",
       "    <tr>\n",
       "      <th>0</th>\n",
       "      <td>0.939075</td>\n",
       "      <td>0.593245</td>\n",
       "      <td>0.618549</td>\n",
       "    </tr>\n",
       "  </tbody>\n",
       "</table>\n",
       "</div>"
      ],
      "text/plain": [
       "        acc       iou      dice\n",
       "0  0.939075  0.593245  0.618549"
      ]
     },
     "execution_count": 12,
     "metadata": {},
     "output_type": "execute_result"
    }
   ],
   "source": [
    "print(model_name)\n",
    "print(resampling)\n",
    "dataset.evaluate(y_pred)"
   ]
  },
  {
   "cell_type": "code",
   "execution_count": null,
   "id": "f9f0a774-bfa0-42aa-bc19-1266755331fb",
   "metadata": {},
   "outputs": [],
   "source": []
  },
  {
   "cell_type": "code",
   "execution_count": null,
   "id": "0caf15df-53f0-45da-9377-1de87a8e5ecb",
   "metadata": {},
   "outputs": [],
   "source": []
  },
  {
   "cell_type": "code",
   "execution_count": 13,
   "id": "602ffc77-066c-4879-9408-15d417fced3a",
   "metadata": {},
   "outputs": [
    {
     "name": "stdout",
     "output_type": "stream",
     "text": [
      "unet_19_07_2022_115722\n",
      "{2008: 8, 2009: 8, 2010: 6, 2011: 6, 2012: 6, 2013: 6, 2014: 6, 2015: 6, 2016: 6, 2017: 2, 2018: 2}\n",
      "Year 2008:          acc       iou      dice\n",
      "0  0.956459  0.202087  0.214328\n",
      "Year 2009:          acc       iou      dice\n",
      "0  0.949152  0.509945  0.513385\n",
      "Year 2010:          acc       iou      dice\n",
      "0  0.942054  0.425193  0.445568\n",
      "Year 2011:          acc       iou      dice\n",
      "0  0.995606  0.856916  0.858888\n",
      "Year 2012:         acc       iou      dice\n",
      "0  0.99345  0.881949  0.881953\n",
      "Year 2013:          acc       iou      dice\n",
      "0  0.854746  0.395566  0.409318\n",
      "Year 2014:          acc       iou     dice\n",
      "0  0.988347  0.736592  0.73929\n",
      "Year 2015:          acc       iou      dice\n",
      "0  0.896149  0.422556  0.439457\n",
      "Year 2016:          acc      iou      dice\n",
      "0  0.937132  0.52262  0.535424\n",
      "Year 2017:          acc       iou      dice\n",
      "0  0.998246  0.891423  0.891957\n",
      "Year 2018:          acc       iou      dice\n",
      "0  0.936259  0.625794  0.659467\n",
      "Total score:          acc       iou      dice\n",
      "0  0.945257  0.617377  0.628703\n"
     ]
    },
    {
     "data": {
      "text/html": [
       "<div>\n",
       "<style scoped>\n",
       "    .dataframe tbody tr th:only-of-type {\n",
       "        vertical-align: middle;\n",
       "    }\n",
       "\n",
       "    .dataframe tbody tr th {\n",
       "        vertical-align: top;\n",
       "    }\n",
       "\n",
       "    .dataframe thead th {\n",
       "        text-align: right;\n",
       "    }\n",
       "</style>\n",
       "<table border=\"1\" class=\"dataframe\">\n",
       "  <thead>\n",
       "    <tr style=\"text-align: right;\">\n",
       "      <th></th>\n",
       "      <th>acc</th>\n",
       "      <th>iou</th>\n",
       "      <th>dice</th>\n",
       "    </tr>\n",
       "  </thead>\n",
       "  <tbody>\n",
       "    <tr>\n",
       "      <th>0</th>\n",
       "      <td>0.945257</td>\n",
       "      <td>0.617377</td>\n",
       "      <td>0.628703</td>\n",
       "    </tr>\n",
       "  </tbody>\n",
       "</table>\n",
       "</div>"
      ],
      "text/plain": [
       "        acc       iou      dice\n",
       "0  0.945257  0.617377  0.628703"
      ]
     },
     "execution_count": 13,
     "metadata": {},
     "output_type": "execute_result"
    }
   ],
   "source": [
    "print(model_name)\n",
    "print(resampling)\n",
    "dataset.evaluate(y_pred)"
   ]
  },
  {
   "cell_type": "code",
   "execution_count": 12,
   "id": "9e480c82-3e34-441c-b512-f080981b7c53",
   "metadata": {},
   "outputs": [
    {
     "name": "stdout",
     "output_type": "stream",
     "text": [
      "unet_18_07_2022_150108\n",
      "{2008: 8, 2009: 8, 2010: 6, 2011: 6, 2012: 6, 2013: 6, 2014: 6, 2015: 6, 2016: 6, 2017: 2, 2018: 2}\n",
      "Year 2008:         acc       iou      dice\n",
      "0  0.95733  0.290562  0.381926\n",
      "Year 2009:          acc       iou      dice\n",
      "0  0.947572  0.477257  0.489306\n",
      "Year 2010:          acc       iou      dice\n",
      "0  0.917333  0.288468  0.332361\n",
      "Year 2011:         acc       iou      dice\n",
      "0  0.99345  0.803194  0.810177\n",
      "Year 2012:          acc       iou      dice\n",
      "0  0.993028  0.892245  0.892693\n",
      "Year 2013:         acc       iou      dice\n",
      "0  0.84869  0.377381  0.414518\n",
      "Year 2014:          acc       iou      dice\n",
      "0  0.959152  0.660978  0.668311\n",
      "Year 2015:          acc       iou      dice\n",
      "0  0.895037  0.405684  0.433288\n",
      "Year 2016:          acc       iou      dice\n",
      "0  0.932975  0.492473  0.521219\n",
      "Year 2017:          acc       iou      dice\n",
      "0  0.998256  0.889736  0.893398\n",
      "Year 2018:          acc       iou      dice\n",
      "0  0.934697  0.617591  0.655715\n",
      "Total score:          acc       iou      dice\n",
      "0  0.939123  0.585984  0.608846\n"
     ]
    },
    {
     "data": {
      "text/html": [
       "<div>\n",
       "<style scoped>\n",
       "    .dataframe tbody tr th:only-of-type {\n",
       "        vertical-align: middle;\n",
       "    }\n",
       "\n",
       "    .dataframe tbody tr th {\n",
       "        vertical-align: top;\n",
       "    }\n",
       "\n",
       "    .dataframe thead th {\n",
       "        text-align: right;\n",
       "    }\n",
       "</style>\n",
       "<table border=\"1\" class=\"dataframe\">\n",
       "  <thead>\n",
       "    <tr style=\"text-align: right;\">\n",
       "      <th></th>\n",
       "      <th>acc</th>\n",
       "      <th>iou</th>\n",
       "      <th>dice</th>\n",
       "    </tr>\n",
       "  </thead>\n",
       "  <tbody>\n",
       "    <tr>\n",
       "      <th>0</th>\n",
       "      <td>0.939123</td>\n",
       "      <td>0.585984</td>\n",
       "      <td>0.608846</td>\n",
       "    </tr>\n",
       "  </tbody>\n",
       "</table>\n",
       "</div>"
      ],
      "text/plain": [
       "        acc       iou      dice\n",
       "0  0.939123  0.585984  0.608846"
      ]
     },
     "execution_count": 12,
     "metadata": {},
     "output_type": "execute_result"
    }
   ],
   "source": [
    "print(model_name)\n",
    "print(resampling)\n",
    "dataset.evaluate(y_pred)"
   ]
  }
 ],
 "metadata": {
  "kernelspec": {
   "display_name": "Python 3 (ipykernel)",
   "language": "python",
   "name": "python3"
  },
  "language_info": {
   "codemirror_mode": {
    "name": "ipython",
    "version": 3
   },
   "file_extension": ".py",
   "mimetype": "text/x-python",
   "name": "python",
   "nbconvert_exporter": "python",
   "pygments_lexer": "ipython3",
   "version": "3.8.10"
  }
 },
 "nbformat": 4,
 "nbformat_minor": 5
}
